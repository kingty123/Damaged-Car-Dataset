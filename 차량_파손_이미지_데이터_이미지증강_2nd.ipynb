{
  "nbformat": 4,
  "nbformat_minor": 0,
  "metadata": {
    "colab": {
      "provenance": [],
      "gpuType": "T4"
    },
    "kernelspec": {
      "name": "python3",
      "display_name": "Python 3"
    },
    "language_info": {
      "name": "python"
    },
    "accelerator": "GPU"
  },
  "cells": [
    {
      "cell_type": "code",
      "source": [
        "# Introduction\n",
        "# 사고 자동차 이미지를 수집한 AI 데이터셋으로, 차량 외관 부품의 세그멘테이션과 손상 유형 및 범위를 이해할 수 있는 형태로 가공된 다양한 차종 및 부품에 대한 학습 데이터셋 구축"
      ],
      "metadata": {
        "id": "oqHfuKem8yC_"
      },
      "execution_count": null,
      "outputs": []
    },
    {
      "cell_type": "code",
      "source": [
        "# Obgective\n",
        "# 자동차 사고 시 발생하는 다양한 유형의 사고 이미지로부터 손상 유형, 손상 부위, 손상 심각도를 도출해낼 수 있는 인공지능 개발을 위한 데이터셋"
      ],
      "metadata": {
        "id": "sdJfV9w0818G"
      },
      "execution_count": null,
      "outputs": []
    },
    {
      "cell_type": "code",
      "source": [
        "# Damaged Veichle Data_Sample.zip 파일을 압축 해제\n",
        "\n",
        "import zipfile\n",
        "import os\n",
        "\n",
        "# 파일 경로를 지정합니다.\n",
        "zip_file_path = '/content/Damaged Veichle Data_Sample.zip'  # 실제 파일 경로로 변경해야 합니다.\n",
        "\n",
        "# 압축 해제할 디렉토리 경로를 지정합니다. (현재 디렉토리에 압축을 해제합니다.)\n",
        "extract_dir = '/content'\n",
        "\n",
        "# 압축 파일이 존재하는지 확인합니다.\n",
        "if not os.path.exists(zip_file_path):\n",
        "    print(f\"Error: {zip_file_path} not found.\")\n",
        "else:\n",
        "    try:\n",
        "        with zipfile.ZipFile(zip_file_path, 'r') as zip_ref:\n",
        "            zip_ref.extractall(extract_dir)\n",
        "        print(f\"Successfully extracted {zip_file_path} to {extract_dir}\")\n",
        "\n",
        "    except zipfile.BadZipFile:\n",
        "        print(f\"Error: {zip_file_path} is not a valid zip file.\")\n",
        "    except Exception as e:\n",
        "        print(f\"An error occurred: {e}\")"
      ],
      "metadata": {
        "id": "rprDBj67lSLa",
        "colab": {
          "base_uri": "https://localhost:8080/"
        },
        "outputId": "73b7f57f-72bd-4c80-8757-6f2a4e152554"
      },
      "execution_count": 2,
      "outputs": [
        {
          "output_type": "stream",
          "name": "stdout",
          "text": [
            "Successfully extracted /content/Damaged Veichle Data_Sample.zip to /content\n"
          ]
        }
      ]
    },
    {
      "cell_type": "code",
      "source": [
        "# /content/Damaged Veichle Data_Sample/labeling data/TL_damage/damage\n",
        "import json\n",
        "import glob\n",
        "import os\n",
        "import pandas as pd\n",
        "\n",
        "# JSON 파일 경로 설정\n",
        "json_path = '/content/Damaged Veichle Data_Sample/labeling data/TL_damage/damage/*.json'\n",
        "\n",
        "# 모든 JSON 파일 로드\n",
        "data = []\n",
        "\n",
        "for file in glob.glob(json_path):\n",
        "    with open(file, 'r', encoding='utf-8') as f:\n",
        "        json_data = json.load(f)\n",
        "        #print(f\"Loading data from: {file}\")  # 파일 이름 출력\n",
        "\n",
        "        # 필요한 데이터 추출\n",
        "        if 'annotations' in json_data:  # annotations 키 확인\n",
        "            for annotation in json_data['annotations']:\n",
        "                data.append({\n",
        "                    'category_id': annotation.get('category_id', None),\n",
        "                    'damage': annotation.get('damage', None),\n",
        "                    'color': annotation.get('color', None),\n",
        "                    'file_name': json_data['images']['file_name']  # 이미지 파일 이름 추가\n",
        "                })\n",
        "\n",
        "# 데이터프레임 생성\n",
        "df = pd.DataFrame(data)"
      ],
      "metadata": {
        "id": "vvkMsajNLWyM"
      },
      "execution_count": 3,
      "outputs": []
    },
    {
      "cell_type": "code",
      "source": [
        "df"
      ],
      "metadata": {
        "colab": {
          "base_uri": "https://localhost:8080/",
          "height": 424
        },
        "id": "1QH4qYx8Uaf1",
        "outputId": "9f6008eb-da9d-4613-81fd-cdbb5eec793f"
      },
      "execution_count": 4,
      "outputs": [
        {
          "output_type": "execute_result",
          "data": {
            "text/plain": [
              "     category_id     damage      color               file_name\n",
              "0      sc-148576  Scratched      White   0369940_sc-148576.jpg\n",
              "1      sc-148576  Scratched      White   0369940_sc-148576.jpg\n",
              "2      sc-148576  Scratched      White   0369940_sc-148576.jpg\n",
              "3      sc-148576  Scratched      White   0369940_sc-148576.jpg\n",
              "4      sc-163472  Scratched      White   0097870_sc-163472.jpg\n",
              "...          ...        ...        ...                     ...\n",
              "3793   sc-143081   Breakage      White   0141496_sc-143081.jpg\n",
              "3794   sc-143081   Breakage      White   0141496_sc-143081.jpg\n",
              "3795   sc-143081  Scratched      White   0141496_sc-143081.jpg\n",
              "3796  as-2702050  Separated  Blue tone  0250749_as-2702050.jpg\n",
              "3797   sc-222398   Breakage      White   0228835_sc-222398.jpg\n",
              "\n",
              "[3798 rows x 4 columns]"
            ],
            "text/html": [
              "\n",
              "  <div id=\"df-ddf4b6f1-c1f4-4632-94b5-a768d988e768\" class=\"colab-df-container\">\n",
              "    <div>\n",
              "<style scoped>\n",
              "    .dataframe tbody tr th:only-of-type {\n",
              "        vertical-align: middle;\n",
              "    }\n",
              "\n",
              "    .dataframe tbody tr th {\n",
              "        vertical-align: top;\n",
              "    }\n",
              "\n",
              "    .dataframe thead th {\n",
              "        text-align: right;\n",
              "    }\n",
              "</style>\n",
              "<table border=\"1\" class=\"dataframe\">\n",
              "  <thead>\n",
              "    <tr style=\"text-align: right;\">\n",
              "      <th></th>\n",
              "      <th>category_id</th>\n",
              "      <th>damage</th>\n",
              "      <th>color</th>\n",
              "      <th>file_name</th>\n",
              "    </tr>\n",
              "  </thead>\n",
              "  <tbody>\n",
              "    <tr>\n",
              "      <th>0</th>\n",
              "      <td>sc-148576</td>\n",
              "      <td>Scratched</td>\n",
              "      <td>White</td>\n",
              "      <td>0369940_sc-148576.jpg</td>\n",
              "    </tr>\n",
              "    <tr>\n",
              "      <th>1</th>\n",
              "      <td>sc-148576</td>\n",
              "      <td>Scratched</td>\n",
              "      <td>White</td>\n",
              "      <td>0369940_sc-148576.jpg</td>\n",
              "    </tr>\n",
              "    <tr>\n",
              "      <th>2</th>\n",
              "      <td>sc-148576</td>\n",
              "      <td>Scratched</td>\n",
              "      <td>White</td>\n",
              "      <td>0369940_sc-148576.jpg</td>\n",
              "    </tr>\n",
              "    <tr>\n",
              "      <th>3</th>\n",
              "      <td>sc-148576</td>\n",
              "      <td>Scratched</td>\n",
              "      <td>White</td>\n",
              "      <td>0369940_sc-148576.jpg</td>\n",
              "    </tr>\n",
              "    <tr>\n",
              "      <th>4</th>\n",
              "      <td>sc-163472</td>\n",
              "      <td>Scratched</td>\n",
              "      <td>White</td>\n",
              "      <td>0097870_sc-163472.jpg</td>\n",
              "    </tr>\n",
              "    <tr>\n",
              "      <th>...</th>\n",
              "      <td>...</td>\n",
              "      <td>...</td>\n",
              "      <td>...</td>\n",
              "      <td>...</td>\n",
              "    </tr>\n",
              "    <tr>\n",
              "      <th>3793</th>\n",
              "      <td>sc-143081</td>\n",
              "      <td>Breakage</td>\n",
              "      <td>White</td>\n",
              "      <td>0141496_sc-143081.jpg</td>\n",
              "    </tr>\n",
              "    <tr>\n",
              "      <th>3794</th>\n",
              "      <td>sc-143081</td>\n",
              "      <td>Breakage</td>\n",
              "      <td>White</td>\n",
              "      <td>0141496_sc-143081.jpg</td>\n",
              "    </tr>\n",
              "    <tr>\n",
              "      <th>3795</th>\n",
              "      <td>sc-143081</td>\n",
              "      <td>Scratched</td>\n",
              "      <td>White</td>\n",
              "      <td>0141496_sc-143081.jpg</td>\n",
              "    </tr>\n",
              "    <tr>\n",
              "      <th>3796</th>\n",
              "      <td>as-2702050</td>\n",
              "      <td>Separated</td>\n",
              "      <td>Blue tone</td>\n",
              "      <td>0250749_as-2702050.jpg</td>\n",
              "    </tr>\n",
              "    <tr>\n",
              "      <th>3797</th>\n",
              "      <td>sc-222398</td>\n",
              "      <td>Breakage</td>\n",
              "      <td>White</td>\n",
              "      <td>0228835_sc-222398.jpg</td>\n",
              "    </tr>\n",
              "  </tbody>\n",
              "</table>\n",
              "<p>3798 rows × 4 columns</p>\n",
              "</div>\n",
              "    <div class=\"colab-df-buttons\">\n",
              "\n",
              "  <div class=\"colab-df-container\">\n",
              "    <button class=\"colab-df-convert\" onclick=\"convertToInteractive('df-ddf4b6f1-c1f4-4632-94b5-a768d988e768')\"\n",
              "            title=\"Convert this dataframe to an interactive table.\"\n",
              "            style=\"display:none;\">\n",
              "\n",
              "  <svg xmlns=\"http://www.w3.org/2000/svg\" height=\"24px\" viewBox=\"0 -960 960 960\">\n",
              "    <path d=\"M120-120v-720h720v720H120Zm60-500h600v-160H180v160Zm220 220h160v-160H400v160Zm0 220h160v-160H400v160ZM180-400h160v-160H180v160Zm440 0h160v-160H620v160ZM180-180h160v-160H180v160Zm440 0h160v-160H620v160Z\"/>\n",
              "  </svg>\n",
              "    </button>\n",
              "\n",
              "  <style>\n",
              "    .colab-df-container {\n",
              "      display:flex;\n",
              "      gap: 12px;\n",
              "    }\n",
              "\n",
              "    .colab-df-convert {\n",
              "      background-color: #E8F0FE;\n",
              "      border: none;\n",
              "      border-radius: 50%;\n",
              "      cursor: pointer;\n",
              "      display: none;\n",
              "      fill: #1967D2;\n",
              "      height: 32px;\n",
              "      padding: 0 0 0 0;\n",
              "      width: 32px;\n",
              "    }\n",
              "\n",
              "    .colab-df-convert:hover {\n",
              "      background-color: #E2EBFA;\n",
              "      box-shadow: 0px 1px 2px rgba(60, 64, 67, 0.3), 0px 1px 3px 1px rgba(60, 64, 67, 0.15);\n",
              "      fill: #174EA6;\n",
              "    }\n",
              "\n",
              "    .colab-df-buttons div {\n",
              "      margin-bottom: 4px;\n",
              "    }\n",
              "\n",
              "    [theme=dark] .colab-df-convert {\n",
              "      background-color: #3B4455;\n",
              "      fill: #D2E3FC;\n",
              "    }\n",
              "\n",
              "    [theme=dark] .colab-df-convert:hover {\n",
              "      background-color: #434B5C;\n",
              "      box-shadow: 0px 1px 3px 1px rgba(0, 0, 0, 0.15);\n",
              "      filter: drop-shadow(0px 1px 2px rgba(0, 0, 0, 0.3));\n",
              "      fill: #FFFFFF;\n",
              "    }\n",
              "  </style>\n",
              "\n",
              "    <script>\n",
              "      const buttonEl =\n",
              "        document.querySelector('#df-ddf4b6f1-c1f4-4632-94b5-a768d988e768 button.colab-df-convert');\n",
              "      buttonEl.style.display =\n",
              "        google.colab.kernel.accessAllowed ? 'block' : 'none';\n",
              "\n",
              "      async function convertToInteractive(key) {\n",
              "        const element = document.querySelector('#df-ddf4b6f1-c1f4-4632-94b5-a768d988e768');\n",
              "        const dataTable =\n",
              "          await google.colab.kernel.invokeFunction('convertToInteractive',\n",
              "                                                    [key], {});\n",
              "        if (!dataTable) return;\n",
              "\n",
              "        const docLinkHtml = 'Like what you see? Visit the ' +\n",
              "          '<a target=\"_blank\" href=https://colab.research.google.com/notebooks/data_table.ipynb>data table notebook</a>'\n",
              "          + ' to learn more about interactive tables.';\n",
              "        element.innerHTML = '';\n",
              "        dataTable['output_type'] = 'display_data';\n",
              "        await google.colab.output.renderOutput(dataTable, element);\n",
              "        const docLink = document.createElement('div');\n",
              "        docLink.innerHTML = docLinkHtml;\n",
              "        element.appendChild(docLink);\n",
              "      }\n",
              "    </script>\n",
              "  </div>\n",
              "\n",
              "\n",
              "<div id=\"df-3f1facdb-f4b3-4a6a-b23f-d47093bf5cc6\">\n",
              "  <button class=\"colab-df-quickchart\" onclick=\"quickchart('df-3f1facdb-f4b3-4a6a-b23f-d47093bf5cc6')\"\n",
              "            title=\"Suggest charts\"\n",
              "            style=\"display:none;\">\n",
              "\n",
              "<svg xmlns=\"http://www.w3.org/2000/svg\" height=\"24px\"viewBox=\"0 0 24 24\"\n",
              "     width=\"24px\">\n",
              "    <g>\n",
              "        <path d=\"M19 3H5c-1.1 0-2 .9-2 2v14c0 1.1.9 2 2 2h14c1.1 0 2-.9 2-2V5c0-1.1-.9-2-2-2zM9 17H7v-7h2v7zm4 0h-2V7h2v10zm4 0h-2v-4h2v4z\"/>\n",
              "    </g>\n",
              "</svg>\n",
              "  </button>\n",
              "\n",
              "<style>\n",
              "  .colab-df-quickchart {\n",
              "      --bg-color: #E8F0FE;\n",
              "      --fill-color: #1967D2;\n",
              "      --hover-bg-color: #E2EBFA;\n",
              "      --hover-fill-color: #174EA6;\n",
              "      --disabled-fill-color: #AAA;\n",
              "      --disabled-bg-color: #DDD;\n",
              "  }\n",
              "\n",
              "  [theme=dark] .colab-df-quickchart {\n",
              "      --bg-color: #3B4455;\n",
              "      --fill-color: #D2E3FC;\n",
              "      --hover-bg-color: #434B5C;\n",
              "      --hover-fill-color: #FFFFFF;\n",
              "      --disabled-bg-color: #3B4455;\n",
              "      --disabled-fill-color: #666;\n",
              "  }\n",
              "\n",
              "  .colab-df-quickchart {\n",
              "    background-color: var(--bg-color);\n",
              "    border: none;\n",
              "    border-radius: 50%;\n",
              "    cursor: pointer;\n",
              "    display: none;\n",
              "    fill: var(--fill-color);\n",
              "    height: 32px;\n",
              "    padding: 0;\n",
              "    width: 32px;\n",
              "  }\n",
              "\n",
              "  .colab-df-quickchart:hover {\n",
              "    background-color: var(--hover-bg-color);\n",
              "    box-shadow: 0 1px 2px rgba(60, 64, 67, 0.3), 0 1px 3px 1px rgba(60, 64, 67, 0.15);\n",
              "    fill: var(--button-hover-fill-color);\n",
              "  }\n",
              "\n",
              "  .colab-df-quickchart-complete:disabled,\n",
              "  .colab-df-quickchart-complete:disabled:hover {\n",
              "    background-color: var(--disabled-bg-color);\n",
              "    fill: var(--disabled-fill-color);\n",
              "    box-shadow: none;\n",
              "  }\n",
              "\n",
              "  .colab-df-spinner {\n",
              "    border: 2px solid var(--fill-color);\n",
              "    border-color: transparent;\n",
              "    border-bottom-color: var(--fill-color);\n",
              "    animation:\n",
              "      spin 1s steps(1) infinite;\n",
              "  }\n",
              "\n",
              "  @keyframes spin {\n",
              "    0% {\n",
              "      border-color: transparent;\n",
              "      border-bottom-color: var(--fill-color);\n",
              "      border-left-color: var(--fill-color);\n",
              "    }\n",
              "    20% {\n",
              "      border-color: transparent;\n",
              "      border-left-color: var(--fill-color);\n",
              "      border-top-color: var(--fill-color);\n",
              "    }\n",
              "    30% {\n",
              "      border-color: transparent;\n",
              "      border-left-color: var(--fill-color);\n",
              "      border-top-color: var(--fill-color);\n",
              "      border-right-color: var(--fill-color);\n",
              "    }\n",
              "    40% {\n",
              "      border-color: transparent;\n",
              "      border-right-color: var(--fill-color);\n",
              "      border-top-color: var(--fill-color);\n",
              "    }\n",
              "    60% {\n",
              "      border-color: transparent;\n",
              "      border-right-color: var(--fill-color);\n",
              "    }\n",
              "    80% {\n",
              "      border-color: transparent;\n",
              "      border-right-color: var(--fill-color);\n",
              "      border-bottom-color: var(--fill-color);\n",
              "    }\n",
              "    90% {\n",
              "      border-color: transparent;\n",
              "      border-bottom-color: var(--fill-color);\n",
              "    }\n",
              "  }\n",
              "</style>\n",
              "\n",
              "  <script>\n",
              "    async function quickchart(key) {\n",
              "      const quickchartButtonEl =\n",
              "        document.querySelector('#' + key + ' button');\n",
              "      quickchartButtonEl.disabled = true;  // To prevent multiple clicks.\n",
              "      quickchartButtonEl.classList.add('colab-df-spinner');\n",
              "      try {\n",
              "        const charts = await google.colab.kernel.invokeFunction(\n",
              "            'suggestCharts', [key], {});\n",
              "      } catch (error) {\n",
              "        console.error('Error during call to suggestCharts:', error);\n",
              "      }\n",
              "      quickchartButtonEl.classList.remove('colab-df-spinner');\n",
              "      quickchartButtonEl.classList.add('colab-df-quickchart-complete');\n",
              "    }\n",
              "    (() => {\n",
              "      let quickchartButtonEl =\n",
              "        document.querySelector('#df-3f1facdb-f4b3-4a6a-b23f-d47093bf5cc6 button');\n",
              "      quickchartButtonEl.style.display =\n",
              "        google.colab.kernel.accessAllowed ? 'block' : 'none';\n",
              "    })();\n",
              "  </script>\n",
              "</div>\n",
              "\n",
              "  <div id=\"id_bb3cfa7f-dd38-4cd5-bc33-6d355198821e\">\n",
              "    <style>\n",
              "      .colab-df-generate {\n",
              "        background-color: #E8F0FE;\n",
              "        border: none;\n",
              "        border-radius: 50%;\n",
              "        cursor: pointer;\n",
              "        display: none;\n",
              "        fill: #1967D2;\n",
              "        height: 32px;\n",
              "        padding: 0 0 0 0;\n",
              "        width: 32px;\n",
              "      }\n",
              "\n",
              "      .colab-df-generate:hover {\n",
              "        background-color: #E2EBFA;\n",
              "        box-shadow: 0px 1px 2px rgba(60, 64, 67, 0.3), 0px 1px 3px 1px rgba(60, 64, 67, 0.15);\n",
              "        fill: #174EA6;\n",
              "      }\n",
              "\n",
              "      [theme=dark] .colab-df-generate {\n",
              "        background-color: #3B4455;\n",
              "        fill: #D2E3FC;\n",
              "      }\n",
              "\n",
              "      [theme=dark] .colab-df-generate:hover {\n",
              "        background-color: #434B5C;\n",
              "        box-shadow: 0px 1px 3px 1px rgba(0, 0, 0, 0.15);\n",
              "        filter: drop-shadow(0px 1px 2px rgba(0, 0, 0, 0.3));\n",
              "        fill: #FFFFFF;\n",
              "      }\n",
              "    </style>\n",
              "    <button class=\"colab-df-generate\" onclick=\"generateWithVariable('df')\"\n",
              "            title=\"Generate code using this dataframe.\"\n",
              "            style=\"display:none;\">\n",
              "\n",
              "  <svg xmlns=\"http://www.w3.org/2000/svg\" height=\"24px\"viewBox=\"0 0 24 24\"\n",
              "       width=\"24px\">\n",
              "    <path d=\"M7,19H8.4L18.45,9,17,7.55,7,17.6ZM5,21V16.75L18.45,3.32a2,2,0,0,1,2.83,0l1.4,1.43a1.91,1.91,0,0,1,.58,1.4,1.91,1.91,0,0,1-.58,1.4L9.25,21ZM18.45,9,17,7.55Zm-12,3A5.31,5.31,0,0,0,4.9,8.1,5.31,5.31,0,0,0,1,6.5,5.31,5.31,0,0,0,4.9,4.9,5.31,5.31,0,0,0,6.5,1,5.31,5.31,0,0,0,8.1,4.9,5.31,5.31,0,0,0,12,6.5,5.46,5.46,0,0,0,6.5,12Z\"/>\n",
              "  </svg>\n",
              "    </button>\n",
              "    <script>\n",
              "      (() => {\n",
              "      const buttonEl =\n",
              "        document.querySelector('#id_bb3cfa7f-dd38-4cd5-bc33-6d355198821e button.colab-df-generate');\n",
              "      buttonEl.style.display =\n",
              "        google.colab.kernel.accessAllowed ? 'block' : 'none';\n",
              "\n",
              "      buttonEl.onclick = () => {\n",
              "        google.colab.notebook.generateWithVariable('df');\n",
              "      }\n",
              "      })();\n",
              "    </script>\n",
              "  </div>\n",
              "\n",
              "    </div>\n",
              "  </div>\n"
            ],
            "application/vnd.google.colaboratory.intrinsic+json": {
              "type": "dataframe",
              "variable_name": "df",
              "summary": "{\n  \"name\": \"df\",\n  \"rows\": 3798,\n  \"fields\": [\n    {\n      \"column\": \"category_id\",\n      \"properties\": {\n        \"dtype\": \"category\",\n        \"num_unique_values\": 1063,\n        \"samples\": [\n          \"sc-155537\",\n          \"sc-128467\",\n          \"sc-113220\"\n        ],\n        \"semantic_type\": \"\",\n        \"description\": \"\"\n      }\n    },\n    {\n      \"column\": \"damage\",\n      \"properties\": {\n        \"dtype\": \"category\",\n        \"num_unique_values\": 4,\n        \"samples\": [\n          \"Breakage\",\n          \"Crushed\",\n          \"Scratched\"\n        ],\n        \"semantic_type\": \"\",\n        \"description\": \"\"\n      }\n    },\n    {\n      \"column\": \"color\",\n      \"properties\": {\n        \"dtype\": \"category\",\n        \"num_unique_values\": 6,\n        \"samples\": [\n          \"White\",\n          \"Black\",\n          \"Gray tone\"\n        ],\n        \"semantic_type\": \"\",\n        \"description\": \"\"\n      }\n    },\n    {\n      \"column\": \"file_name\",\n      \"properties\": {\n        \"dtype\": \"category\",\n        \"num_unique_values\": 1200,\n        \"samples\": [\n          \"0166707_sc-128848.jpg\",\n          \"0347723_sc-134462.jpg\",\n          \"0468337_as-0098735.jpg\"\n        ],\n        \"semantic_type\": \"\",\n        \"description\": \"\"\n      }\n    }\n  ]\n}"
            }
          },
          "metadata": {},
          "execution_count": 4
        }
      ]
    },
    {
      "cell_type": "code",
      "source": [
        "# 파이차트로 damage의 비중을 나타내는 코드를 만들기\n",
        "\n",
        "import pandas as pd\n",
        "import matplotlib.pyplot as plt\n",
        "\n",
        "# Assuming 'df' is your DataFrame as defined in the previous code\n",
        "\n",
        "# Count the occurrences of each damage type\n",
        "damage_counts = df['damage'].value_counts()\n",
        "\n",
        "# Create the pie chart\n",
        "plt.figure(figsize=(5, 5))  # Adjust figure size as needed\n",
        "plt.pie(damage_counts, labels=damage_counts.index, autopct='%1.1f%%', startangle=90)\n",
        "plt.title('Distribution of Damage Types')\n",
        "plt.axis('equal')  # Equal aspect ratio ensures that pie is drawn as a circle.\n",
        "plt.show()"
      ],
      "metadata": {
        "id": "Fp_EYBjbUnmr",
        "colab": {
          "base_uri": "https://localhost:8080/",
          "height": 444
        },
        "outputId": "63f0fc57-bc43-45c6-a8d0-ab48e02f78a3"
      },
      "execution_count": 5,
      "outputs": [
        {
          "output_type": "display_data",
          "data": {
            "text/plain": [
              "<Figure size 500x500 with 1 Axes>"
            ],
            "image/png": "[encoded data removed]"
          },
          "metadata": {}
        }
      ]
    },
    {
      "cell_type": "code",
      "source": [
        "# damage 유형에 해당하는 Scratched, Seperated, Crushed, Breakage의 개수를 나타내는 히스토그램 생성\n",
        "\n",
        "import matplotlib.pyplot as plt\n",
        "\n",
        "# Assuming 'df' is your DataFrame as defined in the previous code\n",
        "\n",
        "# Count the occurrences of each damage type\n",
        "damage_counts = df['damage'].value_counts()\n",
        "\n",
        "# Create the histogram\n",
        "plt.figure(figsize=(8, 4))\n",
        "plt.bar(damage_counts.index, damage_counts.values)\n",
        "plt.xlabel(\"Damage Type\")\n",
        "plt.ylabel(\"Count\")\n",
        "plt.title(\"Histogram of Damage Types\")\n",
        "plt.xticks(rotation=45, ha=\"right\")  # Rotate x-axis labels for better readability\n",
        "plt.tight_layout()  # Adjust layout to prevent labels from overlapping\n",
        "plt.show()"
      ],
      "metadata": {
        "colab": {
          "base_uri": "https://localhost:8080/",
          "height": 407
        },
        "id": "agFnxGqfKEVf",
        "outputId": "56f23117-2937-4c8e-d0e3-6e510dcebbee"
      },
      "execution_count": 6,
      "outputs": [
        {
          "output_type": "display_data",
          "data": {
            "text/plain": [
              "<Figure size 800x400 with 1 Axes>"
            ],
            "image/png": "[encoded data removed]"
          },
          "metadata": {}
        }
      ]
    },
    {
      "cell_type": "code",
      "source": [
        "# df에서 filename에 따른 damage 유형을 확인하는 코드를 만들기\n",
        "\n",
        "# Display damage types for each filename\n",
        "filename_damage = df.groupby('file_name')['damage'].apply(list)\n",
        "filename_damage"
      ],
      "metadata": {
        "colab": {
          "base_uri": "https://localhost:8080/",
          "height": 490
        },
        "id": "ksmBtKOUuB3p",
        "outputId": "3a6185e6-8979-4482-e52b-fbbd3528769e"
      },
      "execution_count": 8,
      "outputs": [
        {
          "output_type": "execute_result",
          "data": {
            "text/plain": [
              "file_name\n",
              "0000459_sc-226797.jpg                                           [Separated]\n",
              "0000802_as-7929891.jpg                                 [Crushed, Scratched]\n",
              "0001061_sc-123724.jpg     [Separated, Scratched, Scratched, Scratched, S...\n",
              "0001146_sc-149689.jpg                                            [Breakage]\n",
              "0001505_as-2951606.jpg            [Breakage, Separated, Separated, Crushed]\n",
              "                                                ...                        \n",
              "0505076_sc-207368.jpg     [Crushed, Scratched, Scratched, Scratched, Cru...\n",
              "0505091_as-0100005.jpg                                [Separated, Breakage]\n",
              "0505154_as-7511257.jpg                                [Breakage, Scratched]\n",
              "0506223_as-7125576.jpg                                 [Crushed, Scratched]\n",
              "0506224_as-3233185.jpg            [Breakage, Crushed, Scratched, Scratched]\n",
              "Name: damage, Length: 1200, dtype: object"
            ],
            "text/html": [
              "<div>\n",
              "<style scoped>\n",
              "    .dataframe tbody tr th:only-of-type {\n",
              "        vertical-align: middle;\n",
              "    }\n",
              "\n",
              "    .dataframe tbody tr th {\n",
              "        vertical-align: top;\n",
              "    }\n",
              "\n",
              "    .dataframe thead th {\n",
              "        text-align: right;\n",
              "    }\n",
              "</style>\n",
              "<table border=\"1\" class=\"dataframe\">\n",
              "  <thead>\n",
              "    <tr style=\"text-align: right;\">\n",
              "      <th></th>\n",
              "      <th>damage</th>\n",
              "    </tr>\n",
              "    <tr>\n",
              "      <th>file_name</th>\n",
              "      <th></th>\n",
              "    </tr>\n",
              "  </thead>\n",
              "  <tbody>\n",
              "    <tr>\n",
              "      <th>0000459_sc-226797.jpg</th>\n",
              "      <td>[Separated]</td>\n",
              "    </tr>\n",
              "    <tr>\n",
              "      <th>0000802_as-7929891.jpg</th>\n",
              "      <td>[Crushed, Scratched]</td>\n",
              "    </tr>\n",
              "    <tr>\n",
              "      <th>0001061_sc-123724.jpg</th>\n",
              "      <td>[Separated, Scratched, Scratched, Scratched, S...</td>\n",
              "    </tr>\n",
              "    <tr>\n",
              "      <th>0001146_sc-149689.jpg</th>\n",
              "      <td>[Breakage]</td>\n",
              "    </tr>\n",
              "    <tr>\n",
              "      <th>0001505_as-2951606.jpg</th>\n",
              "      <td>[Breakage, Separated, Separated, Crushed]</td>\n",
              "    </tr>\n",
              "    <tr>\n",
              "      <th>...</th>\n",
              "      <td>...</td>\n",
              "    </tr>\n",
              "    <tr>\n",
              "      <th>0505076_sc-207368.jpg</th>\n",
              "      <td>[Crushed, Scratched, Scratched, Scratched, Cru...</td>\n",
              "    </tr>\n",
              "    <tr>\n",
              "      <th>0505091_as-0100005.jpg</th>\n",
              "      <td>[Separated, Breakage]</td>\n",
              "    </tr>\n",
              "    <tr>\n",
              "      <th>0505154_as-7511257.jpg</th>\n",
              "      <td>[Breakage, Scratched]</td>\n",
              "    </tr>\n",
              "    <tr>\n",
              "      <th>0506223_as-7125576.jpg</th>\n",
              "      <td>[Crushed, Scratched]</td>\n",
              "    </tr>\n",
              "    <tr>\n",
              "      <th>0506224_as-3233185.jpg</th>\n",
              "      <td>[Breakage, Crushed, Scratched, Scratched]</td>\n",
              "    </tr>\n",
              "  </tbody>\n",
              "</table>\n",
              "<p>1200 rows × 1 columns</p>\n",
              "</div><br><label><b>dtype:</b> object</label>"
            ]
          },
          "metadata": {},
          "execution_count": 8
        }
      ]
    },
    {
      "cell_type": "code",
      "source": [
        "# filename_damage에서 damage 가 2개 이상 적힌 file_name만 나타내기\n",
        "\n",
        "filtered_filenames = filename_damage[filename_damage.apply(len) >= 2]\n",
        "\n",
        "# 필터링된 파일 이름 출력\n",
        "len(filtered_filenames)"
      ],
      "metadata": {
        "colab": {
          "base_uri": "https://localhost:8080/"
        },
        "id": "hdQdliXdfw1u",
        "outputId": "6eafbbf5-9cb4-4ae7-ef55-12f88a7cbb3e"
      },
      "execution_count": 9,
      "outputs": [
        {
          "output_type": "execute_result",
          "data": {
            "text/plain": [
              "855"
            ]
          },
          "metadata": {},
          "execution_count": 9
        }
      ]
    },
    {
      "cell_type": "markdown",
      "source": [
        "crop할 사진을 모을 파일 생성"
      ],
      "metadata": {
        "id": "RseckQXTXb4G"
      }
    },
    {
      "cell_type": "code",
      "source": [
        "# 필요한 라이브러리 호출\n",
        "import json\n",
        "import os\n",
        "from PIL import Image\n",
        "import glob\n"
      ],
      "metadata": {
        "id": "ozdjOii6JzNY"
      },
      "execution_count": 10,
      "outputs": []
    },
    {
      "cell_type": "code",
      "source": [
        "# 필요한 부분만 사진 crop 진행\n",
        "def crop_damages(image_path, json_path, output_dir):\n",
        "\n",
        "    \"\"\"\n",
        "    Crops images based on bounding box coordinates from a JSON file.\n",
        "    \"\"\"\n",
        "    try:\n",
        "        with open(json_path, 'r') as f:\n",
        "            json_data = json.load(f)\n",
        "    except FileNotFoundError:\n",
        "        print(f\"Error: JSON file not found at {json_path}\")\n",
        "        return\n",
        "    except json.JSONDecodeError:\n",
        "        print(f\"Error: Invalid JSON file at {json_path}\")\n",
        "\n",
        "        return\n",
        "\n",
        "    try:\n",
        "        with Image.open(image_path) as img:\n",
        "            # Convert image to RGB mode if it's RGBA\n",
        "            if img.mode == 'RGBA':\n",
        "                img = img.convert('RGB')\n",
        "\n",
        "            image_name = os.path.splitext(os.path.basename(image_path))[0]\n",
        "\n",
        "            for i, annotation in enumerate(json_data['annotations']):\n",
        "                bbox = annotation['bbox']\n",
        "                damage_type = annotation['damage']\n",
        "                left, top, width, height = bbox\n",
        "                right = left + width\n",
        "                bottom = top + height\n",
        "\n",
        "                try:\n",
        "                    cropped_img = img.crop((left, top, right, bottom))\n",
        "                    # Convert cropped image to RGB if necessary\n",
        "                    if cropped_img.mode == 'RGBA':\n",
        "                        cropped_img = cropped_img.convert('RGB')\n",
        "\n",
        "                    resized_img = cropped_img.resize((50, 50))\n",
        "\n",
        "                    output_filename = f\"{image_name}_{damage_type.lower()}_{i+1}.jpg\"\n",
        "                    output_path = os.path.join(output_dir, output_filename)\n",
        "                    resized_img.save(output_path, 'JPEG')\n",
        "\n",
        "                except Exception as e:\n",
        "                    print(f\"Error cropping image {image_path}: {e}\")\n",
        "    except FileNotFoundError:\n",
        "        print(f\"Error: Image file not found at {image_path}\")\n",
        "    except Exception as e:\n",
        "        print(f\"Error processing image {image_path}: {e}\")\n"
      ],
      "metadata": {
        "id": "M8DF7YGnM4Ma"
      },
      "execution_count": 11,
      "outputs": []
    },
    {
      "cell_type": "code",
      "source": [
        "# crop된 사진 저장할 파일 만들기\n",
        "def process_images(image_dir, json_dir, output_base_dir):\n",
        "\n",
        "    \"\"\"\n",
        "    Processes all images in the specified directory.\n",
        "    \"\"\"\n",
        "    if not os.path.exists(output_base_dir):\n",
        "        os.makedirs(output_base_dir)\n",
        "\n",
        "    image_files = glob.glob(os.path.join(image_dir, '*.jpg'))\n",
        "    for image_path in image_files:\n",
        "        image_name = os.path.splitext(os.path.basename(image_path))[0]\n",
        "        json_name = image_name + '.json'\n",
        "        json_path = os.path.join(json_dir, json_name)\n",
        "\n",
        "        output_dir = os.path.join(output_base_dir, image_name + \"_crops\")\n",
        "        if not os.path.exists(output_dir):\n",
        "            os.makedirs(output_dir)\n",
        "\n",
        "        crop_damages(image_path, json_path, output_dir)\n",
        "\n",
        "# Example usage\n",
        "image_directory = '/content/Damaged Veichle Data_Sample/raw data/TS_damage/damage/'\n",
        "json_directory = '/content/Damaged Veichle Data_Sample/labeling data/TL_damage/damage/'\n",
        "output_directory = '/content/crop_images'\n",
        "\n",
        "process_images(image_directory, json_directory, output_directory)"
      ],
      "metadata": {
        "id": "UVzslml1M8Ih"
      },
      "execution_count": 12,
      "outputs": []
    },
    {
      "cell_type": "markdown",
      "source": [
        "분류 모델 만들기"
      ],
      "metadata": {
        "id": "w2791ZAvl-uF"
      }
    },
    {
      "cell_type": "code",
      "source": [
        "import os\n",
        "import numpy as np\n",
        "from PIL import Image\n",
        "import tensorflow as tf\n",
        "from sklearn.model_selection import train_test_split\n",
        "from sklearn.metrics import f1_score\n",
        "import matplotlib.pyplot as plt"
      ],
      "metadata": {
        "id": "ZB-MqXUOIzrm"
      },
      "execution_count": 13,
      "outputs": []
    },
    {
      "cell_type": "markdown",
      "source": [
        "------------------------------------------------------------------------------"
      ],
      "metadata": {
        "id": "FefpR-9p65Cc"
      }
    },
    {
      "cell_type": "markdown",
      "source": [
        "crop_images 의 사진의 damage를 숫자로 인코딩\n"
      ],
      "metadata": {
        "id": "APBHK6bu69P9"
      }
    },
    {
      "cell_type": "code",
      "source": [
        "# 사진에 따른 damage 유형을 데이터 프레임으로 만들기\n",
        "df_all = pd.DataFrame(glob.glob('/content/crop_images/*/*'), columns=['file_name'])\n",
        "df_all"
      ],
      "metadata": {
        "colab": {
          "base_uri": "https://localhost:8080/",
          "height": 424
        },
        "id": "RvUFd10Bw-XA",
        "outputId": "90a79a5e-b247-4eba-efbe-3c961ebd87e3"
      },
      "execution_count": 15,
      "outputs": [
        {
          "output_type": "execute_result",
          "data": {
            "text/plain": [
              "                                              file_name\n",
              "0     /content/crop_images/0105230_sc-183329_crops/0...\n",
              "1     /content/crop_images/0105230_sc-183329_crops/0...\n",
              "2     /content/crop_images/0105230_sc-183329_crops/0...\n",
              "3     /content/crop_images/0105230_sc-183329_crops/0...\n",
              "4     /content/crop_images/0484948_sc-132079_crops/0...\n",
              "...                                                 ...\n",
              "3793  /content/crop_images/0125390_as-7509711_crops/...\n",
              "3794  /content/crop_images/0068041_sc-230154_crops/0...\n",
              "3795  /content/crop_images/0068041_sc-230154_crops/0...\n",
              "3796  /content/crop_images/0068041_sc-230154_crops/0...\n",
              "3797  /content/crop_images/0068041_sc-230154_crops/0...\n",
              "\n",
              "[3798 rows x 1 columns]"
            ],
            "text/html": [
              "\n",
              "  <div id=\"df-89459fd1-3d55-4742-af95-07546a1622f0\" class=\"colab-df-container\">\n",
              "    <div>\n",
              "<style scoped>\n",
              "    .dataframe tbody tr th:only-of-type {\n",
              "        vertical-align: middle;\n",
              "    }\n",
              "\n",
              "    .dataframe tbody tr th {\n",
              "        vertical-align: top;\n",
              "    }\n",
              "\n",
              "    .dataframe thead th {\n",
              "        text-align: right;\n",
              "    }\n",
              "</style>\n",
              "<table border=\"1\" class=\"dataframe\">\n",
              "  <thead>\n",
              "    <tr style=\"text-align: right;\">\n",
              "      <th></th>\n",
              "      <th>file_name</th>\n",
              "    </tr>\n",
              "  </thead>\n",
              "  <tbody>\n",
              "    <tr>\n",
              "      <th>0</th>\n",
              "      <td>/content/crop_images/0105230_sc-183329_crops/0...</td>\n",
              "    </tr>\n",
              "    <tr>\n",
              "      <th>1</th>\n",
              "      <td>/content/crop_images/0105230_sc-183329_crops/0...</td>\n",
              "    </tr>\n",
              "    <tr>\n",
              "      <th>2</th>\n",
              "      <td>/content/crop_images/0105230_sc-183329_crops/0...</td>\n",
              "    </tr>\n",
              "    <tr>\n",
              "      <th>3</th>\n",
              "      <td>/content/crop_images/0105230_sc-183329_crops/0...</td>\n",
              "    </tr>\n",
              "    <tr>\n",
              "      <th>4</th>\n",
              "      <td>/content/crop_images/0484948_sc-132079_crops/0...</td>\n",
              "    </tr>\n",
              "    <tr>\n",
              "      <th>...</th>\n",
              "      <td>...</td>\n",
              "    </tr>\n",
              "    <tr>\n",
              "      <th>3793</th>\n",
              "      <td>/content/crop_images/0125390_as-7509711_crops/...</td>\n",
              "    </tr>\n",
              "    <tr>\n",
              "      <th>3794</th>\n",
              "      <td>/content/crop_images/0068041_sc-230154_crops/0...</td>\n",
              "    </tr>\n",
              "    <tr>\n",
              "      <th>3795</th>\n",
              "      <td>/content/crop_images/0068041_sc-230154_crops/0...</td>\n",
              "    </tr>\n",
              "    <tr>\n",
              "      <th>3796</th>\n",
              "      <td>/content/crop_images/0068041_sc-230154_crops/0...</td>\n",
              "    </tr>\n",
              "    <tr>\n",
              "      <th>3797</th>\n",
              "      <td>/content/crop_images/0068041_sc-230154_crops/0...</td>\n",
              "    </tr>\n",
              "  </tbody>\n",
              "</table>\n",
              "<p>3798 rows × 1 columns</p>\n",
              "</div>\n",
              "    <div class=\"colab-df-buttons\">\n",
              "\n",
              "  <div class=\"colab-df-container\">\n",
              "    <button class=\"colab-df-convert\" onclick=\"convertToInteractive('df-89459fd1-3d55-4742-af95-07546a1622f0')\"\n",
              "            title=\"Convert this dataframe to an interactive table.\"\n",
              "            style=\"display:none;\">\n",
              "\n",
              "  <svg xmlns=\"http://www.w3.org/2000/svg\" height=\"24px\" viewBox=\"0 -960 960 960\">\n",
              "    <path d=\"M120-120v-720h720v720H120Zm60-500h600v-160H180v160Zm220 220h160v-160H400v160Zm0 220h160v-160H400v160ZM180-400h160v-160H180v160Zm440 0h160v-160H620v160ZM180-180h160v-160H180v160Zm440 0h160v-160H620v160Z\"/>\n",
              "  </svg>\n",
              "    </button>\n",
              "\n",
              "  <style>\n",
              "    .colab-df-container {\n",
              "      display:flex;\n",
              "      gap: 12px;\n",
              "    }\n",
              "\n",
              "    .colab-df-convert {\n",
              "      background-color: #E8F0FE;\n",
              "      border: none;\n",
              "      border-radius: 50%;\n",
              "      cursor: pointer;\n",
              "      display: none;\n",
              "      fill: #1967D2;\n",
              "      height: 32px;\n",
              "      padding: 0 0 0 0;\n",
              "      width: 32px;\n",
              "    }\n",
              "\n",
              "    .colab-df-convert:hover {\n",
              "      background-color: #E2EBFA;\n",
              "      box-shadow: 0px 1px 2px rgba(60, 64, 67, 0.3), 0px 1px 3px 1px rgba(60, 64, 67, 0.15);\n",
              "      fill: #174EA6;\n",
              "    }\n",
              "\n",
              "    .colab-df-buttons div {\n",
              "      margin-bottom: 4px;\n",
              "    }\n",
              "\n",
              "    [theme=dark] .colab-df-convert {\n",
              "      background-color: #3B4455;\n",
              "      fill: #D2E3FC;\n",
              "    }\n",
              "\n",
              "    [theme=dark] .colab-df-convert:hover {\n",
              "      background-color: #434B5C;\n",
              "      box-shadow: 0px 1px 3px 1px rgba(0, 0, 0, 0.15);\n",
              "      filter: drop-shadow(0px 1px 2px rgba(0, 0, 0, 0.3));\n",
              "      fill: #FFFFFF;\n",
              "    }\n",
              "  </style>\n",
              "\n",
              "    <script>\n",
              "      const buttonEl =\n",
              "        document.querySelector('#df-89459fd1-3d55-4742-af95-07546a1622f0 button.colab-df-convert');\n",
              "      buttonEl.style.display =\n",
              "        google.colab.kernel.accessAllowed ? 'block' : 'none';\n",
              "\n",
              "      async function convertToInteractive(key) {\n",
              "        const element = document.querySelector('#df-89459fd1-3d55-4742-af95-07546a1622f0');\n",
              "        const dataTable =\n",
              "          await google.colab.kernel.invokeFunction('convertToInteractive',\n",
              "                                                    [key], {});\n",
              "        if (!dataTable) return;\n",
              "\n",
              "        const docLinkHtml = 'Like what you see? Visit the ' +\n",
              "          '<a target=\"_blank\" href=https://colab.research.google.com/notebooks/data_table.ipynb>data table notebook</a>'\n",
              "          + ' to learn more about interactive tables.';\n",
              "        element.innerHTML = '';\n",
              "        dataTable['output_type'] = 'display_data';\n",
              "        await google.colab.output.renderOutput(dataTable, element);\n",
              "        const docLink = document.createElement('div');\n",
              "        docLink.innerHTML = docLinkHtml;\n",
              "        element.appendChild(docLink);\n",
              "      }\n",
              "    </script>\n",
              "  </div>\n",
              "\n",
              "\n",
              "<div id=\"df-ebd6dced-6763-4ddc-9b82-7c863fed2dcc\">\n",
              "  <button class=\"colab-df-quickchart\" onclick=\"quickchart('df-ebd6dced-6763-4ddc-9b82-7c863fed2dcc')\"\n",
              "            title=\"Suggest charts\"\n",
              "            style=\"display:none;\">\n",
              "\n",
              "<svg xmlns=\"http://www.w3.org/2000/svg\" height=\"24px\"viewBox=\"0 0 24 24\"\n",
              "     width=\"24px\">\n",
              "    <g>\n",
              "        <path d=\"M19 3H5c-1.1 0-2 .9-2 2v14c0 1.1.9 2 2 2h14c1.1 0 2-.9 2-2V5c0-1.1-.9-2-2-2zM9 17H7v-7h2v7zm4 0h-2V7h2v10zm4 0h-2v-4h2v4z\"/>\n",
              "    </g>\n",
              "</svg>\n",
              "  </button>\n",
              "\n",
              "<style>\n",
              "  .colab-df-quickchart {\n",
              "      --bg-color: #E8F0FE;\n",
              "      --fill-color: #1967D2;\n",
              "      --hover-bg-color: #E2EBFA;\n",
              "      --hover-fill-color: #174EA6;\n",
              "      --disabled-fill-color: #AAA;\n",
              "      --disabled-bg-color: #DDD;\n",
              "  }\n",
              "\n",
              "  [theme=dark] .colab-df-quickchart {\n",
              "      --bg-color: #3B4455;\n",
              "      --fill-color: #D2E3FC;\n",
              "      --hover-bg-color: #434B5C;\n",
              "      --hover-fill-color: #FFFFFF;\n",
              "      --disabled-bg-color: #3B4455;\n",
              "      --disabled-fill-color: #666;\n",
              "  }\n",
              "\n",
              "  .colab-df-quickchart {\n",
              "    background-color: var(--bg-color);\n",
              "    border: none;\n",
              "    border-radius: 50%;\n",
              "    cursor: pointer;\n",
              "    display: none;\n",
              "    fill: var(--fill-color);\n",
              "    height: 32px;\n",
              "    padding: 0;\n",
              "    width: 32px;\n",
              "  }\n",
              "\n",
              "  .colab-df-quickchart:hover {\n",
              "    background-color: var(--hover-bg-color);\n",
              "    box-shadow: 0 1px 2px rgba(60, 64, 67, 0.3), 0 1px 3px 1px rgba(60, 64, 67, 0.15);\n",
              "    fill: var(--button-hover-fill-color);\n",
              "  }\n",
              "\n",
              "  .colab-df-quickchart-complete:disabled,\n",
              "  .colab-df-quickchart-complete:disabled:hover {\n",
              "    background-color: var(--disabled-bg-color);\n",
              "    fill: var(--disabled-fill-color);\n",
              "    box-shadow: none;\n",
              "  }\n",
              "\n",
              "  .colab-df-spinner {\n",
              "    border: 2px solid var(--fill-color);\n",
              "    border-color: transparent;\n",
              "    border-bottom-color: var(--fill-color);\n",
              "    animation:\n",
              "      spin 1s steps(1) infinite;\n",
              "  }\n",
              "\n",
              "  @keyframes spin {\n",
              "    0% {\n",
              "      border-color: transparent;\n",
              "      border-bottom-color: var(--fill-color);\n",
              "      border-left-color: var(--fill-color);\n",
              "    }\n",
              "    20% {\n",
              "      border-color: transparent;\n",
              "      border-left-color: var(--fill-color);\n",
              "      border-top-color: var(--fill-color);\n",
              "    }\n",
              "    30% {\n",
              "      border-color: transparent;\n",
              "      border-left-color: var(--fill-color);\n",
              "      border-top-color: var(--fill-color);\n",
              "      border-right-color: var(--fill-color);\n",
              "    }\n",
              "    40% {\n",
              "      border-color: transparent;\n",
              "      border-right-color: var(--fill-color);\n",
              "      border-top-color: var(--fill-color);\n",
              "    }\n",
              "    60% {\n",
              "      border-color: transparent;\n",
              "      border-right-color: var(--fill-color);\n",
              "    }\n",
              "    80% {\n",
              "      border-color: transparent;\n",
              "      border-right-color: var(--fill-color);\n",
              "      border-bottom-color: var(--fill-color);\n",
              "    }\n",
              "    90% {\n",
              "      border-color: transparent;\n",
              "      border-bottom-color: var(--fill-color);\n",
              "    }\n",
              "  }\n",
              "</style>\n",
              "\n",
              "  <script>\n",
              "    async function quickchart(key) {\n",
              "      const quickchartButtonEl =\n",
              "        document.querySelector('#' + key + ' button');\n",
              "      quickchartButtonEl.disabled = true;  // To prevent multiple clicks.\n",
              "      quickchartButtonEl.classList.add('colab-df-spinner');\n",
              "      try {\n",
              "        const charts = await google.colab.kernel.invokeFunction(\n",
              "            'suggestCharts', [key], {});\n",
              "      } catch (error) {\n",
              "        console.error('Error during call to suggestCharts:', error);\n",
              "      }\n",
              "      quickchartButtonEl.classList.remove('colab-df-spinner');\n",
              "      quickchartButtonEl.classList.add('colab-df-quickchart-complete');\n",
              "    }\n",
              "    (() => {\n",
              "      let quickchartButtonEl =\n",
              "        document.querySelector('#df-ebd6dced-6763-4ddc-9b82-7c863fed2dcc button');\n",
              "      quickchartButtonEl.style.display =\n",
              "        google.colab.kernel.accessAllowed ? 'block' : 'none';\n",
              "    })();\n",
              "  </script>\n",
              "</div>\n",
              "\n",
              "  <div id=\"id_46484f74-2952-40ec-a4d5-9ec807b6b855\">\n",
              "    <style>\n",
              "      .colab-df-generate {\n",
              "        background-color: #E8F0FE;\n",
              "        border: none;\n",
              "        border-radius: 50%;\n",
              "        cursor: pointer;\n",
              "        display: none;\n",
              "        fill: #1967D2;\n",
              "        height: 32px;\n",
              "        padding: 0 0 0 0;\n",
              "        width: 32px;\n",
              "      }\n",
              "\n",
              "      .colab-df-generate:hover {\n",
              "        background-color: #E2EBFA;\n",
              "        box-shadow: 0px 1px 2px rgba(60, 64, 67, 0.3), 0px 1px 3px 1px rgba(60, 64, 67, 0.15);\n",
              "        fill: #174EA6;\n",
              "      }\n",
              "\n",
              "      [theme=dark] .colab-df-generate {\n",
              "        background-color: #3B4455;\n",
              "        fill: #D2E3FC;\n",
              "      }\n",
              "\n",
              "      [theme=dark] .colab-df-generate:hover {\n",
              "        background-color: #434B5C;\n",
              "        box-shadow: 0px 1px 3px 1px rgba(0, 0, 0, 0.15);\n",
              "        filter: drop-shadow(0px 1px 2px rgba(0, 0, 0, 0.3));\n",
              "        fill: #FFFFFF;\n",
              "      }\n",
              "    </style>\n",
              "    <button class=\"colab-df-generate\" onclick=\"generateWithVariable('df_all')\"\n",
              "            title=\"Generate code using this dataframe.\"\n",
              "            style=\"display:none;\">\n",
              "\n",
              "  <svg xmlns=\"http://www.w3.org/2000/svg\" height=\"24px\"viewBox=\"0 0 24 24\"\n",
              "       width=\"24px\">\n",
              "    <path d=\"M7,19H8.4L18.45,9,17,7.55,7,17.6ZM5,21V16.75L18.45,3.32a2,2,0,0,1,2.83,0l1.4,1.43a1.91,1.91,0,0,1,.58,1.4,1.91,1.91,0,0,1-.58,1.4L9.25,21ZM18.45,9,17,7.55Zm-12,3A5.31,5.31,0,0,0,4.9,8.1,5.31,5.31,0,0,0,1,6.5,5.31,5.31,0,0,0,4.9,4.9,5.31,5.31,0,0,0,6.5,1,5.31,5.31,0,0,0,8.1,4.9,5.31,5.31,0,0,0,12,6.5,5.46,5.46,0,0,0,6.5,12Z\"/>\n",
              "  </svg>\n",
              "    </button>\n",
              "    <script>\n",
              "      (() => {\n",
              "      const buttonEl =\n",
              "        document.querySelector('#id_46484f74-2952-40ec-a4d5-9ec807b6b855 button.colab-df-generate');\n",
              "      buttonEl.style.display =\n",
              "        google.colab.kernel.accessAllowed ? 'block' : 'none';\n",
              "\n",
              "      buttonEl.onclick = () => {\n",
              "        google.colab.notebook.generateWithVariable('df_all');\n",
              "      }\n",
              "      })();\n",
              "    </script>\n",
              "  </div>\n",
              "\n",
              "    </div>\n",
              "  </div>\n"
            ],
            "application/vnd.google.colaboratory.intrinsic+json": {
              "type": "dataframe",
              "variable_name": "df_all",
              "summary": "{\n  \"name\": \"df_all\",\n  \"rows\": 3798,\n  \"fields\": [\n    {\n      \"column\": \"file_name\",\n      \"properties\": {\n        \"dtype\": \"string\",\n        \"num_unique_values\": 3798,\n        \"samples\": [\n          \"/content/crop_images/0334046_sc-156179_crops/0334046_sc-156179_scratched_11.jpg\",\n          \"/content/crop_images/0049071_sc-179215_crops/0049071_sc-179215_scratched_3.jpg\",\n          \"/content/crop_images/0387065_as-3241286_crops/0387065_as-3241286_crushed_2.jpg\"\n        ],\n        \"semantic_type\": \"\",\n        \"description\": \"\"\n      }\n    }\n  ]\n}"
            }
          },
          "metadata": {},
          "execution_count": 15
        }
      ]
    },
    {
      "cell_type": "code",
      "source": [
        "df_all['damage'] = df_all['file_name'].apply(lambda x: x.split('_')[-2])\n",
        "df_all"
      ],
      "metadata": {
        "colab": {
          "base_uri": "https://localhost:8080/",
          "height": 424
        },
        "id": "AXRHWsBxxh-k",
        "outputId": "8a9fae5c-8190-4446-cf33-60498190b570"
      },
      "execution_count": 16,
      "outputs": [
        {
          "output_type": "execute_result",
          "data": {
            "text/plain": [
              "                                              file_name     damage\n",
              "0     /content/crop_images/0105230_sc-183329_crops/0...  scratched\n",
              "1     /content/crop_images/0105230_sc-183329_crops/0...  scratched\n",
              "2     /content/crop_images/0105230_sc-183329_crops/0...  scratched\n",
              "3     /content/crop_images/0105230_sc-183329_crops/0...    crushed\n",
              "4     /content/crop_images/0484948_sc-132079_crops/0...  scratched\n",
              "...                                                 ...        ...\n",
              "3793  /content/crop_images/0125390_as-7509711_crops/...    crushed\n",
              "3794  /content/crop_images/0068041_sc-230154_crops/0...  scratched\n",
              "3795  /content/crop_images/0068041_sc-230154_crops/0...  scratched\n",
              "3796  /content/crop_images/0068041_sc-230154_crops/0...  scratched\n",
              "3797  /content/crop_images/0068041_sc-230154_crops/0...  scratched\n",
              "\n",
              "[3798 rows x 2 columns]"
            ],
            "text/html": [
              "\n",
              "  <div id=\"df-f5d6c2c7-41c9-40b7-baf6-1a8c1c04c3ba\" class=\"colab-df-container\">\n",
              "    <div>\n",
              "<style scoped>\n",
              "    .dataframe tbody tr th:only-of-type {\n",
              "        vertical-align: middle;\n",
              "    }\n",
              "\n",
              "    .dataframe tbody tr th {\n",
              "        vertical-align: top;\n",
              "    }\n",
              "\n",
              "    .dataframe thead th {\n",
              "        text-align: right;\n",
              "    }\n",
              "</style>\n",
              "<table border=\"1\" class=\"dataframe\">\n",
              "  <thead>\n",
              "    <tr style=\"text-align: right;\">\n",
              "      <th></th>\n",
              "      <th>file_name</th>\n",
              "      <th>damage</th>\n",
              "    </tr>\n",
              "  </thead>\n",
              "  <tbody>\n",
              "    <tr>\n",
              "      <th>0</th>\n",
              "      <td>/content/crop_images/0105230_sc-183329_crops/0...</td>\n",
              "      <td>scratched</td>\n",
              "    </tr>\n",
              "    <tr>\n",
              "      <th>1</th>\n",
              "      <td>/content/crop_images/0105230_sc-183329_crops/0...</td>\n",
              "      <td>scratched</td>\n",
              "    </tr>\n",
              "    <tr>\n",
              "      <th>2</th>\n",
              "      <td>/content/crop_images/0105230_sc-183329_crops/0...</td>\n",
              "      <td>scratched</td>\n",
              "    </tr>\n",
              "    <tr>\n",
              "      <th>3</th>\n",
              "      <td>/content/crop_images/0105230_sc-183329_crops/0...</td>\n",
              "      <td>crushed</td>\n",
              "    </tr>\n",
              "    <tr>\n",
              "      <th>4</th>\n",
              "      <td>/content/crop_images/0484948_sc-132079_crops/0...</td>\n",
              "      <td>scratched</td>\n",
              "    </tr>\n",
              "    <tr>\n",
              "      <th>...</th>\n",
              "      <td>...</td>\n",
              "      <td>...</td>\n",
              "    </tr>\n",
              "    <tr>\n",
              "      <th>3793</th>\n",
              "      <td>/content/crop_images/0125390_as-7509711_crops/...</td>\n",
              "      <td>crushed</td>\n",
              "    </tr>\n",
              "    <tr>\n",
              "      <th>3794</th>\n",
              "      <td>/content/crop_images/0068041_sc-230154_crops/0...</td>\n",
              "      <td>scratched</td>\n",
              "    </tr>\n",
              "    <tr>\n",
              "      <th>3795</th>\n",
              "      <td>/content/crop_images/0068041_sc-230154_crops/0...</td>\n",
              "      <td>scratched</td>\n",
              "    </tr>\n",
              "    <tr>\n",
              "      <th>3796</th>\n",
              "      <td>/content/crop_images/0068041_sc-230154_crops/0...</td>\n",
              "      <td>scratched</td>\n",
              "    </tr>\n",
              "    <tr>\n",
              "      <th>3797</th>\n",
              "      <td>/content/crop_images/0068041_sc-230154_crops/0...</td>\n",
              "      <td>scratched</td>\n",
              "    </tr>\n",
              "  </tbody>\n",
              "</table>\n",
              "<p>3798 rows × 2 columns</p>\n",
              "</div>\n",
              "    <div class=\"colab-df-buttons\">\n",
              "\n",
              "  <div class=\"colab-df-container\">\n",
              "    <button class=\"colab-df-convert\" onclick=\"convertToInteractive('df-f5d6c2c7-41c9-40b7-baf6-1a8c1c04c3ba')\"\n",
              "            title=\"Convert this dataframe to an interactive table.\"\n",
              "            style=\"display:none;\">\n",
              "\n",
              "  <svg xmlns=\"http://www.w3.org/2000/svg\" height=\"24px\" viewBox=\"0 -960 960 960\">\n",
              "    <path d=\"M120-120v-720h720v720H120Zm60-500h600v-160H180v160Zm220 220h160v-160H400v160Zm0 220h160v-160H400v160ZM180-400h160v-160H180v160Zm440 0h160v-160H620v160ZM180-180h160v-160H180v160Zm440 0h160v-160H620v160Z\"/>\n",
              "  </svg>\n",
              "    </button>\n",
              "\n",
              "  <style>\n",
              "    .colab-df-container {\n",
              "      display:flex;\n",
              "      gap: 12px;\n",
              "    }\n",
              "\n",
              "    .colab-df-convert {\n",
              "      background-color: #E8F0FE;\n",
              "      border: none;\n",
              "      border-radius: 50%;\n",
              "      cursor: pointer;\n",
              "      display: none;\n",
              "      fill: #1967D2;\n",
              "      height: 32px;\n",
              "      padding: 0 0 0 0;\n",
              "      width: 32px;\n",
              "    }\n",
              "\n",
              "    .colab-df-convert:hover {\n",
              "      background-color: #E2EBFA;\n",
              "      box-shadow: 0px 1px 2px rgba(60, 64, 67, 0.3), 0px 1px 3px 1px rgba(60, 64, 67, 0.15);\n",
              "      fill: #174EA6;\n",
              "    }\n",
              "\n",
              "    .colab-df-buttons div {\n",
              "      margin-bottom: 4px;\n",
              "    }\n",
              "\n",
              "    [theme=dark] .colab-df-convert {\n",
              "      background-color: #3B4455;\n",
              "      fill: #D2E3FC;\n",
              "    }\n",
              "\n",
              "    [theme=dark] .colab-df-convert:hover {\n",
              "      background-color: #434B5C;\n",
              "      box-shadow: 0px 1px 3px 1px rgba(0, 0, 0, 0.15);\n",
              "      filter: drop-shadow(0px 1px 2px rgba(0, 0, 0, 0.3));\n",
              "      fill: #FFFFFF;\n",
              "    }\n",
              "  </style>\n",
              "\n",
              "    <script>\n",
              "      const buttonEl =\n",
              "        document.querySelector('#df-f5d6c2c7-41c9-40b7-baf6-1a8c1c04c3ba button.colab-df-convert');\n",
              "      buttonEl.style.display =\n",
              "        google.colab.kernel.accessAllowed ? 'block' : 'none';\n",
              "\n",
              "      async function convertToInteractive(key) {\n",
              "        const element = document.querySelector('#df-f5d6c2c7-41c9-40b7-baf6-1a8c1c04c3ba');\n",
              "        const dataTable =\n",
              "          await google.colab.kernel.invokeFunction('convertToInteractive',\n",
              "                                                    [key], {});\n",
              "        if (!dataTable) return;\n",
              "\n",
              "        const docLinkHtml = 'Like what you see? Visit the ' +\n",
              "          '<a target=\"_blank\" href=https://colab.research.google.com/notebooks/data_table.ipynb>data table notebook</a>'\n",
              "          + ' to learn more about interactive tables.';\n",
              "        element.innerHTML = '';\n",
              "        dataTable['output_type'] = 'display_data';\n",
              "        await google.colab.output.renderOutput(dataTable, element);\n",
              "        const docLink = document.createElement('div');\n",
              "        docLink.innerHTML = docLinkHtml;\n",
              "        element.appendChild(docLink);\n",
              "      }\n",
              "    </script>\n",
              "  </div>\n",
              "\n",
              "\n",
              "<div id=\"df-0069df48-4be7-422d-89f0-906cbcd95a36\">\n",
              "  <button class=\"colab-df-quickchart\" onclick=\"quickchart('df-0069df48-4be7-422d-89f0-906cbcd95a36')\"\n",
              "            title=\"Suggest charts\"\n",
              "            style=\"display:none;\">\n",
              "\n",
              "<svg xmlns=\"http://www.w3.org/2000/svg\" height=\"24px\"viewBox=\"0 0 24 24\"\n",
              "     width=\"24px\">\n",
              "    <g>\n",
              "        <path d=\"M19 3H5c-1.1 0-2 .9-2 2v14c0 1.1.9 2 2 2h14c1.1 0 2-.9 2-2V5c0-1.1-.9-2-2-2zM9 17H7v-7h2v7zm4 0h-2V7h2v10zm4 0h-2v-4h2v4z\"/>\n",
              "    </g>\n",
              "</svg>\n",
              "  </button>\n",
              "\n",
              "<style>\n",
              "  .colab-df-quickchart {\n",
              "      --bg-color: #E8F0FE;\n",
              "      --fill-color: #1967D2;\n",
              "      --hover-bg-color: #E2EBFA;\n",
              "      --hover-fill-color: #174EA6;\n",
              "      --disabled-fill-color: #AAA;\n",
              "      --disabled-bg-color: #DDD;\n",
              "  }\n",
              "\n",
              "  [theme=dark] .colab-df-quickchart {\n",
              "      --bg-color: #3B4455;\n",
              "      --fill-color: #D2E3FC;\n",
              "      --hover-bg-color: #434B5C;\n",
              "      --hover-fill-color: #FFFFFF;\n",
              "      --disabled-bg-color: #3B4455;\n",
              "      --disabled-fill-color: #666;\n",
              "  }\n",
              "\n",
              "  .colab-df-quickchart {\n",
              "    background-color: var(--bg-color);\n",
              "    border: none;\n",
              "    border-radius: 50%;\n",
              "    cursor: pointer;\n",
              "    display: none;\n",
              "    fill: var(--fill-color);\n",
              "    height: 32px;\n",
              "    padding: 0;\n",
              "    width: 32px;\n",
              "  }\n",
              "\n",
              "  .colab-df-quickchart:hover {\n",
              "    background-color: var(--hover-bg-color);\n",
              "    box-shadow: 0 1px 2px rgba(60, 64, 67, 0.3), 0 1px 3px 1px rgba(60, 64, 67, 0.15);\n",
              "    fill: var(--button-hover-fill-color);\n",
              "  }\n",
              "\n",
              "  .colab-df-quickchart-complete:disabled,\n",
              "  .colab-df-quickchart-complete:disabled:hover {\n",
              "    background-color: var(--disabled-bg-color);\n",
              "    fill: var(--disabled-fill-color);\n",
              "    box-shadow: none;\n",
              "  }\n",
              "\n",
              "  .colab-df-spinner {\n",
              "    border: 2px solid var(--fill-color);\n",
              "    border-color: transparent;\n",
              "    border-bottom-color: var(--fill-color);\n",
              "    animation:\n",
              "      spin 1s steps(1) infinite;\n",
              "  }\n",
              "\n",
              "  @keyframes spin {\n",
              "    0% {\n",
              "      border-color: transparent;\n",
              "      border-bottom-color: var(--fill-color);\n",
              "      border-left-color: var(--fill-color);\n",
              "    }\n",
              "    20% {\n",
              "      border-color: transparent;\n",
              "      border-left-color: var(--fill-color);\n",
              "      border-top-color: var(--fill-color);\n",
              "    }\n",
              "    30% {\n",
              "      border-color: transparent;\n",
              "      border-left-color: var(--fill-color);\n",
              "      border-top-color: var(--fill-color);\n",
              "      border-right-color: var(--fill-color);\n",
              "    }\n",
              "    40% {\n",
              "      border-color: transparent;\n",
              "      border-right-color: var(--fill-color);\n",
              "      border-top-color: var(--fill-color);\n",
              "    }\n",
              "    60% {\n",
              "      border-color: transparent;\n",
              "      border-right-color: var(--fill-color);\n",
              "    }\n",
              "    80% {\n",
              "      border-color: transparent;\n",
              "      border-right-color: var(--fill-color);\n",
              "      border-bottom-color: var(--fill-color);\n",
              "    }\n",
              "    90% {\n",
              "      border-color: transparent;\n",
              "      border-bottom-color: var(--fill-color);\n",
              "    }\n",
              "  }\n",
              "</style>\n",
              "\n",
              "  <script>\n",
              "    async function quickchart(key) {\n",
              "      const quickchartButtonEl =\n",
              "        document.querySelector('#' + key + ' button');\n",
              "      quickchartButtonEl.disabled = true;  // To prevent multiple clicks.\n",
              "      quickchartButtonEl.classList.add('colab-df-spinner');\n",
              "      try {\n",
              "        const charts = await google.colab.kernel.invokeFunction(\n",
              "            'suggestCharts', [key], {});\n",
              "      } catch (error) {\n",
              "        console.error('Error during call to suggestCharts:', error);\n",
              "      }\n",
              "      quickchartButtonEl.classList.remove('colab-df-spinner');\n",
              "      quickchartButtonEl.classList.add('colab-df-quickchart-complete');\n",
              "    }\n",
              "    (() => {\n",
              "      let quickchartButtonEl =\n",
              "        document.querySelector('#df-0069df48-4be7-422d-89f0-906cbcd95a36 button');\n",
              "      quickchartButtonEl.style.display =\n",
              "        google.colab.kernel.accessAllowed ? 'block' : 'none';\n",
              "    })();\n",
              "  </script>\n",
              "</div>\n",
              "\n",
              "  <div id=\"id_c61329eb-cea3-43e4-9f71-2a98080fcec2\">\n",
              "    <style>\n",
              "      .colab-df-generate {\n",
              "        background-color: #E8F0FE;\n",
              "        border: none;\n",
              "        border-radius: 50%;\n",
              "        cursor: pointer;\n",
              "        display: none;\n",
              "        fill: #1967D2;\n",
              "        height: 32px;\n",
              "        padding: 0 0 0 0;\n",
              "        width: 32px;\n",
              "      }\n",
              "\n",
              "      .colab-df-generate:hover {\n",
              "        background-color: #E2EBFA;\n",
              "        box-shadow: 0px 1px 2px rgba(60, 64, 67, 0.3), 0px 1px 3px 1px rgba(60, 64, 67, 0.15);\n",
              "        fill: #174EA6;\n",
              "      }\n",
              "\n",
              "      [theme=dark] .colab-df-generate {\n",
              "        background-color: #3B4455;\n",
              "        fill: #D2E3FC;\n",
              "      }\n",
              "\n",
              "      [theme=dark] .colab-df-generate:hover {\n",
              "        background-color: #434B5C;\n",
              "        box-shadow: 0px 1px 3px 1px rgba(0, 0, 0, 0.15);\n",
              "        filter: drop-shadow(0px 1px 2px rgba(0, 0, 0, 0.3));\n",
              "        fill: #FFFFFF;\n",
              "      }\n",
              "    </style>\n",
              "    <button class=\"colab-df-generate\" onclick=\"generateWithVariable('df_all')\"\n",
              "            title=\"Generate code using this dataframe.\"\n",
              "            style=\"display:none;\">\n",
              "\n",
              "  <svg xmlns=\"http://www.w3.org/2000/svg\" height=\"24px\"viewBox=\"0 0 24 24\"\n",
              "       width=\"24px\">\n",
              "    <path d=\"M7,19H8.4L18.45,9,17,7.55,7,17.6ZM5,21V16.75L18.45,3.32a2,2,0,0,1,2.83,0l1.4,1.43a1.91,1.91,0,0,1,.58,1.4,1.91,1.91,0,0,1-.58,1.4L9.25,21ZM18.45,9,17,7.55Zm-12,3A5.31,5.31,0,0,0,4.9,8.1,5.31,5.31,0,0,0,1,6.5,5.31,5.31,0,0,0,4.9,4.9,5.31,5.31,0,0,0,6.5,1,5.31,5.31,0,0,0,8.1,4.9,5.31,5.31,0,0,0,12,6.5,5.46,5.46,0,0,0,6.5,12Z\"/>\n",
              "  </svg>\n",
              "    </button>\n",
              "    <script>\n",
              "      (() => {\n",
              "      const buttonEl =\n",
              "        document.querySelector('#id_c61329eb-cea3-43e4-9f71-2a98080fcec2 button.colab-df-generate');\n",
              "      buttonEl.style.display =\n",
              "        google.colab.kernel.accessAllowed ? 'block' : 'none';\n",
              "\n",
              "      buttonEl.onclick = () => {\n",
              "        google.colab.notebook.generateWithVariable('df_all');\n",
              "      }\n",
              "      })();\n",
              "    </script>\n",
              "  </div>\n",
              "\n",
              "    </div>\n",
              "  </div>\n"
            ],
            "application/vnd.google.colaboratory.intrinsic+json": {
              "type": "dataframe",
              "variable_name": "df_all",
              "summary": "{\n  \"name\": \"df_all\",\n  \"rows\": 3798,\n  \"fields\": [\n    {\n      \"column\": \"file_name\",\n      \"properties\": {\n        \"dtype\": \"string\",\n        \"num_unique_values\": 3798,\n        \"samples\": [\n          \"/content/crop_images/0334046_sc-156179_crops/0334046_sc-156179_scratched_11.jpg\",\n          \"/content/crop_images/0049071_sc-179215_crops/0049071_sc-179215_scratched_3.jpg\",\n          \"/content/crop_images/0387065_as-3241286_crops/0387065_as-3241286_crushed_2.jpg\"\n        ],\n        \"semantic_type\": \"\",\n        \"description\": \"\"\n      }\n    },\n    {\n      \"column\": \"damage\",\n      \"properties\": {\n        \"dtype\": \"category\",\n        \"num_unique_values\": 4,\n        \"samples\": [\n          \"crushed\",\n          \"breakage\",\n          \"scratched\"\n        ],\n        \"semantic_type\": \"\",\n        \"description\": \"\"\n      }\n    }\n  ]\n}"
            }
          },
          "metadata": {},
          "execution_count": 16
        }
      ]
    },
    {
      "cell_type": "code",
      "source": [
        "# damage type을 {'Separated':0, 'Breakage':1, 'Scratched':2, 'Crushed':3}으로 라벨링\n",
        "damage_types = {'Separated':0, 'Breakage':1, 'Scratched':2, 'Crushed':3}"
      ],
      "metadata": {
        "id": "oEAgZB94xLO8"
      },
      "execution_count": 17,
      "outputs": []
    },
    {
      "cell_type": "code",
      "source": [
        "# df_all의 damage를 숫자로 라벨링\n",
        "df_all['label'] = df_all['damage'].apply(lambda x: damage_types.get(x.capitalize(), -1))\n",
        "df_all.head(10)"
      ],
      "metadata": {
        "colab": {
          "base_uri": "https://localhost:8080/",
          "height": 363
        },
        "id": "f31lrIU956Pr",
        "outputId": "4f4e911e-5f80-4244-f2f4-ae3883b93ef0"
      },
      "execution_count": 19,
      "outputs": [
        {
          "output_type": "execute_result",
          "data": {
            "text/plain": [
              "                                           file_name     damage  label\n",
              "0  /content/crop_images/0105230_sc-183329_crops/0...  scratched      2\n",
              "1  /content/crop_images/0105230_sc-183329_crops/0...  scratched      2\n",
              "2  /content/crop_images/0105230_sc-183329_crops/0...  scratched      2\n",
              "3  /content/crop_images/0105230_sc-183329_crops/0...    crushed      3\n",
              "4  /content/crop_images/0484948_sc-132079_crops/0...  scratched      2\n",
              "5  /content/crop_images/0484948_sc-132079_crops/0...  scratched      2\n",
              "6  /content/crop_images/0235572_sc-105479_crops/0...  scratched      2\n",
              "7  /content/crop_images/0235572_sc-105479_crops/0...  scratched      2\n",
              "8  /content/crop_images/0235572_sc-105479_crops/0...  scratched      2\n",
              "9  /content/crop_images/0267935_sc-174167_crops/0...  scratched      2"
            ],
            "text/html": [
              "\n",
              "  <div id=\"df-b3081480-f944-40fc-b1b7-5ab1524aab80\" class=\"colab-df-container\">\n",
              "    <div>\n",
              "<style scoped>\n",
              "    .dataframe tbody tr th:only-of-type {\n",
              "        vertical-align: middle;\n",
              "    }\n",
              "\n",
              "    .dataframe tbody tr th {\n",
              "        vertical-align: top;\n",
              "    }\n",
              "\n",
              "    .dataframe thead th {\n",
              "        text-align: right;\n",
              "    }\n",
              "</style>\n",
              "<table border=\"1\" class=\"dataframe\">\n",
              "  <thead>\n",
              "    <tr style=\"text-align: right;\">\n",
              "      <th></th>\n",
              "      <th>file_name</th>\n",
              "      <th>damage</th>\n",
              "      <th>label</th>\n",
              "    </tr>\n",
              "  </thead>\n",
              "  <tbody>\n",
              "    <tr>\n",
              "      <th>0</th>\n",
              "      <td>/content/crop_images/0105230_sc-183329_crops/0...</td>\n",
              "      <td>scratched</td>\n",
              "      <td>2</td>\n",
              "    </tr>\n",
              "    <tr>\n",
              "      <th>1</th>\n",
              "      <td>/content/crop_images/0105230_sc-183329_crops/0...</td>\n",
              "      <td>scratched</td>\n",
              "      <td>2</td>\n",
              "    </tr>\n",
              "    <tr>\n",
              "      <th>2</th>\n",
              "      <td>/content/crop_images/0105230_sc-183329_crops/0...</td>\n",
              "      <td>scratched</td>\n",
              "      <td>2</td>\n",
              "    </tr>\n",
              "    <tr>\n",
              "      <th>3</th>\n",
              "      <td>/content/crop_images/0105230_sc-183329_crops/0...</td>\n",
              "      <td>crushed</td>\n",
              "      <td>3</td>\n",
              "    </tr>\n",
              "    <tr>\n",
              "      <th>4</th>\n",
              "      <td>/content/crop_images/0484948_sc-132079_crops/0...</td>\n",
              "      <td>scratched</td>\n",
              "      <td>2</td>\n",
              "    </tr>\n",
              "    <tr>\n",
              "      <th>5</th>\n",
              "      <td>/content/crop_images/0484948_sc-132079_crops/0...</td>\n",
              "      <td>scratched</td>\n",
              "      <td>2</td>\n",
              "    </tr>\n",
              "    <tr>\n",
              "      <th>6</th>\n",
              "      <td>/content/crop_images/0235572_sc-105479_crops/0...</td>\n",
              "      <td>scratched</td>\n",
              "      <td>2</td>\n",
              "    </tr>\n",
              "    <tr>\n",
              "      <th>7</th>\n",
              "      <td>/content/crop_images/0235572_sc-105479_crops/0...</td>\n",
              "      <td>scratched</td>\n",
              "      <td>2</td>\n",
              "    </tr>\n",
              "    <tr>\n",
              "      <th>8</th>\n",
              "      <td>/content/crop_images/0235572_sc-105479_crops/0...</td>\n",
              "      <td>scratched</td>\n",
              "      <td>2</td>\n",
              "    </tr>\n",
              "    <tr>\n",
              "      <th>9</th>\n",
              "      <td>/content/crop_images/0267935_sc-174167_crops/0...</td>\n",
              "      <td>scratched</td>\n",
              "      <td>2</td>\n",
              "    </tr>\n",
              "  </tbody>\n",
              "</table>\n",
              "</div>\n",
              "    <div class=\"colab-df-buttons\">\n",
              "\n",
              "  <div class=\"colab-df-container\">\n",
              "    <button class=\"colab-df-convert\" onclick=\"convertToInteractive('df-b3081480-f944-40fc-b1b7-5ab1524aab80')\"\n",
              "            title=\"Convert this dataframe to an interactive table.\"\n",
              "            style=\"display:none;\">\n",
              "\n",
              "  <svg xmlns=\"http://www.w3.org/2000/svg\" height=\"24px\" viewBox=\"0 -960 960 960\">\n",
              "    <path d=\"M120-120v-720h720v720H120Zm60-500h600v-160H180v160Zm220 220h160v-160H400v160Zm0 220h160v-160H400v160ZM180-400h160v-160H180v160Zm440 0h160v-160H620v160ZM180-180h160v-160H180v160Zm440 0h160v-160H620v160Z\"/>\n",
              "  </svg>\n",
              "    </button>\n",
              "\n",
              "  <style>\n",
              "    .colab-df-container {\n",
              "      display:flex;\n",
              "      gap: 12px;\n",
              "    }\n",
              "\n",
              "    .colab-df-convert {\n",
              "      background-color: #E8F0FE;\n",
              "      border: none;\n",
              "      border-radius: 50%;\n",
              "      cursor: pointer;\n",
              "      display: none;\n",
              "      fill: #1967D2;\n",
              "      height: 32px;\n",
              "      padding: 0 0 0 0;\n",
              "      width: 32px;\n",
              "    }\n",
              "\n",
              "    .colab-df-convert:hover {\n",
              "      background-color: #E2EBFA;\n",
              "      box-shadow: 0px 1px 2px rgba(60, 64, 67, 0.3), 0px 1px 3px 1px rgba(60, 64, 67, 0.15);\n",
              "      fill: #174EA6;\n",
              "    }\n",
              "\n",
              "    .colab-df-buttons div {\n",
              "      margin-bottom: 4px;\n",
              "    }\n",
              "\n",
              "    [theme=dark] .colab-df-convert {\n",
              "      background-color: #3B4455;\n",
              "      fill: #D2E3FC;\n",
              "    }\n",
              "\n",
              "    [theme=dark] .colab-df-convert:hover {\n",
              "      background-color: #434B5C;\n",
              "      box-shadow: 0px 1px 3px 1px rgba(0, 0, 0, 0.15);\n",
              "      filter: drop-shadow(0px 1px 2px rgba(0, 0, 0, 0.3));\n",
              "      fill: #FFFFFF;\n",
              "    }\n",
              "  </style>\n",
              "\n",
              "    <script>\n",
              "      const buttonEl =\n",
              "        document.querySelector('#df-b3081480-f944-40fc-b1b7-5ab1524aab80 button.colab-df-convert');\n",
              "      buttonEl.style.display =\n",
              "        google.colab.kernel.accessAllowed ? 'block' : 'none';\n",
              "\n",
              "      async function convertToInteractive(key) {\n",
              "        const element = document.querySelector('#df-b3081480-f944-40fc-b1b7-5ab1524aab80');\n",
              "        const dataTable =\n",
              "          await google.colab.kernel.invokeFunction('convertToInteractive',\n",
              "                                                    [key], {});\n",
              "        if (!dataTable) return;\n",
              "\n",
              "        const docLinkHtml = 'Like what you see? Visit the ' +\n",
              "          '<a target=\"_blank\" href=https://colab.research.google.com/notebooks/data_table.ipynb>data table notebook</a>'\n",
              "          + ' to learn more about interactive tables.';\n",
              "        element.innerHTML = '';\n",
              "        dataTable['output_type'] = 'display_data';\n",
              "        await google.colab.output.renderOutput(dataTable, element);\n",
              "        const docLink = document.createElement('div');\n",
              "        docLink.innerHTML = docLinkHtml;\n",
              "        element.appendChild(docLink);\n",
              "      }\n",
              "    </script>\n",
              "  </div>\n",
              "\n",
              "\n",
              "<div id=\"df-50c19818-fd9c-4a3e-b6a2-bb208b31c24f\">\n",
              "  <button class=\"colab-df-quickchart\" onclick=\"quickchart('df-50c19818-fd9c-4a3e-b6a2-bb208b31c24f')\"\n",
              "            title=\"Suggest charts\"\n",
              "            style=\"display:none;\">\n",
              "\n",
              "<svg xmlns=\"http://www.w3.org/2000/svg\" height=\"24px\"viewBox=\"0 0 24 24\"\n",
              "     width=\"24px\">\n",
              "    <g>\n",
              "        <path d=\"M19 3H5c-1.1 0-2 .9-2 2v14c0 1.1.9 2 2 2h14c1.1 0 2-.9 2-2V5c0-1.1-.9-2-2-2zM9 17H7v-7h2v7zm4 0h-2V7h2v10zm4 0h-2v-4h2v4z\"/>\n",
              "    </g>\n",
              "</svg>\n",
              "  </button>\n",
              "\n",
              "<style>\n",
              "  .colab-df-quickchart {\n",
              "      --bg-color: #E8F0FE;\n",
              "      --fill-color: #1967D2;\n",
              "      --hover-bg-color: #E2EBFA;\n",
              "      --hover-fill-color: #174EA6;\n",
              "      --disabled-fill-color: #AAA;\n",
              "      --disabled-bg-color: #DDD;\n",
              "  }\n",
              "\n",
              "  [theme=dark] .colab-df-quickchart {\n",
              "      --bg-color: #3B4455;\n",
              "      --fill-color: #D2E3FC;\n",
              "      --hover-bg-color: #434B5C;\n",
              "      --hover-fill-color: #FFFFFF;\n",
              "      --disabled-bg-color: #3B4455;\n",
              "      --disabled-fill-color: #666;\n",
              "  }\n",
              "\n",
              "  .colab-df-quickchart {\n",
              "    background-color: var(--bg-color);\n",
              "    border: none;\n",
              "    border-radius: 50%;\n",
              "    cursor: pointer;\n",
              "    display: none;\n",
              "    fill: var(--fill-color);\n",
              "    height: 32px;\n",
              "    padding: 0;\n",
              "    width: 32px;\n",
              "  }\n",
              "\n",
              "  .colab-df-quickchart:hover {\n",
              "    background-color: var(--hover-bg-color);\n",
              "    box-shadow: 0 1px 2px rgba(60, 64, 67, 0.3), 0 1px 3px 1px rgba(60, 64, 67, 0.15);\n",
              "    fill: var(--button-hover-fill-color);\n",
              "  }\n",
              "\n",
              "  .colab-df-quickchart-complete:disabled,\n",
              "  .colab-df-quickchart-complete:disabled:hover {\n",
              "    background-color: var(--disabled-bg-color);\n",
              "    fill: var(--disabled-fill-color);\n",
              "    box-shadow: none;\n",
              "  }\n",
              "\n",
              "  .colab-df-spinner {\n",
              "    border: 2px solid var(--fill-color);\n",
              "    border-color: transparent;\n",
              "    border-bottom-color: var(--fill-color);\n",
              "    animation:\n",
              "      spin 1s steps(1) infinite;\n",
              "  }\n",
              "\n",
              "  @keyframes spin {\n",
              "    0% {\n",
              "      border-color: transparent;\n",
              "      border-bottom-color: var(--fill-color);\n",
              "      border-left-color: var(--fill-color);\n",
              "    }\n",
              "    20% {\n",
              "      border-color: transparent;\n",
              "      border-left-color: var(--fill-color);\n",
              "      border-top-color: var(--fill-color);\n",
              "    }\n",
              "    30% {\n",
              "      border-color: transparent;\n",
              "      border-left-color: var(--fill-color);\n",
              "      border-top-color: var(--fill-color);\n",
              "      border-right-color: var(--fill-color);\n",
              "    }\n",
              "    40% {\n",
              "      border-color: transparent;\n",
              "      border-right-color: var(--fill-color);\n",
              "      border-top-color: var(--fill-color);\n",
              "    }\n",
              "    60% {\n",
              "      border-color: transparent;\n",
              "      border-right-color: var(--fill-color);\n",
              "    }\n",
              "    80% {\n",
              "      border-color: transparent;\n",
              "      border-right-color: var(--fill-color);\n",
              "      border-bottom-color: var(--fill-color);\n",
              "    }\n",
              "    90% {\n",
              "      border-color: transparent;\n",
              "      border-bottom-color: var(--fill-color);\n",
              "    }\n",
              "  }\n",
              "</style>\n",
              "\n",
              "  <script>\n",
              "    async function quickchart(key) {\n",
              "      const quickchartButtonEl =\n",
              "        document.querySelector('#' + key + ' button');\n",
              "      quickchartButtonEl.disabled = true;  // To prevent multiple clicks.\n",
              "      quickchartButtonEl.classList.add('colab-df-spinner');\n",
              "      try {\n",
              "        const charts = await google.colab.kernel.invokeFunction(\n",
              "            'suggestCharts', [key], {});\n",
              "      } catch (error) {\n",
              "        console.error('Error during call to suggestCharts:', error);\n",
              "      }\n",
              "      quickchartButtonEl.classList.remove('colab-df-spinner');\n",
              "      quickchartButtonEl.classList.add('colab-df-quickchart-complete');\n",
              "    }\n",
              "    (() => {\n",
              "      let quickchartButtonEl =\n",
              "        document.querySelector('#df-50c19818-fd9c-4a3e-b6a2-bb208b31c24f button');\n",
              "      quickchartButtonEl.style.display =\n",
              "        google.colab.kernel.accessAllowed ? 'block' : 'none';\n",
              "    })();\n",
              "  </script>\n",
              "</div>\n",
              "\n",
              "    </div>\n",
              "  </div>\n"
            ],
            "application/vnd.google.colaboratory.intrinsic+json": {
              "type": "dataframe",
              "variable_name": "df_all",
              "summary": "{\n  \"name\": \"df_all\",\n  \"rows\": 3798,\n  \"fields\": [\n    {\n      \"column\": \"file_name\",\n      \"properties\": {\n        \"dtype\": \"string\",\n        \"num_unique_values\": 3798,\n        \"samples\": [\n          \"/content/crop_images/0334046_sc-156179_crops/0334046_sc-156179_scratched_11.jpg\",\n          \"/content/crop_images/0049071_sc-179215_crops/0049071_sc-179215_scratched_3.jpg\",\n          \"/content/crop_images/0387065_as-3241286_crops/0387065_as-3241286_crushed_2.jpg\"\n        ],\n        \"semantic_type\": \"\",\n        \"description\": \"\"\n      }\n    },\n    {\n      \"column\": \"damage\",\n      \"properties\": {\n        \"dtype\": \"category\",\n        \"num_unique_values\": 4,\n        \"samples\": [\n          \"crushed\",\n          \"breakage\",\n          \"scratched\"\n        ],\n        \"semantic_type\": \"\",\n        \"description\": \"\"\n      }\n    },\n    {\n      \"column\": \"label\",\n      \"properties\": {\n        \"dtype\": \"number\",\n        \"std\": 0,\n        \"min\": 0,\n        \"max\": 3,\n        \"num_unique_values\": 4,\n        \"samples\": [\n          3,\n          1,\n          2\n        ],\n        \"semantic_type\": \"\",\n        \"description\": \"\"\n      }\n    }\n  ]\n}"
            }
          },
          "metadata": {},
          "execution_count": 19
        }
      ]
    },
    {
      "cell_type": "code",
      "source": [
        "# 사진의 damage를 숫자로 labeling 한 데이터를 y에 저장하기 --> array\n",
        "y = df_all['label'].values\n",
        "y"
      ],
      "metadata": {
        "colab": {
          "base_uri": "https://localhost:8080/"
        },
        "id": "0IAnuUMk73s0",
        "outputId": "023f26b3-eab0-4a0b-bacd-7c7a0788d13e"
      },
      "execution_count": 20,
      "outputs": [
        {
          "output_type": "execute_result",
          "data": {
            "text/plain": [
              "array([2, 2, 2, ..., 2, 2, 2])"
            ]
          },
          "metadata": {},
          "execution_count": 20
        }
      ]
    },
    {
      "cell_type": "code",
      "source": [
        "# y에서 0,1,2,3의 분포를 알 수 있는 히스토그램 생성\n",
        "\n",
        "import matplotlib.pyplot as plt\n",
        "\n",
        "# Assuming 'y' is your NumPy array of damage labels (0, 1, 2, 3)\n",
        "plt.figure(figsize=(12, 6))\n",
        "plt.hist(y, bins=range(5), align='left', rwidth=0.8)  # bins=range(5) for 0 to 4, align='left' for correct bin placement\n",
        "plt.xticks(range(4)) # Set x-axis ticks to 0, 1, 2, 3\n",
        "plt.xlabel(\"Damage Type\")\n",
        "plt.ylabel(\"Count\")\n",
        "plt.title(\"Histogram of Damage Types\")\n",
        "plt.show()"
      ],
      "metadata": {
        "colab": {
          "base_uri": "https://localhost:8080/",
          "height": 564
        },
        "id": "6k1QdNinSpZm",
        "outputId": "68f4b0be-bc40-4ce7-c379-1a161aad469a"
      },
      "execution_count": 21,
      "outputs": [
        {
          "output_type": "display_data",
          "data": {
            "text/plain": [
              "<Figure size 1200x600 with 1 Axes>"
            ],
            "image/png": "[encoded data removed]"
          },
          "metadata": {}
        }
      ]
    },
    {
      "cell_type": "code",
      "source": [
        "y.shape"
      ],
      "metadata": {
        "colab": {
          "base_uri": "https://localhost:8080/"
        },
        "id": "uJkym8Ri8DvU",
        "outputId": "220a63ec-107f-4138-cbbe-45cc10c65494"
      },
      "execution_count": 22,
      "outputs": [
        {
          "output_type": "execute_result",
          "data": {
            "text/plain": [
              "(3798,)"
            ]
          },
          "metadata": {},
          "execution_count": 22
        }
      ]
    },
    {
      "cell_type": "code",
      "source": [
        "# crop_images 안의 모든 사진의 픽셀을 255로 나누어 정규화한 후, array 형식으로 바꾸어 x에 저장하기\n",
        "x = np.array([np.array(Image.open(file))/255.0 for file in df_all['file_name']])\n",
        "x"
      ],
      "metadata": {
        "colab": {
          "base_uri": "https://localhost:8080/"
        },
        "id": "rOHZivP-xh6V",
        "outputId": "4716fa4e-5f1d-41db-b517-ec15dd85beb4",
        "collapsed": true
      },
      "execution_count": 58,
      "outputs": [
        {
          "output_type": "execute_result",
          "data": {
            "text/plain": [
              "array([[[[0.42352941, 0.42352941, 0.41568627],\n",
              "         [0.42745098, 0.42745098, 0.41960784],\n",
              "         [0.43137255, 0.43137255, 0.42352941],\n",
              "         ...,\n",
              "         [0.43137255, 0.43137255, 0.42352941],\n",
              "         [0.43529412, 0.43529412, 0.42745098],\n",
              "         [0.43529412, 0.43529412, 0.42745098]],\n",
              "\n",
              "        [[0.43921569, 0.43921569, 0.43137255],\n",
              "         [0.44313725, 0.44313725, 0.43529412],\n",
              "         [0.44705882, 0.44705882, 0.43921569],\n",
              "         ...,\n",
              "         [0.43137255, 0.43137255, 0.42352941],\n",
              "         [0.43921569, 0.43921569, 0.43137255],\n",
              "         [0.43921569, 0.43921569, 0.43137255]],\n",
              "\n",
              "        [[0.44705882, 0.44705882, 0.43921569],\n",
              "         [0.44705882, 0.44705882, 0.43921569],\n",
              "         [0.45098039, 0.45098039, 0.44313725],\n",
              "         ...,\n",
              "         [0.43137255, 0.43137255, 0.42352941],\n",
              "         [0.42352941, 0.42352941, 0.41568627],\n",
              "         [0.42352941, 0.42352941, 0.41568627]],\n",
              "\n",
              "        ...,\n",
              "\n",
              "        [[0.54117647, 0.54117647, 0.53333333],\n",
              "         [0.54509804, 0.54509804, 0.5372549 ],\n",
              "         [0.55294118, 0.55294118, 0.54509804],\n",
              "         ...,\n",
              "         [0.54117647, 0.54117647, 0.53333333],\n",
              "         [0.54901961, 0.54901961, 0.54901961],\n",
              "         [0.54901961, 0.54901961, 0.54901961]],\n",
              "\n",
              "        [[0.55294118, 0.55294118, 0.54509804],\n",
              "         [0.56078431, 0.56078431, 0.55294118],\n",
              "         [0.56862745, 0.56862745, 0.56078431],\n",
              "         ...,\n",
              "         [0.54117647, 0.54117647, 0.53333333],\n",
              "         [0.54509804, 0.54509804, 0.54509804],\n",
              "         [0.54509804, 0.54509804, 0.54509804]],\n",
              "\n",
              "        [[0.56862745, 0.56862745, 0.56078431],\n",
              "         [0.57254902, 0.57254902, 0.56470588],\n",
              "         [0.57647059, 0.57647059, 0.56862745],\n",
              "         ...,\n",
              "         [0.54117647, 0.54117647, 0.53333333],\n",
              "         [0.54509804, 0.54509804, 0.54509804],\n",
              "         [0.54509804, 0.54509804, 0.54509804]]],\n",
              "\n",
              "\n",
              "       [[[0.51372549, 0.49803922, 0.49411765],\n",
              "         [0.50588235, 0.50196078, 0.49411765],\n",
              "         [0.50588235, 0.50196078, 0.49411765],\n",
              "         ...,\n",
              "         [0.01960784, 0.00392157, 0.00784314],\n",
              "         [0.02352941, 0.01568627, 0.01960784],\n",
              "         [0.02352941, 0.01568627, 0.01960784]],\n",
              "\n",
              "        [[0.48627451, 0.4627451 , 0.4627451 ],\n",
              "         [0.49019608, 0.47058824, 0.45882353],\n",
              "         [0.49019608, 0.4745098 , 0.47058824],\n",
              "         ...,\n",
              "         [0.01960784, 0.00392157, 0.00784314],\n",
              "         [0.02352941, 0.01568627, 0.01960784],\n",
              "         [0.02352941, 0.01568627, 0.01960784]],\n",
              "\n",
              "        [[0.41176471, 0.36470588, 0.36470588],\n",
              "         [0.43137255, 0.39215686, 0.38431373],\n",
              "         [0.46666667, 0.43529412, 0.42745098],\n",
              "         ...,\n",
              "         [0.02352941, 0.00784314, 0.01176471],\n",
              "         [0.02352941, 0.01568627, 0.01960784],\n",
              "         [0.02352941, 0.01568627, 0.01960784]],\n",
              "\n",
              "        ...,\n",
              "\n",
              "        [[0.3372549 , 0.33333333, 0.3254902 ],\n",
              "         [0.32941176, 0.3254902 , 0.30980392],\n",
              "         [0.32156863, 0.31764706, 0.30196078],\n",
              "         ...,\n",
              "         [0.02352941, 0.01960784, 0.01176471],\n",
              "         [0.02352941, 0.01568627, 0.01960784],\n",
              "         [0.02352941, 0.01568627, 0.01960784]],\n",
              "\n",
              "        [[0.35294118, 0.3372549 , 0.34117647],\n",
              "         [0.35686275, 0.34117647, 0.3372549 ],\n",
              "         [0.34117647, 0.3254902 , 0.32156863],\n",
              "         ...,\n",
              "         [0.01176471, 0.01176471, 0.01176471],\n",
              "         [0.01960784, 0.01960784, 0.01960784],\n",
              "         [0.01960784, 0.01960784, 0.01960784]],\n",
              "\n",
              "        [[0.37254902, 0.35686275, 0.36078431],\n",
              "         [0.37254902, 0.35686275, 0.36078431],\n",
              "         [0.35686275, 0.34117647, 0.3372549 ],\n",
              "         ...,\n",
              "         [0.00784314, 0.01176471, 0.01960784],\n",
              "         [0.01960784, 0.01960784, 0.01960784],\n",
              "         [0.01960784, 0.01960784, 0.01960784]]],\n",
              "\n",
              "\n",
              "       [[[0.23921569, 0.15686275, 0.14509804],\n",
              "         [0.2       , 0.11764706, 0.10588235],\n",
              "         [0.15294118, 0.05882353, 0.05098039],\n",
              "         ...,\n",
              "         [0.18431373, 0.02745098, 0.03137255],\n",
              "         [0.18039216, 0.01176471, 0.03921569],\n",
              "         [0.18039216, 0.01176471, 0.03921569]],\n",
              "\n",
              "        [[0.25098039, 0.16862745, 0.15686275],\n",
              "         [0.22352941, 0.14117647, 0.12941176],\n",
              "         [0.18039216, 0.09803922, 0.08627451],\n",
              "         ...,\n",
              "         [0.18823529, 0.03137255, 0.03529412],\n",
              "         [0.18431373, 0.01568627, 0.04313725],\n",
              "         [0.18431373, 0.01568627, 0.04313725]],\n",
              "\n",
              "        [[0.2627451 , 0.18823529, 0.17254902],\n",
              "         [0.24705882, 0.17254902, 0.15686275],\n",
              "         [0.21176471, 0.1372549 , 0.12156863],\n",
              "         ...,\n",
              "         [0.18039216, 0.02745098, 0.03137255],\n",
              "         [0.18431373, 0.02352941, 0.04705882],\n",
              "         [0.18431373, 0.02352941, 0.04705882]],\n",
              "\n",
              "        ...,\n",
              "\n",
              "        [[0.33333333, 0.32941176, 0.31372549],\n",
              "         [0.3372549 , 0.33333333, 0.31764706],\n",
              "         [0.3372549 , 0.33333333, 0.31764706],\n",
              "         ...,\n",
              "         [0.35294118, 0.3372549 , 0.33333333],\n",
              "         [0.34117647, 0.3372549 , 0.32941176],\n",
              "         [0.3372549 , 0.33333333, 0.3254902 ]],\n",
              "\n",
              "        [[0.3254902 , 0.32156863, 0.30588235],\n",
              "         [0.3254902 , 0.32156863, 0.30588235],\n",
              "         [0.3254902 , 0.32156863, 0.30588235],\n",
              "         ...,\n",
              "         [0.34117647, 0.3372549 , 0.32941176],\n",
              "         [0.32156863, 0.31764706, 0.30980392],\n",
              "         [0.31764706, 0.31372549, 0.30588235]],\n",
              "\n",
              "        [[0.3254902 , 0.32156863, 0.30588235],\n",
              "         [0.3254902 , 0.32156863, 0.30588235],\n",
              "         [0.3254902 , 0.32156863, 0.30588235],\n",
              "         ...,\n",
              "         [0.34117647, 0.3372549 , 0.32941176],\n",
              "         [0.32156863, 0.31764706, 0.30980392],\n",
              "         [0.31764706, 0.31372549, 0.30588235]]],\n",
              "\n",
              "\n",
              "       ...,\n",
              "\n",
              "\n",
              "       [[[0.50196078, 0.4745098 , 0.4       ],\n",
              "         [0.49803922, 0.47058824, 0.39607843],\n",
              "         [0.49019608, 0.4627451 , 0.39215686],\n",
              "         ...,\n",
              "         [0.16078431, 0.09411765, 0.13333333],\n",
              "         [0.23529412, 0.12941176, 0.16470588],\n",
              "         [0.22745098, 0.09803922, 0.13333333]],\n",
              "\n",
              "        [[0.49803922, 0.47058824, 0.39607843],\n",
              "         [0.49411765, 0.46666667, 0.39215686],\n",
              "         [0.48627451, 0.45882353, 0.38823529],\n",
              "         ...,\n",
              "         [0.48627451, 0.42352941, 0.4627451 ],\n",
              "         [0.24705882, 0.15686275, 0.18823529],\n",
              "         [0.24705882, 0.12941176, 0.16078431]],\n",
              "\n",
              "        [[0.49019608, 0.4627451 , 0.38823529],\n",
              "         [0.48627451, 0.45882353, 0.38431373],\n",
              "         [0.48235294, 0.45490196, 0.38431373],\n",
              "         ...,\n",
              "         [0.65882353, 0.61568627, 0.64705882],\n",
              "         [0.6627451 , 0.59607843, 0.62745098],\n",
              "         [0.65098039, 0.57647059, 0.6       ]],\n",
              "\n",
              "        ...,\n",
              "\n",
              "        [[0.47058824, 0.45098039, 0.37254902],\n",
              "         [0.4627451 , 0.45490196, 0.37254902],\n",
              "         [0.47058824, 0.45098039, 0.37647059],\n",
              "         ...,\n",
              "         [0.67843137, 0.67843137, 0.67058824],\n",
              "         [0.6745098 , 0.68235294, 0.67058824],\n",
              "         [0.66666667, 0.6745098 , 0.67058824]],\n",
              "\n",
              "        [[0.4745098 , 0.45098039, 0.36470588],\n",
              "         [0.47843137, 0.45882353, 0.37254902],\n",
              "         [0.48627451, 0.45882353, 0.38431373],\n",
              "         ...,\n",
              "         [0.6745098 , 0.6745098 , 0.66666667],\n",
              "         [0.67058824, 0.67058824, 0.6627451 ],\n",
              "         [0.67058824, 0.67058824, 0.6627451 ]],\n",
              "\n",
              "        [[0.4745098 , 0.45098039, 0.36470588],\n",
              "         [0.48235294, 0.45882353, 0.37254902],\n",
              "         [0.48627451, 0.45882353, 0.38431373],\n",
              "         ...,\n",
              "         [0.6745098 , 0.6745098 , 0.66666667],\n",
              "         [0.67058824, 0.67058824, 0.6627451 ],\n",
              "         [0.67058824, 0.67058824, 0.6627451 ]]],\n",
              "\n",
              "\n",
              "       [[[0.01960784, 0.01960784, 0.01960784],\n",
              "         [0.03921569, 0.03921569, 0.03921569],\n",
              "         [0.0627451 , 0.0627451 , 0.05490196],\n",
              "         ...,\n",
              "         [0.39215686, 0.36470588, 0.29019608],\n",
              "         [0.39607843, 0.36862745, 0.29411765],\n",
              "         [0.39607843, 0.36862745, 0.29411765]],\n",
              "\n",
              "        [[0.03529412, 0.03529412, 0.03529412],\n",
              "         [0.03529412, 0.03529412, 0.02745098],\n",
              "         [0.03921569, 0.03921569, 0.03137255],\n",
              "         ...,\n",
              "         [0.40392157, 0.37647059, 0.30196078],\n",
              "         [0.41176471, 0.38431373, 0.30980392],\n",
              "         [0.41176471, 0.38431373, 0.30980392]],\n",
              "\n",
              "        [[0.05098039, 0.05098039, 0.04313725],\n",
              "         [0.04705882, 0.04705882, 0.03921569],\n",
              "         [0.04705882, 0.04313725, 0.03529412],\n",
              "         ...,\n",
              "         [0.38823529, 0.36078431, 0.28627451],\n",
              "         [0.41176471, 0.38431373, 0.30980392],\n",
              "         [0.41176471, 0.38431373, 0.30980392]],\n",
              "\n",
              "        ...,\n",
              "\n",
              "        [[0.39215686, 0.36078431, 0.28627451],\n",
              "         [0.38823529, 0.35686275, 0.28235294],\n",
              "         [0.38039216, 0.34901961, 0.2745098 ],\n",
              "         ...,\n",
              "         [0.43137255, 0.4       , 0.31764706],\n",
              "         [0.41176471, 0.38823529, 0.30196078],\n",
              "         [0.41176471, 0.38823529, 0.30196078]],\n",
              "\n",
              "        [[0.37647059, 0.34509804, 0.2627451 ],\n",
              "         [0.38431373, 0.35294118, 0.27058824],\n",
              "         [0.38039216, 0.34901961, 0.26666667],\n",
              "         ...,\n",
              "         [0.41176471, 0.38431373, 0.30980392],\n",
              "         [0.4       , 0.37254902, 0.29803922],\n",
              "         [0.4       , 0.37254902, 0.29803922]],\n",
              "\n",
              "        [[0.37647059, 0.34509804, 0.2627451 ],\n",
              "         [0.38431373, 0.35294118, 0.27058824],\n",
              "         [0.38039216, 0.34901961, 0.26666667],\n",
              "         ...,\n",
              "         [0.41176471, 0.38431373, 0.30980392],\n",
              "         [0.4       , 0.37254902, 0.29803922],\n",
              "         [0.4       , 0.37254902, 0.29803922]]],\n",
              "\n",
              "\n",
              "       [[[0.65098039, 0.65098039, 0.64313725],\n",
              "         [0.65490196, 0.65490196, 0.64705882],\n",
              "         [0.65490196, 0.65490196, 0.64705882],\n",
              "         ...,\n",
              "         [0.65490196, 0.65490196, 0.64705882],\n",
              "         [0.69803922, 0.69803922, 0.69019608],\n",
              "         [0.69803922, 0.69803922, 0.69019608]],\n",
              "\n",
              "        [[0.65490196, 0.65490196, 0.64705882],\n",
              "         [0.65490196, 0.65490196, 0.64705882],\n",
              "         [0.65882353, 0.65882353, 0.65098039],\n",
              "         ...,\n",
              "         [0.66666667, 0.66666667, 0.65882353],\n",
              "         [0.67843137, 0.67843137, 0.67058824],\n",
              "         [0.67843137, 0.67843137, 0.67058824]],\n",
              "\n",
              "        [[0.6627451 , 0.6627451 , 0.65490196],\n",
              "         [0.65882353, 0.65882353, 0.65098039],\n",
              "         [0.65490196, 0.65490196, 0.64705882],\n",
              "         ...,\n",
              "         [0.6745098 , 0.6745098 , 0.66666667],\n",
              "         [0.66666667, 0.66666667, 0.65882353],\n",
              "         [0.66666667, 0.66666667, 0.65882353]],\n",
              "\n",
              "        ...,\n",
              "\n",
              "        [[0.70196078, 0.69803922, 0.67843137],\n",
              "         [0.68235294, 0.67843137, 0.65882353],\n",
              "         [0.66666667, 0.6627451 , 0.64313725],\n",
              "         ...,\n",
              "         [0.67843137, 0.65882353, 0.64705882],\n",
              "         [0.70196078, 0.68235294, 0.67058824],\n",
              "         [0.70196078, 0.68235294, 0.67058824]],\n",
              "\n",
              "        [[0.70588235, 0.69411765, 0.6745098 ],\n",
              "         [0.70588235, 0.69411765, 0.6745098 ],\n",
              "         [0.70588235, 0.69411765, 0.6745098 ],\n",
              "         ...,\n",
              "         [0.70588235, 0.69411765, 0.6745098 ],\n",
              "         [0.69411765, 0.67843137, 0.66666667],\n",
              "         [0.69411765, 0.67843137, 0.66666667]],\n",
              "\n",
              "        [[0.70980392, 0.69803922, 0.67843137],\n",
              "         [0.70980392, 0.69803922, 0.67843137],\n",
              "         [0.70588235, 0.69411765, 0.6745098 ],\n",
              "         ...,\n",
              "         [0.70588235, 0.69411765, 0.6745098 ],\n",
              "         [0.69019608, 0.6745098 , 0.6627451 ],\n",
              "         [0.69019608, 0.6745098 , 0.6627451 ]]]])"
            ]
          },
          "metadata": {},
          "execution_count": 58
        }
      ]
    },
    {
      "cell_type": "code",
      "source": [
        "x.shape"
      ],
      "metadata": {
        "colab": {
          "base_uri": "https://localhost:8080/"
        },
        "id": "s5sUVuOU9BMM",
        "outputId": "315c293b-6573-41d4-8b2b-40444951b15d"
      },
      "execution_count": 59,
      "outputs": [
        {
          "output_type": "execute_result",
          "data": {
            "text/plain": [
              "(3798, 50, 50, 3)"
            ]
          },
          "metadata": {},
          "execution_count": 59
        }
      ]
    },
    {
      "cell_type": "code",
      "source": [
        "# 데이터 분할 (train:0.8, validation:0.1, test:0.1)\n",
        "X_train, X_temp, y_train, y_temp = train_test_split(x, y, test_size=0.2, shuffle=True, random_state=42)\n",
        "X_val, X_test, y_val, y_test = train_test_split(X_temp, y_temp, test_size=0.5, shuffle=False, random_state=42)"
      ],
      "metadata": {
        "id": "QZCr6HUsQzKb"
      },
      "execution_count": 60,
      "outputs": []
    },
    {
      "cell_type": "code",
      "source": [
        "# 필요한 라이브러리 호출\n",
        "import tensorflow as tf\n",
        "import numpy as np\n",
        "from tensorflow.keras.regularizers import l1, l2, l1_l2\n",
        "from tensorflow.keras import Model\n",
        "from tensorflow.keras.models import Sequential\n",
        "from tensorflow.keras.preprocessing.image import ImageDataGenerator\n",
        "#from tensorflow.keras.utils import to_cataegorial\n",
        "from tensorflow.keras.layers import Conv2D, MaxPooling2D, Flatten, Dense, Dropout, Input\n",
        "from tensorflow.keras.optimizers import Adam\n",
        "from tensorflow.keras.callbacks import EarlyStopping, TensorBoard\n"
      ],
      "metadata": {
        "id": "oppLSrQCVHx-"
      },
      "execution_count": 61,
      "outputs": []
    },
    {
      "cell_type": "code",
      "source": [
        "# 이미지 증강\n",
        "image_generator = ImageDataGenerator(\n",
        "    rotation_range = 15,\n",
        "    zoom_range = 0.1,\n",
        "    shear_range=0.5,\n",
        "    width_shift_range=0.1,\n",
        "    height_shift_range=0.1,\n",
        "    horizontal_flip=True,\n",
        "    vertical_flip=False\n",
        ")"
      ],
      "metadata": {
        "id": "TTLx2Gs7xJdR"
      },
      "execution_count": 67,
      "outputs": []
    },
    {
      "cell_type": "code",
      "source": [
        "# # y_train 데이터에서 0,1,2,3으로 분류되는 데이터의 비율이 모두 비슷하도록 X_train 데이터를 image_generator로 이미지 증강시키기\n",
        "\n",
        "# from sklearn.utils import class_weight\n",
        "# import numpy as np\n",
        "\n",
        "# # Calculate class weights\n",
        "# class_weights = class_weight.compute_class_weight(\n",
        "#     class_weight='balanced',\n",
        "#     classes=np.unique(y_train),\n",
        "#     y=y_train\n",
        "# )\n",
        "\n",
        "# # Convert class weights to a dictionary\n",
        "# class_weight_dict = dict(enumerate(class_weights))\n",
        "\n",
        "# # 이미지 증강 (class_weight 적용)\n",
        "# image_generator.fit(X_train, augment=True)\n",
        "\n",
        "# # flow_from_dataframe() 메서드 대신 flow() 사용\n",
        "# train_generator = image_generator.flow(\n",
        "#     X_train,\n",
        "#     y_train,\n",
        "#     batch_size=32, # 적절한 배치 크기로 조정\n",
        "#     shuffle=True,\n",
        "#     seed=42\n",
        "# )"
      ],
      "metadata": {
        "id": "ooAfHCdtcOf3"
      },
      "execution_count": 64,
      "outputs": []
    },
    {
      "cell_type": "code",
      "source": [
        "print(X_train.shape)\n",
        "print(y_train.shape)"
      ],
      "metadata": {
        "colab": {
          "base_uri": "https://localhost:8080/"
        },
        "id": "-kXJF40yc-vA",
        "outputId": "ba730e8f-8f3b-4e4b-87d4-dd1f8bd109a7"
      },
      "execution_count": 65,
      "outputs": [
        {
          "output_type": "stream",
          "name": "stdout",
          "text": [
            "(3038, 50, 50, 3)\n",
            "(3038,)\n"
          ]
        }
      ]
    },
    {
      "cell_type": "code",
      "source": [
        "augment_size = 5000\n",
        "\n",
        "# X_train에서 5000개의 샘플을 무작위로 선택\n",
        "indices = np.random.permutation(len(X_train))[:5000]\n",
        "x_sample = X_train[indices]\n",
        "\n",
        "x_augmented = image_generator.flow(\n",
        "    x_sample,\n",
        "    batch_size=augment_size,\n",
        "    shuffle=False\n",
        ")\n",
        "\n",
        "x_augmented = next(x_augmented)\n",
        "y_augmented = y_train[indices]"
      ],
      "metadata": {
        "id": "h9alxftqbypz"
      },
      "execution_count": 68,
      "outputs": []
    },
    {
      "cell_type": "code",
      "source": [
        "print(x_augmented.shape)\n",
        "print(y_augmented.shape)"
      ],
      "metadata": {
        "colab": {
          "base_uri": "https://localhost:8080/"
        },
        "id": "I5WtGe7kY4Ve",
        "outputId": "9299d71d-b971-4b13-c21f-5f0c9193e286"
      },
      "execution_count": 69,
      "outputs": [
        {
          "output_type": "stream",
          "name": "stdout",
          "text": [
            "(3038, 50, 50, 3)\n",
            "(3038,)\n"
          ]
        }
      ]
    },
    {
      "cell_type": "code",
      "source": [
        "# 1개 이미지에 대한 증강 예시 -> 여러 이미지로 할거면 x_agument[0][i]로 수정\n",
        "plt.figure(figsize=(10,10))\n",
        "for i in range(1,11):\n",
        "    plt.subplot(1,10,i)\n",
        "    plt.imshow(x_augmented[0][i])\n",
        "    plt.axis('off')\n",
        "plt.show()"
      ],
      "metadata": {
        "colab": {
          "base_uri": "https://localhost:8080/",
          "height": 0
        },
        "id": "8Ti5rprDYeEj",
        "outputId": "218e6a38-b47f-4e78-d0bf-6c99f8e9bdc8",
        "collapsed": true
      },
      "execution_count": 70,
      "outputs": [
        {
          "output_type": "display_data",
          "data": {
            "text/plain": [
              "<Figure size 1000x1000 with 10 Axes>"
            ],
            "image/png": "[encoded data removed]"
          },
          "metadata": {}
        }
      ]
    },
    {
      "cell_type": "code",
      "source": [
        "X_train = np.concatenate((X_train, x_augmented))\n",
        "y_train = np.concatenate((y_train, y_augmented))"
      ],
      "metadata": {
        "id": "vBK0Cc0VxJtG"
      },
      "execution_count": 71,
      "outputs": []
    },
    {
      "cell_type": "code",
      "source": [
        "print(X_train.shape)\n",
        "print(y_train.shape)"
      ],
      "metadata": {
        "colab": {
          "base_uri": "https://localhost:8080/"
        },
        "id": "kDnio9EGxJ4a",
        "outputId": "f3dcbc78-60c4-41aa-a013-4bae1c296c7c"
      },
      "execution_count": 72,
      "outputs": [
        {
          "output_type": "stream",
          "name": "stdout",
          "text": [
            "(6076, 50, 50, 3)\n",
            "(6076,)\n"
          ]
        }
      ]
    },
    {
      "cell_type": "code",
      "source": [
        "# prompt: y_train에서 0,1,2,3의 분포를 알 수 있는 히스토그램 생성\n",
        "\n",
        "import matplotlib.pyplot as plt\n",
        "\n",
        "# Assuming y_train is already defined from the previous code\n",
        "\n",
        "plt.figure(figsize=(8, 6))\n",
        "plt.hist(y_train, bins=range(5), align='left', rwidth=0.8)\n",
        "plt.xticks(range(4))  # Set x-axis ticks to 0, 1, 2, 3\n",
        "plt.xlabel(\"Damage Type\")\n",
        "plt.ylabel(\"Count\")\n",
        "plt.title(\"Histogram of Damage Types in y_train\")\n",
        "plt.show()"
      ],
      "metadata": {
        "id": "rhx79JHpYd9E",
        "colab": {
          "base_uri": "https://localhost:8080/",
          "height": 564
        },
        "outputId": "89df3db2-3cf4-4098-8c78-650e0b369693"
      },
      "execution_count": 75,
      "outputs": [
        {
          "output_type": "display_data",
          "data": {
            "text/plain": [
              "<Figure size 800x600 with 1 Axes>"
            ],
            "image/png": "[encoded data removed]"
          },
          "metadata": {}
        }
      ]
    },
    {
      "cell_type": "code",
      "source": [
        "# prompt: y_train의 0,1,2,3 분포를 나타내는 파이차트 생성\n",
        "\n",
        "import matplotlib.pyplot as plt\n",
        "\n",
        "# Assuming y_train is already defined from the previous code\n",
        "\n",
        "# Count occurrences of each class\n",
        "unique, counts = np.unique(y_train, return_counts=True)\n",
        "\n",
        "# Create the pie chart\n",
        "plt.figure(figsize=(5, 5))\n",
        "plt.pie(counts, labels=unique, autopct='%1.1f%%', startangle=90)\n",
        "plt.title('Distribution of Damage Types in y_train')\n",
        "plt.axis('equal')  # Equal aspect ratio ensures that pie is drawn as a circle.\n",
        "plt.show()"
      ],
      "metadata": {
        "colab": {
          "base_uri": "https://localhost:8080/",
          "height": 444
        },
        "id": "WbPasxXH-zmq",
        "outputId": "0a47dc16-47c5-402b-d2ba-3f026371003c"
      },
      "execution_count": 76,
      "outputs": [
        {
          "output_type": "display_data",
          "data": {
            "text/plain": [
              "<Figure size 500x500 with 1 Axes>"
            ],
            "image/png": "[encoded data removed]"
          },
          "metadata": {}
        }
      ]
    },
    {
      "cell_type": "code",
      "source": [
        "# print(test_accuracy)\n",
        "# print(test_loss)\n",
        "# print(f1)\n"
      ],
      "metadata": {
        "colab": {
          "base_uri": "https://localhost:8080/"
        },
        "id": "wD0p_TPL95GS",
        "outputId": "57e47668-b9d2-496c-8323-31aef356e293"
      },
      "execution_count": null,
      "outputs": [
        {
          "output_type": "stream",
          "name": "stdout",
          "text": [
            "0.6052631735801697\n",
            "1.211572527885437\n",
            "0.4990509183029958\n"
          ]
        }
      ]
    },
    {
      "cell_type": "markdown",
      "source": [
        "----------------------------------------------------------"
      ],
      "metadata": {
        "id": "Wa-q66LiPHra"
      }
    },
    {
      "cell_type": "code",
      "source": [
        "# prompt: y 데이터에서 0,1,3으로 인코딩 된 값만 image_generator를 통해 2로 인코딩 된 데이터만큼 이미지 증강하기\n",
        "\n",
        "# Find indices where y is 0, 1, or 3\n",
        "indices_013 = np.where((y_train == 0) | (y_train == 1) | (y_train == 3))[0]"
      ],
      "metadata": {
        "id": "Ft7CskSz--Qn"
      },
      "execution_count": 77,
      "outputs": []
    },
    {
      "cell_type": "code",
      "source": [
        "indices_013.shape"
      ],
      "metadata": {
        "colab": {
          "base_uri": "https://localhost:8080/"
        },
        "id": "ajapdnVjA5ap",
        "outputId": "9d9115e0-5bf5-453c-d4bd-decfea0cfbf9"
      },
      "execution_count": 78,
      "outputs": [
        {
          "output_type": "execute_result",
          "data": {
            "text/plain": [
              "(2186,)"
            ]
          },
          "metadata": {},
          "execution_count": 78
        }
      ]
    },
    {
      "cell_type": "code",
      "source": [
        "indices_013[:100]"
      ],
      "metadata": {
        "colab": {
          "base_uri": "https://localhost:8080/"
        },
        "id": "OxrXcWHvBCMZ",
        "outputId": "c5210515-6a9b-4e81-873a-c9be8061383a"
      },
      "execution_count": 79,
      "outputs": [
        {
          "output_type": "execute_result",
          "data": {
            "text/plain": [
              "array([  0,   1,   2,   3,   4,   5,   7,   9,  15,  22,  24,  30,  33,\n",
              "        35,  37,  40,  47,  50,  51,  53,  54,  57,  59,  62,  64,  69,\n",
              "        70,  71,  73,  74,  77,  78,  79,  84,  88,  89,  91,  92,  93,\n",
              "        95,  96,  98, 102, 104, 108, 111, 116, 118, 120, 121, 125, 128,\n",
              "       129, 130, 138, 139, 140, 142, 146, 151, 154, 155, 157, 158, 161,\n",
              "       165, 170, 176, 181, 189, 191, 195, 196, 197, 198, 203, 208, 209,\n",
              "       213, 218, 220, 222, 224, 226, 235, 237, 240, 243, 246, 250, 251,\n",
              "       252, 253, 255, 257, 259, 260, 262, 265, 267])"
            ]
          },
          "metadata": {},
          "execution_count": 79
        }
      ]
    },
    {
      "cell_type": "code",
      "source": [
        "# Find indices where y is 2\n",
        "indices_2 = np.where(y_train == 2)[0]"
      ],
      "metadata": {
        "id": "TMpGRHFVA4cQ"
      },
      "execution_count": 80,
      "outputs": []
    },
    {
      "cell_type": "code",
      "source": [
        "indices_2.shape"
      ],
      "metadata": {
        "colab": {
          "base_uri": "https://localhost:8080/"
        },
        "id": "PoEahb5fBRvs",
        "outputId": "056360bb-e4a2-4d3f-da9f-dbda7993b69f"
      },
      "execution_count": 81,
      "outputs": [
        {
          "output_type": "execute_result",
          "data": {
            "text/plain": [
              "(3890,)"
            ]
          },
          "metadata": {},
          "execution_count": 81
        }
      ]
    },
    {
      "cell_type": "code",
      "source": [
        "# Number of images with damage type 2\n",
        "num_images_2 = len(indices_2)\n",
        "\n",
        "# Select images with damage types 0, 1, or 3\n",
        "x_013 = X_train[indices_013]\n",
        "y_013 = y_train[indices_013]"
      ],
      "metadata": {
        "id": "X5M3aoYjBPuP"
      },
      "execution_count": 82,
      "outputs": []
    },
    {
      "cell_type": "code",
      "source": [
        "num_images_2"
      ],
      "metadata": {
        "colab": {
          "base_uri": "https://localhost:8080/"
        },
        "id": "vH_IY5JkFHxM",
        "outputId": "d2556fb6-7a13-4ed0-9032-94e2f3daaddc"
      },
      "execution_count": 83,
      "outputs": [
        {
          "output_type": "execute_result",
          "data": {
            "text/plain": [
              "3890"
            ]
          },
          "metadata": {},
          "execution_count": 83
        }
      ]
    },
    {
      "cell_type": "code",
      "source": [
        "x_013.shape"
      ],
      "metadata": {
        "colab": {
          "base_uri": "https://localhost:8080/"
        },
        "id": "oO8LgkmZFNDR",
        "outputId": "3eb28e84-eaee-4228-b593-c973abcc73fa"
      },
      "execution_count": 84,
      "outputs": [
        {
          "output_type": "execute_result",
          "data": {
            "text/plain": [
              "(2186, 50, 50, 3)"
            ]
          },
          "metadata": {},
          "execution_count": 84
        }
      ]
    },
    {
      "cell_type": "code",
      "source": [
        "y_013.shape"
      ],
      "metadata": {
        "colab": {
          "base_uri": "https://localhost:8080/"
        },
        "id": "7JZuCc7xFNL-",
        "outputId": "453a5c66-6d89-4f6f-87c2-9e14ca9817d4"
      },
      "execution_count": 85,
      "outputs": [
        {
          "output_type": "execute_result",
          "data": {
            "text/plain": [
              "(2186,)"
            ]
          },
          "metadata": {},
          "execution_count": 85
        }
      ]
    },
    {
      "cell_type": "code",
      "source": [],
      "metadata": {
        "id": "vY7BNNCIFNSx"
      },
      "execution_count": null,
      "outputs": []
    },
    {
      "cell_type": "code",
      "source": [
        "# Image augmentation for classes 0, 1, and 3\n",
        "image_generator = ImageDataGenerator(\n",
        "    rotation_range=20,\n",
        "    zoom_range=0.2,\n",
        "    shear_range=0.7,\n",
        "    width_shift_range=0.1,\n",
        "    height_shift_range=0.1,\n",
        "    horizontal_flip=True,\n",
        "    vertical_flip=True\n",
        ")"
      ],
      "metadata": {
        "id": "JRu0GGxUFFUw"
      },
      "execution_count": 86,
      "outputs": []
    },
    {
      "cell_type": "code",
      "source": [
        "x_augmented_list = []\n",
        "y_augmented_list = []\n",
        "\n",
        "# Iterate through the images to be augmented\n",
        "for i in range(0, len(x_013), num_images_2):\n",
        "  batch_size = min(num_images_2, len(x_013) - i)\n",
        "  x_batch = x_013[i:i+batch_size]\n",
        "  y_batch = y_013[i:i+batch_size]\n",
        "\n",
        "  x_augmented = image_generator.flow(\n",
        "      x_batch,\n",
        "      batch_size=batch_size,\n",
        "      shuffle=False\n",
        "  )\n",
        "  x_augmented_list.append(next(x_augmented))\n",
        "  y_augmented_list.append(y_batch)\n"
      ],
      "metadata": {
        "id": "JVmmwahxFfxL"
      },
      "execution_count": 87,
      "outputs": []
    },
    {
      "cell_type": "code",
      "source": [
        "# Concatenate augmented images and labels\n",
        "x_augmented_013 = np.concatenate(x_augmented_list)\n",
        "y_augmented_013 = np.concatenate(y_augmented_list)\n",
        "\n",
        "# Concatenate the augmented data with the original training data\n",
        "X_train_augmented = np.concatenate((X_train, x_augmented_013))\n",
        "y_train_augmented = np.concatenate((y_train, y_augmented_013))\n"
      ],
      "metadata": {
        "id": "_0ifbNfQFmUq"
      },
      "execution_count": 88,
      "outputs": []
    },
    {
      "cell_type": "code",
      "source": [
        "# Now X_train_augmented and y_train_augmented contain the augmented data\n",
        "print(X_train_augmented.shape)\n",
        "y_train_augmented.shape"
      ],
      "metadata": {
        "colab": {
          "base_uri": "https://localhost:8080/"
        },
        "id": "-fGPONx0FsVL",
        "outputId": "8dbffb43-2f79-4432-fb84-d6b040795427"
      },
      "execution_count": 89,
      "outputs": [
        {
          "output_type": "stream",
          "name": "stdout",
          "text": [
            "(8262, 50, 50, 3)\n"
          ]
        },
        {
          "output_type": "execute_result",
          "data": {
            "text/plain": [
              "(8262,)"
            ]
          },
          "metadata": {},
          "execution_count": 89
        }
      ]
    },
    {
      "cell_type": "code",
      "source": [
        "# prompt: y_train의 0,1,2,3 분포를 나타내는 파이차트 생성\n",
        "\n",
        "import matplotlib.pyplot as plt\n",
        "\n",
        "# Assuming y_train is already defined from the previous code\n",
        "\n",
        "# Count occurrences of each class\n",
        "unique, counts = np.unique(y_train_augmented, return_counts=True)\n",
        "\n",
        "# Create the pie chart\n",
        "plt.figure(figsize=(5, 5))\n",
        "plt.pie(counts, labels=unique, autopct='%1.1f%%', startangle=90)\n",
        "plt.title('Distribution of Damage Types in y_train')\n",
        "plt.axis('equal')  # Equal aspect ratio ensures that pie is drawn as a circle.\n",
        "plt.show()"
      ],
      "metadata": {
        "colab": {
          "base_uri": "https://localhost:8080/",
          "height": 444
        },
        "id": "L-CfbL1CFwP5",
        "outputId": "e1186f84-0875-4baa-ad23-30820c2b5341"
      },
      "execution_count": 90,
      "outputs": [
        {
          "output_type": "display_data",
          "data": {
            "text/plain": [
              "<Figure size 500x500 with 1 Axes>"
            ],
            "image/png": "[encoded data removed]"
          },
          "metadata": {}
        }
      ]
    },
    {
      "cell_type": "code",
      "source": [
        "# prompt: y_train_augmented의 분포를 나타내는 히스토그램 생성\n",
        "\n",
        "import matplotlib.pyplot as plt\n",
        "\n",
        "# Assuming y_train_augmented is already defined from the previous code\n",
        "\n",
        "plt.figure(figsize=(12, 4))\n",
        "plt.hist(y_train_augmented, bins=range(5), align='left', rwidth=0.8)\n",
        "plt.xticks(range(4))  # Set x-axis ticks to 0, 1, 2, 3\n",
        "plt.xlabel(\"Damage Type\")\n",
        "plt.ylabel(\"Count\")\n",
        "plt.title(\"Histogram of Damage Types in y_train_augmented\")\n",
        "plt.show()"
      ],
      "metadata": {
        "colab": {
          "base_uri": "https://localhost:8080/",
          "height": 410
        },
        "id": "6h23p96SGFWp",
        "outputId": "2404823e-2153-4f1f-97b1-38334c1cd274"
      },
      "execution_count": 94,
      "outputs": [
        {
          "output_type": "display_data",
          "data": {
            "text/plain": [
              "<Figure size 1200x400 with 1 Axes>"
            ],
            "image/png": "[encoded data removed]"
          },
          "metadata": {}
        }
      ]
    },
    {
      "cell_type": "code",
      "source": [
        "# prompt: y_train_augmented에서 image_generator를 통해 0,1로 라벨링된 값은 2배 증가시키고 3으로 라벨링된 값은 4배 증가\n",
        "\n",
        "# Find indices where y_train_augmented is 0 or 1\n",
        "indices_01 = np.where((y_train_augmented == 0) | (y_train_augmented == 1))[0]\n",
        "\n",
        "# Find indices where y_train_augmented is 3\n",
        "indices_3 = np.where(y_train_augmented == 3)[0]\n",
        "\n",
        "# Number of images with damage type 3\n",
        "num_images_3 = len(indices_3)"
      ],
      "metadata": {
        "id": "Xv6xuex9Ge4R"
      },
      "execution_count": 95,
      "outputs": []
    },
    {
      "cell_type": "code",
      "source": [
        "# Separate data based on labels\n",
        "x_01 = X_train_augmented[indices_01]\n",
        "y_01 = y_train_augmented[indices_01]\n",
        "\n",
        "x_3 = X_train_augmented[indices_3]\n",
        "y_3 = y_train_augmented[indices_3]"
      ],
      "metadata": {
        "id": "eWN-bGWIHm9O"
      },
      "execution_count": 96,
      "outputs": []
    },
    {
      "cell_type": "code",
      "source": [
        "x_01.shape"
      ],
      "metadata": {
        "colab": {
          "base_uri": "https://localhost:8080/"
        },
        "id": "jUx3icnpId6-",
        "outputId": "7f669ee4-ec27-4426-acf3-543e9a552055"
      },
      "execution_count": 97,
      "outputs": [
        {
          "output_type": "execute_result",
          "data": {
            "text/plain": [
              "(3392, 50, 50, 3)"
            ]
          },
          "metadata": {},
          "execution_count": 97
        }
      ]
    },
    {
      "cell_type": "code",
      "source": [
        "x_3.shape"
      ],
      "metadata": {
        "colab": {
          "base_uri": "https://localhost:8080/"
        },
        "id": "qOwxM6axIeDz",
        "outputId": "14f21920-bfc3-4bd3-e45d-29c75927b986"
      },
      "execution_count": 98,
      "outputs": [
        {
          "output_type": "execute_result",
          "data": {
            "text/plain": [
              "(980, 50, 50, 3)"
            ]
          },
          "metadata": {},
          "execution_count": 98
        }
      ]
    },
    {
      "cell_type": "code",
      "source": [
        "# Augment class 0 and 1 (double the size)\n",
        "x_augmented_list_01 = []\n",
        "y_augmented_list_01 = []\n",
        "\n",
        "for i in range(0, len(x_01), num_images_3):  # Use num_images_3 as a reference size\n",
        "    batch_size = min(num_images_3, len(x_01) - i)\n",
        "    x_batch = x_01[i:i + batch_size]\n",
        "    y_batch = y_01[i:i + batch_size]\n",
        "\n",
        "    x_augmented = image_generator.flow(\n",
        "        x_batch,\n",
        "        batch_size=batch_size,\n",
        "        shuffle=False\n",
        "    )\n",
        "    x_augmented_list_01.append(next(x_augmented))\n",
        "    y_augmented_list_01.append(y_batch)\n",
        "\n",
        "x_augmented_01 = np.concatenate(x_augmented_list_01)\n",
        "y_augmented_01 = np.concatenate(y_augmented_list_01)\n"
      ],
      "metadata": {
        "id": "0UUddvu_H0JJ"
      },
      "execution_count": 99,
      "outputs": []
    },
    {
      "cell_type": "code",
      "source": [
        "x_augmented_01.shape"
      ],
      "metadata": {
        "colab": {
          "base_uri": "https://localhost:8080/"
        },
        "id": "-ED7tapFIvgL",
        "outputId": "9cc81710-86b7-4d9e-f2d9-3b63abf5048d"
      },
      "execution_count": 100,
      "outputs": [
        {
          "output_type": "execute_result",
          "data": {
            "text/plain": [
              "(3392, 50, 50, 3)"
            ]
          },
          "metadata": {},
          "execution_count": 100
        }
      ]
    },
    {
      "cell_type": "code",
      "source": [
        "x_augmented_01"
      ],
      "metadata": {
        "colab": {
          "base_uri": "https://localhost:8080/"
        },
        "collapsed": true,
        "id": "oXYZk5rbIvOC",
        "outputId": "78029905-2ab7-46a3-d5aa-bf296439e145"
      },
      "execution_count": 102,
      "outputs": [
        {
          "output_type": "execute_result",
          "data": {
            "text/plain": [
              "array([[[[0.19126888, 0.23147815, 0.21479829],\n",
              "         [0.23771918, 0.29421338, 0.26538393],\n",
              "         [0.11860479, 0.18527146, 0.1538989 ],\n",
              "         ...,\n",
              "         [0.02352941, 0.03137255, 0.02745098],\n",
              "         [0.02352941, 0.03137255, 0.02745098],\n",
              "         [0.02352941, 0.03137255, 0.02745098]],\n",
              "\n",
              "        [[0.19366333, 0.23421468, 0.21719274],\n",
              "         [0.23592333, 0.2927596 , 0.26384464],\n",
              "         [0.11492759, 0.18159427, 0.1502217 ],\n",
              "         ...,\n",
              "         [0.02352941, 0.03137255, 0.02745098],\n",
              "         [0.02352941, 0.03137255, 0.02745098],\n",
              "         [0.02352941, 0.03137255, 0.02745098]],\n",
              "\n",
              "        [[0.19605778, 0.23695119, 0.21958719],\n",
              "         [0.23412749, 0.29130584, 0.26230535],\n",
              "         [0.11125039, 0.17791706, 0.1465445 ],\n",
              "         ...,\n",
              "         [0.02352941, 0.03137255, 0.02745098],\n",
              "         [0.02352941, 0.03137255, 0.02745098],\n",
              "         [0.02352941, 0.03137255, 0.02745098]],\n",
              "\n",
              "        ...,\n",
              "\n",
              "        [[0.9559852 , 0.5089956 , 0.50940573],\n",
              "         [0.9581054 , 0.5208336 , 0.5211141 ],\n",
              "         [0.9429673 , 0.5161067 , 0.5177723 ],\n",
              "         ...,\n",
              "         [1.        , 0.57328117, 0.56962067],\n",
              "         [1.        , 0.5735195 , 0.56866705],\n",
              "         [1.        , 0.57375795, 0.56771344]],\n",
              "\n",
              "        [[0.93444204, 0.50115675, 0.4966759 ],\n",
              "         [0.9269097 , 0.50152844, 0.4983056 ],\n",
              "         [0.9052677 , 0.4843679 , 0.4843679 ],\n",
              "         ...,\n",
              "         [0.93929815, 0.42838216, 0.4473515 ],\n",
              "         [0.9412054 , 0.4329118 , 0.45128512],\n",
              "         [0.9431126 , 0.43744147, 0.45521876]],\n",
              "\n",
              "        [[0.92791426, 0.49953675, 0.49411765],\n",
              "         [0.9123128 , 0.49207774, 0.48752895],\n",
              "         [0.88153976, 0.4658535 , 0.4658535 ],\n",
              "         ...,\n",
              "         [0.8352941 , 0.23407705, 0.24180955],\n",
              "         [0.83551663, 0.23570493, 0.24357374],\n",
              "         [0.8386159 , 0.2414266 , 0.24965301]]],\n",
              "\n",
              "\n",
              "       [[[0.58542615, 0.5831826 , 0.57420826],\n",
              "         [0.4143419 , 0.4143419 , 0.4143419 ],\n",
              "         [0.14160393, 0.14160393, 0.14160393],\n",
              "         ...,\n",
              "         [0.17836715, 0.17836715, 0.18621029],\n",
              "         [0.1764706 , 0.1764706 , 0.18431373],\n",
              "         [0.1764706 , 0.1764706 , 0.18431373]],\n",
              "\n",
              "        [[0.58266497, 0.579501  , 0.56684506],\n",
              "         [0.51650673, 0.51650673, 0.51650673],\n",
              "         [0.15080796, 0.15080796, 0.15080796],\n",
              "         ...,\n",
              "         [0.17928757, 0.17928757, 0.1871307 ],\n",
              "         [0.1764706 , 0.1764706 , 0.18431373],\n",
              "         [0.1764706 , 0.1764706 , 0.18431373]],\n",
              "\n",
              "        [[0.58706766, 0.5828205 , 0.56664574],\n",
              "         [0.59144026, 0.5912014 , 0.5902459 ],\n",
              "         [0.19181947, 0.19181947, 0.19181947],\n",
              "         ...,\n",
              "         [0.18020797, 0.18020797, 0.1880511 ],\n",
              "         [0.1764706 , 0.1764706 , 0.18431373],\n",
              "         [0.1764706 , 0.1764706 , 0.18431373]],\n",
              "\n",
              "        ...,\n",
              "\n",
              "        [[0.7875648 , 0.7758001 , 0.7169766 ],\n",
              "         [0.7891977 , 0.777433  , 0.71860945],\n",
              "         [0.7908305 , 0.7790658 , 0.72024226],\n",
              "         ...,\n",
              "         [0.8234144 , 0.8312575 , 0.78027713],\n",
              "         [0.8311054 , 0.83894855, 0.78796816],\n",
              "         [0.83354294, 0.8413861 , 0.7904057 ]],\n",
              "\n",
              "        [[0.79425406, 0.78248936, 0.72366583],\n",
              "         [0.79507047, 0.78330576, 0.72448224],\n",
              "         [0.7958869 , 0.78412217, 0.72529864],\n",
              "         ...,\n",
              "         [0.8215736 , 0.82941675, 0.77843636],\n",
              "         [0.82926464, 0.8371078 , 0.7861274 ],\n",
              "         [0.83446336, 0.8423065 , 0.7913261 ]],\n",
              "\n",
              "        [[0.80121607, 0.78945136, 0.73062783],\n",
              "         [0.8028489 , 0.7910842 , 0.73226064],\n",
              "         [0.8039216 , 0.7921569 , 0.73333335],\n",
              "         ...,\n",
              "         [0.8197328 , 0.8275759 , 0.77659553],\n",
              "         [0.8274238 , 0.83526695, 0.78428656],\n",
              "         [0.83511484, 0.842958  , 0.7919776 ]]],\n",
              "\n",
              "\n",
              "       [[[0.8597535 , 0.7047042 , 0.70078266],\n",
              "         [0.8497406 , 0.693261  , 0.68933946],\n",
              "         [0.8397278 , 0.6818178 , 0.67789626],\n",
              "         ...,\n",
              "         [0.35180524, 0.29162645, 0.30339116],\n",
              "         [0.339784  , 0.2792809 , 0.2910456 ],\n",
              "         [0.3606043 , 0.3000626 , 0.3118273 ]],\n",
              "\n",
              "        [[0.7616346 , 0.5832344 , 0.58126324],\n",
              "         [0.7675946 , 0.5877641 , 0.5862697 ],\n",
              "         [0.7735546 , 0.5922937 , 0.59127605],\n",
              "         ...,\n",
              "         [0.33890957, 0.28230044, 0.29323453],\n",
              "         [0.32825673, 0.27335542, 0.28381273],\n",
              "         [0.34039518, 0.2869243 , 0.2969048 ]],\n",
              "\n",
              "        [[0.8475848 , 0.6458338 , 0.6516462 ],\n",
              "         [0.850684  , 0.64750254, 0.6537918 ],\n",
              "         [0.8537832 , 0.64917135, 0.65593743],\n",
              "         ...,\n",
              "         [0.3058562 , 0.26936296, 0.27279332],\n",
              "         [0.30168253, 0.27019233, 0.27263793],\n",
              "         [0.3009912 , 0.27299002, 0.2743245 ]],\n",
              "\n",
              "        ...,\n",
              "\n",
              "        [[0.84313726, 0.41960785, 0.41960785],\n",
              "         [0.84313726, 0.41960785, 0.41960785],\n",
              "         [0.84313726, 0.41960785, 0.41960785],\n",
              "         ...,\n",
              "         [0.8116724 , 0.44178903, 0.46269894],\n",
              "         [0.7435622 , 0.42541614, 0.43013296],\n",
              "         [0.7394225 , 0.4669091 , 0.46357223]],\n",
              "\n",
              "        [[0.84313726, 0.41960785, 0.41960785],\n",
              "         [0.84313726, 0.41960785, 0.41960785],\n",
              "         [0.84313726, 0.41960785, 0.41960785],\n",
              "         ...,\n",
              "         [0.8157603 , 0.44360587, 0.4647429 ],\n",
              "         [0.7469688 , 0.42587036, 0.4317227 ],\n",
              "         [0.73874116, 0.46395674, 0.46084696]],\n",
              "\n",
              "        [[0.84313726, 0.41960785, 0.41960785],\n",
              "         [0.84313726, 0.41960785, 0.41960785],\n",
              "         [0.84313726, 0.41960785, 0.41960785],\n",
              "         ...,\n",
              "         [0.8198482 , 0.44542274, 0.46678683],\n",
              "         [0.7503754 , 0.42632458, 0.43331245],\n",
              "         [0.7380598 , 0.46100438, 0.4581217 ]]],\n",
              "\n",
              "\n",
              "       ...,\n",
              "\n",
              "\n",
              "       [[[0.1448446 , 0.17756134, 0.22322571],\n",
              "         [0.14310355, 0.17550324, 0.22199364],\n",
              "         [0.13718091, 0.16855346, 0.21675804],\n",
              "         ...,\n",
              "         [0.12620434, 0.12752365, 0.12690587],\n",
              "         [0.11847744, 0.11853171, 0.11506449],\n",
              "         [0.1152693 , 0.11553884, 0.10801215]],\n",
              "\n",
              "        [[0.14753266, 0.1812752 , 0.22502334],\n",
              "         [0.14610529, 0.17942901, 0.22404423],\n",
              "         [0.1392251 , 0.17059764, 0.21897984],\n",
              "         ...,\n",
              "         [0.11433987, 0.11679387, 0.10971833],\n",
              "         [0.11413743, 0.11546452, 0.10470283],\n",
              "         [0.10719632, 0.10899297, 0.09589853]],\n",
              "\n",
              "        [[0.14966823, 0.18422574, 0.22645152],\n",
              "         [0.14888042, 0.18314229, 0.2259237 ],\n",
              "         [0.1413059 , 0.17276235, 0.22081941],\n",
              "         ...,\n",
              "         [0.11213399, 0.11810906, 0.10690425],\n",
              "         [0.10276154, 0.10772548, 0.09426611],\n",
              "         [0.09575686, 0.09869596, 0.08458082]],\n",
              "\n",
              "        ...,\n",
              "\n",
              "        [[0.05465299, 0.23689732, 0.40008077],\n",
              "         [0.05492514, 0.23794839, 0.40139738],\n",
              "         [0.05519728, 0.23899946, 0.40271395],\n",
              "         ...,\n",
              "         [0.23620716, 0.20167524, 0.17176375],\n",
              "         [0.23045973, 0.20018093, 0.1752355 ],\n",
              "         [0.26398432, 0.24044262, 0.22100371]],\n",
              "\n",
              "        [[0.06138725, 0.25016087, 0.41517958],\n",
              "         [0.06413793, 0.25361478, 0.41865352],\n",
              "         [0.06688861, 0.2570687 , 0.42212743],\n",
              "         ...,\n",
              "         [0.23464097, 0.19953912, 0.16696873],\n",
              "         [0.234338  , 0.20137294, 0.17465055],\n",
              "         [0.24408075, 0.21763198, 0.19566745]],\n",
              "\n",
              "        [[0.08406976, 0.2787004 , 0.44388235],\n",
              "         [0.0853289 , 0.28038335, 0.44557124],\n",
              "         [0.08658805, 0.2820663 , 0.44726014],\n",
              "         ...,\n",
              "         [0.23957363, 0.20430428, 0.17018972],\n",
              "         [0.24095766, 0.20592959, 0.17740291],\n",
              "         [0.23012793, 0.20099938, 0.17682755]]],\n",
              "\n",
              "\n",
              "       [[[0.4913202 , 0.30899036, 0.29759774],\n",
              "         [0.4326135 , 0.20458204, 0.19150646],\n",
              "         [0.46141958, 0.17900328, 0.16845427],\n",
              "         ...,\n",
              "         [0.4006831 , 0.09947552, 0.09947552],\n",
              "         [0.40129712, 0.09993085, 0.09993085],\n",
              "         [0.4019111 , 0.10038617, 0.10038617]],\n",
              "\n",
              "        [[0.49364412, 0.31487843, 0.30361375],\n",
              "         [0.436393  , 0.2128826 , 0.19987985],\n",
              "         [0.4583381 , 0.18126261, 0.17047718],\n",
              "         ...,\n",
              "         [0.40703028, 0.10418244, 0.10418244],\n",
              "         [0.4076443 , 0.10463776, 0.10463776],\n",
              "         [0.4082583 , 0.10509309, 0.10509309]],\n",
              "\n",
              "        [[0.46647796, 0.26728275, 0.25834545],\n",
              "         [0.43006685, 0.18119606, 0.17158777],\n",
              "         [0.4806079 , 0.17481402, 0.16841707],\n",
              "         ...,\n",
              "         [0.41337746, 0.10888936, 0.10888936],\n",
              "         [0.41399148, 0.10934468, 0.10934468],\n",
              "         [0.41460547, 0.10980001, 0.10980001]],\n",
              "\n",
              "        ...,\n",
              "\n",
              "        [[0.59770054, 0.1969051 , 0.21006511],\n",
              "         [0.62956053, 0.22776446, 0.24057318],\n",
              "         [0.63348657, 0.23189655, 0.24356687],\n",
              "         ...,\n",
              "         [0.6654782 , 0.14002982, 0.14537752],\n",
              "         [0.6663049 , 0.14198586, 0.14705832],\n",
              "         [0.66713154, 0.14394191, 0.14873913]],\n",
              "\n",
              "        [[0.5934596 , 0.18988018, 0.20222718],\n",
              "         [0.623092  , 0.21920516, 0.23102875],\n",
              "         [0.62395364, 0.22308601, 0.23363215],\n",
              "         ...,\n",
              "         [0.6826663 , 0.17175928, 0.17548473],\n",
              "         [0.6852089 , 0.17600039, 0.17969343],\n",
              "         [0.68775153, 0.18024151, 0.18390214]],\n",
              "\n",
              "        [[0.59563935, 0.19171776, 0.2037968 ],\n",
              "         [0.61618507, 0.21227728, 0.22405595],\n",
              "         [0.607214  , 0.20708314, 0.21733326],\n",
              "         ...,\n",
              "         [0.69756025, 0.19660264, 0.20013826],\n",
              "         [0.69756025, 0.19660264, 0.20013826],\n",
              "         [0.69756025, 0.19660264, 0.20013826]]],\n",
              "\n",
              "\n",
              "       [[[0.22793578, 0.22793578, 0.22009264],\n",
              "         [0.21836261, 0.21836261, 0.21051948],\n",
              "         [0.20796464, 0.20796464, 0.2001215 ],\n",
              "         ...,\n",
              "         [0.21121952, 0.2196581 , 0.21573654],\n",
              "         [0.20967656, 0.21836172, 0.21444015],\n",
              "         [0.2081336 , 0.21706535, 0.21314378]],\n",
              "\n",
              "        [[0.22924896, 0.22924896, 0.22140582],\n",
              "         [0.22006498, 0.22006498, 0.21222185],\n",
              "         [0.2095084 , 0.2095084 , 0.20166527],\n",
              "         ...,\n",
              "         [0.2050758 , 0.21447842, 0.2105366 ],\n",
              "         [0.20556495, 0.21487302, 0.21091262],\n",
              "         [0.20605409, 0.21526763, 0.21128865]],\n",
              "\n",
              "        [[0.23056968, 0.23056968, 0.22272654],\n",
              "         [0.2220571 , 0.2220571 , 0.21421397],\n",
              "         [0.2118277 , 0.2118277 , 0.20398456],\n",
              "         ...,\n",
              "         [0.20936064, 0.21791573, 0.21373892],\n",
              "         [0.21212876, 0.22012182, 0.2157392 ],\n",
              "         [0.21489687, 0.22232789, 0.2177395 ]],\n",
              "\n",
              "        ...,\n",
              "\n",
              "        [[0.16605222, 0.16219138, 0.12815526],\n",
              "         [0.16671988, 0.16426189, 0.1321096 ],\n",
              "         [0.16738755, 0.16633242, 0.13606392],\n",
              "         ...,\n",
              "         [0.29935175, 0.28482768, 0.25297505],\n",
              "         [0.28771448, 0.27520585, 0.2405444 ],\n",
              "         [0.2750631 , 0.2702151 , 0.23724467]],\n",
              "\n",
              "        [[0.17048675, 0.17390676, 0.1497447 ],\n",
              "         [0.17402647, 0.17773347, 0.1542975 ],\n",
              "         [0.1775662 , 0.18156017, 0.1588503 ],\n",
              "         ...,\n",
              "         [0.3079236 , 0.2936858 , 0.2630722 ],\n",
              "         [0.28960595, 0.27631348, 0.24172409],\n",
              "         [0.27712873, 0.27121052, 0.23800251]],\n",
              "\n",
              "        [[0.18965998, 0.19463445, 0.17440534],\n",
              "         [0.20864403, 0.21307501, 0.19294627],\n",
              "         [0.22910014, 0.2329085 , 0.21282049],\n",
              "         ...,\n",
              "         [0.3212011 , 0.30760717, 0.27874184],\n",
              "         [0.2914103 , 0.2778898 , 0.24380708],\n",
              "         [0.2790886 , 0.27195022, 0.23847312]]]], dtype=float32)"
            ]
          },
          "metadata": {},
          "execution_count": 102
        }
      ]
    },
    {
      "cell_type": "code",
      "source": [
        "y_augmented_01.shape"
      ],
      "metadata": {
        "colab": {
          "base_uri": "https://localhost:8080/"
        },
        "id": "WY30jryvI4Pr",
        "outputId": "606d258c-1b2f-4eab-f272-8d00be7046ce"
      },
      "execution_count": 103,
      "outputs": [
        {
          "output_type": "execute_result",
          "data": {
            "text/plain": [
              "(3392,)"
            ]
          },
          "metadata": {},
          "execution_count": 103
        }
      ]
    },
    {
      "cell_type": "code",
      "source": [
        "# Augment class 3 (quadruple the size)\n",
        "x_augmented_list_3 = []\n",
        "y_augmented_list_3 = []\n",
        "for _ in range(4):  # Loop 4 times for quadrupling the data\n",
        "    for i in range(0, len(x_3), num_images_3):\n",
        "        batch_size = min(num_images_3, len(x_3) - i)\n",
        "        x_batch = x_3[i:i + batch_size]\n",
        "        y_batch = y_3[i:i + batch_size]\n",
        "\n",
        "        x_augmented = image_generator.flow(\n",
        "            x_batch,\n",
        "            batch_size=batch_size,\n",
        "            shuffle=False\n",
        "        )\n",
        "        x_augmented_list_3.append(next(x_augmented))\n",
        "        y_augmented_list_3.append(y_batch)\n",
        "\n",
        "x_augmented_3 = np.concatenate(x_augmented_list_3)\n",
        "y_augmented_3 = np.concatenate(y_augmented_list_3)"
      ],
      "metadata": {
        "id": "WZaGfxroIZU0"
      },
      "execution_count": 104,
      "outputs": []
    },
    {
      "cell_type": "code",
      "source": [
        "x_augmented_3.shape"
      ],
      "metadata": {
        "colab": {
          "base_uri": "https://localhost:8080/"
        },
        "id": "6kPo4MLMJEIq",
        "outputId": "a1bcc956-9d29-4bd5-c56d-dfb36bce4868"
      },
      "execution_count": 105,
      "outputs": [
        {
          "output_type": "execute_result",
          "data": {
            "text/plain": [
              "(3920, 50, 50, 3)"
            ]
          },
          "metadata": {},
          "execution_count": 105
        }
      ]
    },
    {
      "cell_type": "code",
      "source": [
        "x_augmented_3"
      ],
      "metadata": {
        "colab": {
          "base_uri": "https://localhost:8080/"
        },
        "collapsed": true,
        "id": "1fp3ttWuJEAc",
        "outputId": "b6d236fe-887f-4aa5-f5f4-6940d3d84a03"
      },
      "execution_count": 106,
      "outputs": [
        {
          "output_type": "execute_result",
          "data": {
            "text/plain": [
              "array([[[[0.95446616, 0.95686275, 0.7355116 ],\n",
              "         [0.9331499 , 0.9387207 , 0.7030234 ],\n",
              "         [0.9094901 , 0.9182352 , 0.6675686 ],\n",
              "         ...,\n",
              "         [0.65969265, 0.67402345, 0.31217334],\n",
              "         [0.6171065 , 0.6327928 , 0.26234654],\n",
              "         [0.6046499 , 0.6203362 , 0.24885857]],\n",
              "\n",
              "        [[0.95463735, 0.95686275, 0.7361964 ],\n",
              "         [0.9352042 , 0.94060385, 0.7057625 ],\n",
              "         [0.9088054 , 0.9173792 , 0.66739744],\n",
              "         ...,\n",
              "         [0.6627742 , 0.67693377, 0.31593966],\n",
              "         [0.61881846, 0.63450474, 0.2642297 ],\n",
              "         [0.6032803 , 0.6189666 , 0.24731779]],\n",
              "\n",
              "        [[0.95480853, 0.95686275, 0.7368812 ],\n",
              "         [0.9372586 , 0.94248706, 0.70850164],\n",
              "         [0.9081206 , 0.9165232 , 0.66722625],\n",
              "         ...,\n",
              "         [0.6658557 , 0.67984414, 0.319706  ],\n",
              "         [0.6205304 , 0.6362167 , 0.2661129 ],\n",
              "         [0.60191077, 0.61759704, 0.24577703]],\n",
              "\n",
              "        ...,\n",
              "\n",
              "        [[0.90141344, 0.9027528 , 0.609878  ],\n",
              "         [0.91422325, 0.91542965, 0.6219311 ],\n",
              "         [0.8779296 , 0.879003  , 0.58451337],\n",
              "         ...,\n",
              "         [0.70980394, 0.7137255 , 0.41568628],\n",
              "         [0.70495695, 0.7088785 , 0.41083932],\n",
              "         [0.70324916, 0.7071707 , 0.4091315 ]],\n",
              "\n",
              "        [[0.892629  , 0.892629  , 0.6083048 ],\n",
              "         [0.8466317 , 0.8456339 , 0.56656444],\n",
              "         [0.82260436, 0.81940246, 0.55291206],\n",
              "         ...,\n",
              "         [0.70980394, 0.7137255 , 0.41568628],\n",
              "         [0.70547056, 0.70939213, 0.4113529 ],\n",
              "         [0.702222  , 0.70614356, 0.40810433]],\n",
              "\n",
              "        [[0.8741612 , 0.8741612 , 0.5949139 ],\n",
              "         [0.8148163 , 0.81371254, 0.5446871 ],\n",
              "         [0.8196356 , 0.8153909 , 0.5650283 ],\n",
              "         ...,\n",
              "         [0.70980394, 0.7137255 , 0.41568628],\n",
              "         [0.7059842 , 0.70990574, 0.4118665 ],\n",
              "         [0.7011948 , 0.7051164 , 0.40707713]]],\n",
              "\n",
              "\n",
              "       [[[0.09064613, 0.09848926, 0.07888142],\n",
              "         [0.10961439, 0.1168483 , 0.09663124],\n",
              "         [0.16801248, 0.17217283, 0.14888218],\n",
              "         ...,\n",
              "         [0.40480182, 0.40480182, 0.39695868],\n",
              "         [0.42823464, 0.42823464, 0.4203915 ],\n",
              "         [0.4516675 , 0.4516675 , 0.44382435]],\n",
              "\n",
              "        [[0.08710945, 0.09495258, 0.07534474],\n",
              "         [0.0963302 , 0.10417334, 0.0845655 ],\n",
              "         [0.14561355, 0.15095279, 0.12884103],\n",
              "         ...,\n",
              "         [0.47528082, 0.47528082, 0.46743768],\n",
              "         [0.48429343, 0.48429343, 0.4764503 ],\n",
              "         [0.49330607, 0.49330607, 0.48546293]],\n",
              "\n",
              "        [[0.09167799, 0.09952112, 0.07991328],\n",
              "         [0.09279353, 0.10063667, 0.08102883],\n",
              "         [0.12321462, 0.12973273, 0.10879987],\n",
              "         ...,\n",
              "         [0.48787427, 0.48787427, 0.48003113],\n",
              "         [0.48517048, 0.48517048, 0.47732735],\n",
              "         [0.48246667, 0.48246667, 0.47462353]],\n",
              "\n",
              "        ...,\n",
              "\n",
              "        [[0.31411308, 0.29450524, 0.27097583],\n",
              "         [0.310461  , 0.29085317, 0.26732376],\n",
              "         [0.30472702, 0.28511918, 0.26158977],\n",
              "         ...,\n",
              "         [1.        , 1.        , 1.        ],\n",
              "         [1.        , 1.        , 1.        ],\n",
              "         [1.        , 1.        , 1.        ]],\n",
              "\n",
              "        [[0.30288753, 0.28513318, 0.26067704],\n",
              "         [0.3037888 , 0.28783697, 0.26247954],\n",
              "         [0.2985205 , 0.28437123, 0.25811252],\n",
              "         ...,\n",
              "         [1.        , 1.        , 1.        ],\n",
              "         [1.        , 1.        , 1.        ],\n",
              "         [1.        , 1.        , 1.        ]],\n",
              "\n",
              "        [[0.30879232, 0.29702762, 0.26957664],\n",
              "         [0.3114961 , 0.2997314 , 0.27228042],\n",
              "         [0.31150264, 0.29973793, 0.27228695],\n",
              "         ...,\n",
              "         [1.        , 1.        , 1.        ],\n",
              "         [1.        , 1.        , 1.        ],\n",
              "         [1.        , 1.        , 1.        ]]],\n",
              "\n",
              "\n",
              "       [[[0.26295772, 0.28648713, 0.33354595],\n",
              "         [0.30798182, 0.33151123, 0.37857005],\n",
              "         [0.30523434, 0.32876375, 0.37582257],\n",
              "         ...,\n",
              "         [0.61960787, 0.6901961 , 0.7816429 ],\n",
              "         [0.61960787, 0.6901961 , 0.78367233],\n",
              "         [0.61821985, 0.6881141 , 0.78361976]],\n",
              "\n",
              "        [[0.25714108, 0.2806705 , 0.3277293 ],\n",
              "         [0.29169518, 0.3152246 , 0.3622834 ],\n",
              "         [0.31221431, 0.33574373, 0.38280255],\n",
              "         ...,\n",
              "         [0.6136898 , 0.681319  , 0.7813547 ],\n",
              "         [0.6116604 , 0.6783271 , 0.78039217],\n",
              "         [0.609631  , 0.67629766, 0.78039217]],\n",
              "\n",
              "        [[0.25132442, 0.27485383, 0.32191265],\n",
              "         [0.27540857, 0.29893798, 0.3459968 ],\n",
              "         [0.31919432, 0.34272373, 0.38978255],\n",
              "         ...,\n",
              "         [0.6051009 , 0.6717676 , 0.78039217],\n",
              "         [0.6026465 , 0.66888815, 0.7808172 ],\n",
              "         [0.59960246, 0.6648294 , 0.78183186]],\n",
              "\n",
              "        ...,\n",
              "\n",
              "        [[0.7372549 , 0.78431374, 0.84705883],\n",
              "         [0.7354839 , 0.7834282 , 0.84705883],\n",
              "         [0.73345447, 0.78241354, 0.84705883],\n",
              "         ...,\n",
              "         [0.5647059 , 0.63529414, 0.72056955],\n",
              "         [0.56497675, 0.635565  , 0.71399635],\n",
              "         [0.56858534, 0.6391314 , 0.7175628 ]],\n",
              "\n",
              "        [[0.7291681 , 0.7801485 , 0.84681517],\n",
              "         [0.7281534 , 0.7791338 , 0.84580046],\n",
              "         [0.7271387 , 0.7781191 , 0.84478575],\n",
              "         ...,\n",
              "         [0.5647059 , 0.63529414, 0.72156864],\n",
              "         [0.5647059 , 0.63529414, 0.7155105 ],\n",
              "         [0.5675063 , 0.63809454, 0.7165259 ]],\n",
              "\n",
              "        [[0.7254902 , 0.7764706 , 0.84313726],\n",
              "         [0.7254902 , 0.7764706 , 0.84313726],\n",
              "         [0.7254902 , 0.7764706 , 0.84313726],\n",
              "         ...,\n",
              "         [0.5647059 , 0.63529414, 0.72156864],\n",
              "         [0.5647059 , 0.63529414, 0.71783715],\n",
              "         [0.56634295, 0.6369312 , 0.71536255]]],\n",
              "\n",
              "\n",
              "       ...,\n",
              "\n",
              "\n",
              "       [[[0.67820287, 0.6742813 , 0.66643816],\n",
              "         [0.67675304, 0.6728315 , 0.66498834],\n",
              "         [0.67510855, 0.671187  , 0.66334385],\n",
              "         ...,\n",
              "         [0.61626256, 0.6201841 , 0.6005763 ],\n",
              "         [0.5995234 , 0.603445  , 0.58383715],\n",
              "         [0.59215426, 0.59607583, 0.576468  ]],\n",
              "\n",
              "        [[0.6779447 , 0.67402315, 0.66618   ],\n",
              "         [0.67723787, 0.6733163 , 0.66547316],\n",
              "         [0.67548966, 0.6715681 , 0.66372496],\n",
              "         ...,\n",
              "         [0.6081395 , 0.6120611 , 0.59245324],\n",
              "         [0.59557414, 0.5994957 , 0.57988787],\n",
              "         [0.5900752 , 0.59399676, 0.5743889 ]],\n",
              "\n",
              "        [[0.6777984 , 0.6738768 , 0.6660337 ],\n",
              "         [0.67790794, 0.6739864 , 0.66614324],\n",
              "         [0.67580056, 0.671879  , 0.66403586],\n",
              "         ...,\n",
              "         [0.6024096 , 0.60633117, 0.5867233 ],\n",
              "         [0.5945555 , 0.59847707, 0.5788692 ],\n",
              "         [0.59068227, 0.59460384, 0.574996  ]],\n",
              "\n",
              "        ...,\n",
              "\n",
              "        [[0.50981104, 0.49412474, 0.48236004],\n",
              "         [0.5112646 , 0.49557832, 0.4838136 ],\n",
              "         [0.512614  , 0.4969277 , 0.485163  ],\n",
              "         ...,\n",
              "         [0.01960784, 0.01960784, 0.01960784],\n",
              "         [0.01960784, 0.01960784, 0.01960784],\n",
              "         [0.01960784, 0.01960784, 0.01960784]],\n",
              "\n",
              "        [[0.50999105, 0.49430475, 0.48254004],\n",
              "         [0.5114203 , 0.49573404, 0.48396933],\n",
              "         [0.5127681 , 0.49708176, 0.48531705],\n",
              "         ...,\n",
              "         [0.01960784, 0.01960784, 0.01960784],\n",
              "         [0.01960784, 0.01960784, 0.01960784],\n",
              "         [0.01960784, 0.01960784, 0.01960784]],\n",
              "\n",
              "        [[0.51017106, 0.49448475, 0.48272005],\n",
              "         [0.51157606, 0.49588972, 0.48412502],\n",
              "         [0.5129221 , 0.4972358 , 0.4854711 ],\n",
              "         ...,\n",
              "         [0.01960784, 0.01960784, 0.01960784],\n",
              "         [0.01960784, 0.01960784, 0.01960784],\n",
              "         [0.01960784, 0.01960784, 0.01960784]]],\n",
              "\n",
              "\n",
              "       [[[0.7935447 , 0.79108274, 0.52412283],\n",
              "         [0.8057221 , 0.80291593, 0.53838676],\n",
              "         [0.8178995 , 0.8147491 , 0.55265075],\n",
              "         ...,\n",
              "         [0.70818514, 0.71971655, 0.3746578 ],\n",
              "         [0.660914  , 0.6750137 , 0.3143635 ],\n",
              "         [0.6180101 , 0.633529  , 0.26381248]],\n",
              "\n",
              "        [[0.74985063, 0.7492744 , 0.46959588],\n",
              "         [0.7539184 , 0.7529433 , 0.47582117],\n",
              "         [0.75798625, 0.7566121 , 0.48204643],\n",
              "         ...,\n",
              "         [0.70100904, 0.712967  , 0.36534283],\n",
              "         [0.6522993 , 0.66668195, 0.30419427],\n",
              "         [0.6170118 , 0.6325699 , 0.262694  ]],\n",
              "\n",
              "        [[0.73313075, 0.7345716 , 0.44396573],\n",
              "         [0.73523146, 0.7362845 , 0.44720107],\n",
              "         [0.73733217, 0.7379974 , 0.4504364 ],\n",
              "         ...,\n",
              "         [0.6894314 , 0.7012998 , 0.35384142],\n",
              "         [0.6509751 , 0.6652697 , 0.3023498 ],\n",
              "         [0.62024736, 0.63561165, 0.26640573]],\n",
              "\n",
              "        ...,\n",
              "\n",
              "        [[0.8879124 , 0.8761508 , 0.67554796],\n",
              "         [0.88478047, 0.8730871 , 0.6673734 ],\n",
              "         [0.9000106 , 0.88997096, 0.6678489 ],\n",
              "         ...,\n",
              "         [0.7239332 , 0.719185  , 0.40636143],\n",
              "         [0.7255445 , 0.7210033 , 0.40676072],\n",
              "         [0.7271558 , 0.7228216 , 0.40716004]],\n",
              "\n",
              "        [[0.8877    , 0.875943  , 0.6749936 ],\n",
              "         [0.8869759 , 0.8755007 , 0.66739047],\n",
              "         [0.9022417 , 0.8928053 , 0.6672572 ],\n",
              "         ...,\n",
              "         [0.73372847, 0.7269406 , 0.422488  ],\n",
              "         [0.73056597, 0.7242448 , 0.4180782 ],\n",
              "         [0.72740346, 0.721549  , 0.41366842]],\n",
              "\n",
              "        [[0.88715696, 0.8754118 , 0.67357624],\n",
              "         [0.8894177 , 0.8781793 , 0.6675366 ],\n",
              "         [0.9044729 , 0.8956396 , 0.6666655 ],\n",
              "         ...,\n",
              "         [0.7288424 , 0.72110903, 0.42389366],\n",
              "         [0.7315916 , 0.72392035, 0.4254199 ],\n",
              "         [0.7343407 , 0.72673166, 0.4269461 ]]],\n",
              "\n",
              "\n",
              "       [[[0.24769342, 0.23935968, 0.22967283],\n",
              "         [0.31906304, 0.3046091 , 0.28969556],\n",
              "         [0.358711  , 0.3384927 , 0.31914404],\n",
              "         ...,\n",
              "         [0.26764008, 0.2635841 , 0.25036186],\n",
              "         [0.23646623, 0.23077063, 0.21757746],\n",
              "         [0.23867834, 0.22847852, 0.21577823]],\n",
              "\n",
              "        [[0.26891842, 0.2569239 , 0.25235188],\n",
              "         [0.3283376 , 0.3097517 , 0.29781246],\n",
              "         [0.36154428, 0.33682096, 0.31880838],\n",
              "         ...,\n",
              "         [0.34536824, 0.34074268, 0.3336483 ],\n",
              "         [0.27153796, 0.2648211 , 0.25715208],\n",
              "         [0.2605819 , 0.24958438, 0.24031131]],\n",
              "\n",
              "        [[0.28864223, 0.27447283, 0.27453962],\n",
              "         [0.33815208, 0.3157695 , 0.30766878],\n",
              "         [0.3677959 , 0.3378531 , 0.32279152],\n",
              "         ...,\n",
              "         [0.47964168, 0.4732131 , 0.47370487],\n",
              "         [0.3495279 , 0.3407134 , 0.34044605],\n",
              "         [0.2879904 , 0.275781  , 0.2712278 ]],\n",
              "\n",
              "        ...,\n",
              "\n",
              "        [[0.5465414 , 0.51376766, 0.49297807],\n",
              "         [0.51522195, 0.4881904 , 0.46556717],\n",
              "         [0.46539247, 0.44311592, 0.42183566],\n",
              "         ...,\n",
              "         [0.26219594, 0.23082338, 0.22298025],\n",
              "         [0.26207617, 0.2307036 , 0.22286047],\n",
              "         [0.2619564 , 0.23058385, 0.22274071]],\n",
              "\n",
              "        [[0.5428573 , 0.51075906, 0.48975375],\n",
              "         [0.51153785, 0.48518178, 0.46234286],\n",
              "         [0.45920616, 0.4374716 , 0.41640508],\n",
              "         ...,\n",
              "         [0.262907  , 0.23153442, 0.22369128],\n",
              "         [0.26278722, 0.23141465, 0.22357151],\n",
              "         [0.26266745, 0.23129489, 0.22345175]],\n",
              "\n",
              "        [[0.53917325, 0.50775045, 0.48652944],\n",
              "         [0.5056117 , 0.4798115 , 0.45714167],\n",
              "         [0.45301986, 0.43182728, 0.4109745 ],\n",
              "         ...,\n",
              "         [0.26361787, 0.23224528, 0.22440214],\n",
              "         [0.26349828, 0.23212568, 0.22428255],\n",
              "         [0.2633785 , 0.23200592, 0.22416279]]]], dtype=float32)"
            ]
          },
          "metadata": {},
          "execution_count": 106
        }
      ]
    },
    {
      "cell_type": "code",
      "source": [
        "# Combine augmented data with the original data\n",
        "X_train_final = np.concatenate((X_train_augmented, x_augmented_01, x_augmented_3))\n",
        "y_train_final = np.concatenate((y_train_augmented, y_augmented_01, y_augmented_3))\n",
        "\n",
        "print(X_train_final.shape)\n",
        "print(y_train_final.shape)"
      ],
      "metadata": {
        "colab": {
          "base_uri": "https://localhost:8080/"
        },
        "id": "x66PEuHhJBWT",
        "outputId": "218a87a2-a73c-478d-87ae-ee92020c25f2"
      },
      "execution_count": 107,
      "outputs": [
        {
          "output_type": "stream",
          "name": "stdout",
          "text": [
            "(15574, 50, 50, 3)\n",
            "(15574,)\n"
          ]
        }
      ]
    },
    {
      "cell_type": "code",
      "source": [
        "# Visualize the distribution of the final training labels\n",
        "plt.figure(figsize=(12, 6))\n",
        "plt.hist(y_train_final, bins=range(5), align='left', rwidth=0.8)\n",
        "plt.xticks(range(4))\n",
        "plt.xlabel(\"Damage Type\")\n",
        "plt.ylabel(\"Count\")\n",
        "plt.title(\"Histogram of Damage Types in y_train_final\")\n",
        "plt.show()"
      ],
      "metadata": {
        "colab": {
          "base_uri": "https://localhost:8080/",
          "height": 564
        },
        "id": "M-kxjOSsJNLC",
        "outputId": "c12c650b-0a0e-4cb7-ac35-e10f173b17d3"
      },
      "execution_count": 108,
      "outputs": [
        {
          "output_type": "display_data",
          "data": {
            "text/plain": [
              "<Figure size 1200x600 with 1 Axes>"
            ],
            "image/png": "[encoded data removed]"
          },
          "metadata": {}
        }
      ]
    },
    {
      "cell_type": "code",
      "source": [
        "# Count occurrences of each class\n",
        "unique, counts = np.unique(y_train_final, return_counts=True)\n",
        "\n",
        "# Create the pie chart\n",
        "plt.figure(figsize=(5, 5))\n",
        "plt.pie(counts, labels=unique, autopct='%1.1f%%', startangle=90)\n",
        "plt.title('Distribution of Damage Types in y_train')\n",
        "plt.axis('equal')  # Equal aspect ratio ensures that pie is drawn as a circle.\n",
        "plt.show()"
      ],
      "metadata": {
        "colab": {
          "base_uri": "https://localhost:8080/",
          "height": 444
        },
        "id": "LXgV_4BEHqW6",
        "outputId": "21e24b81-e3a6-4378-c8f3-ee2d03edf058"
      },
      "execution_count": 109,
      "outputs": [
        {
          "output_type": "display_data",
          "data": {
            "text/plain": [
              "<Figure size 500x500 with 1 Axes>"
            ],
            "image/png": "[encoded data removed]"
          },
          "metadata": {}
        }
      ]
    },
    {
      "cell_type": "code",
      "source": [
        "pd.value_counts(y_train_final)"
      ],
      "metadata": {
        "colab": {
          "base_uri": "https://localhost:8080/",
          "height": 246
        },
        "id": "yvdq9hgsTAJT",
        "outputId": "b4128850-88a0-4527-9a82-3b041ba231a8"
      },
      "execution_count": 131,
      "outputs": [
        {
          "output_type": "stream",
          "name": "stderr",
          "text": [
            "<ipython-input-131-64ce0d3a68fc>:1: FutureWarning: pandas.value_counts is deprecated and will be removed in a future version. Use pd.Series(obj).value_counts() instead.\n",
            "  pd.value_counts(y_train_final)\n"
          ]
        },
        {
          "output_type": "execute_result",
          "data": {
            "text/plain": [
              "3    4900\n",
              "2    3890\n",
              "0    3440\n",
              "1    3344\n",
              "Name: count, dtype: int64"
            ],
            "text/html": [
              "<div>\n",
              "<style scoped>\n",
              "    .dataframe tbody tr th:only-of-type {\n",
              "        vertical-align: middle;\n",
              "    }\n",
              "\n",
              "    .dataframe tbody tr th {\n",
              "        vertical-align: top;\n",
              "    }\n",
              "\n",
              "    .dataframe thead th {\n",
              "        text-align: right;\n",
              "    }\n",
              "</style>\n",
              "<table border=\"1\" class=\"dataframe\">\n",
              "  <thead>\n",
              "    <tr style=\"text-align: right;\">\n",
              "      <th></th>\n",
              "      <th>count</th>\n",
              "    </tr>\n",
              "  </thead>\n",
              "  <tbody>\n",
              "    <tr>\n",
              "      <th>3</th>\n",
              "      <td>4900</td>\n",
              "    </tr>\n",
              "    <tr>\n",
              "      <th>2</th>\n",
              "      <td>3890</td>\n",
              "    </tr>\n",
              "    <tr>\n",
              "      <th>0</th>\n",
              "      <td>3440</td>\n",
              "    </tr>\n",
              "    <tr>\n",
              "      <th>1</th>\n",
              "      <td>3344</td>\n",
              "    </tr>\n",
              "  </tbody>\n",
              "</table>\n",
              "</div><br><label><b>dtype:</b> int64</label>"
            ]
          },
          "metadata": {},
          "execution_count": 131
        }
      ]
    },
    {
      "cell_type": "markdown",
      "source": [
        "**사전학습 resnet 모델 사용**"
      ],
      "metadata": {
        "id": "O_51_V-MVOl-"
      }
    },
    {
      "cell_type": "code",
      "source": [
        "# resnet을 사용하여 사전학습된 모델 사용\n",
        "import tensorflow as tf\n",
        "from tensorflow.keras.applications import ResNet50\n",
        "\n",
        "def create_resnet_model():\n",
        "    base_model = ResNet50(weights='imagenet', include_top=False, input_shape=(50, 50, 3))\n",
        "    # Freeze the base model layers\n",
        "    #base_model.trainable = False\n",
        "\n",
        "    model = Sequential()\n",
        "    model.add(base_model)\n",
        "    model.add(Flatten())\n",
        "    model.add(Dense(64, activation='relu'))\n",
        "    model.add(Dropout(0.5))\n",
        "    model.add(Dense(4, activation='softmax'))\n",
        "    return model\n",
        "\n",
        "# 모델 생성 및 컴파일\n",
        "model = create_resnet_model()\n",
        "model.compile(optimizer='adam', loss='sparse_categorical_crossentropy', metrics=['accuracy'])\n",
        "early_stopping = EarlyStopping(monitor='val_loss', patience=10, restore_best_weights=True)\n"
      ],
      "metadata": {
        "id": "LmeiNTM6NMdU",
        "collapsed": true
      },
      "execution_count": 137,
      "outputs": []
    },
    {
      "cell_type": "code",
      "source": [
        "# 모델 학습\n",
        "history = model.fit(X_train_final, y_train_final,\n",
        "                    epochs=50,\n",
        "                    batch_size=64,\n",
        "                    validation_data=(X_val, y_val))\n",
        "                    #callbacks=[early_stopping]) # Add early stopping callback"
      ],
      "metadata": {
        "colab": {
          "base_uri": "https://localhost:8080/"
        },
        "id": "3xlCn-t5AiA6",
        "outputId": "38981051-029f-4381-e18b-0bd99e811dfb"
      },
      "execution_count": 138,
      "outputs": [
        {
          "output_type": "stream",
          "name": "stdout",
          "text": [
            "Epoch 1/50\n",
            "\u001b[1m244/244\u001b[0m \u001b[32m━━━━━━━━━━━━━━━━━━━━\u001b[0m\u001b[37m\u001b[0m \u001b[1m96s\u001b[0m 185ms/step - accuracy: 0.4205 - loss: 1.4295 - val_accuracy: 0.6342 - val_loss: 1.6510\n",
            "Epoch 2/50\n",
            "\u001b[1m244/244\u001b[0m \u001b[32m━━━━━━━━━━━━━━━━━━━━\u001b[0m\u001b[37m\u001b[0m \u001b[1m34s\u001b[0m 69ms/step - accuracy: 0.5750 - loss: 1.0187 - val_accuracy: 0.6237 - val_loss: 1.4870\n",
            "Epoch 3/50\n",
            "\u001b[1m244/244\u001b[0m \u001b[32m━━━━━━━━━━━━━━━━━━━━\u001b[0m\u001b[37m\u001b[0m \u001b[1m17s\u001b[0m 70ms/step - accuracy: 0.6427 - loss: 0.9046 - val_accuracy: 0.2921 - val_loss: 1.3498\n",
            "Epoch 4/50\n",
            "\u001b[1m244/244\u001b[0m \u001b[32m━━━━━━━━━━━━━━━━━━━━\u001b[0m\u001b[37m\u001b[0m \u001b[1m21s\u001b[0m 71ms/step - accuracy: 0.6584 - loss: 0.8483 - val_accuracy: 0.3895 - val_loss: 1.3064\n",
            "Epoch 5/50\n",
            "\u001b[1m244/244\u001b[0m \u001b[32m━━━━━━━━━━━━━━━━━━━━\u001b[0m\u001b[37m\u001b[0m \u001b[1m17s\u001b[0m 71ms/step - accuracy: 0.7217 - loss: 0.7041 - val_accuracy: 0.5737 - val_loss: 1.0169\n",
            "Epoch 6/50\n",
            "\u001b[1m244/244\u001b[0m \u001b[32m━━━━━━━━━━━━━━━━━━━━\u001b[0m\u001b[37m\u001b[0m \u001b[1m20s\u001b[0m 69ms/step - accuracy: 0.7526 - loss: 0.6635 - val_accuracy: 0.4289 - val_loss: 1.5389\n",
            "Epoch 7/50\n",
            "\u001b[1m244/244\u001b[0m \u001b[32m━━━━━━━━━━━━━━━━━━━━\u001b[0m\u001b[37m\u001b[0m \u001b[1m21s\u001b[0m 70ms/step - accuracy: 0.7457 - loss: 0.6612 - val_accuracy: 0.6974 - val_loss: 0.9227\n",
            "Epoch 8/50\n",
            "\u001b[1m244/244\u001b[0m \u001b[32m━━━━━━━━━━━━━━━━━━━━\u001b[0m\u001b[37m\u001b[0m \u001b[1m21s\u001b[0m 70ms/step - accuracy: 0.7729 - loss: 0.5817 - val_accuracy: 0.6342 - val_loss: 1.2131\n",
            "Epoch 9/50\n",
            "\u001b[1m244/244\u001b[0m \u001b[32m━━━━━━━━━━━━━━━━━━━━\u001b[0m\u001b[37m\u001b[0m \u001b[1m17s\u001b[0m 71ms/step - accuracy: 0.7367 - loss: 0.6617 - val_accuracy: 0.5947 - val_loss: 1.2843\n",
            "Epoch 10/50\n",
            "\u001b[1m244/244\u001b[0m \u001b[32m━━━━━━━━━━━━━━━━━━━━\u001b[0m\u001b[37m\u001b[0m \u001b[1m17s\u001b[0m 69ms/step - accuracy: 0.8390 - loss: 0.4321 - val_accuracy: 0.7211 - val_loss: 0.9246\n",
            "Epoch 11/50\n",
            "\u001b[1m244/244\u001b[0m \u001b[32m━━━━━━━━━━━━━━━━━━━━\u001b[0m\u001b[37m\u001b[0m \u001b[1m21s\u001b[0m 70ms/step - accuracy: 0.8390 - loss: 0.4466 - val_accuracy: 0.5737 - val_loss: 1.8987\n",
            "Epoch 12/50\n",
            "\u001b[1m244/244\u001b[0m \u001b[32m━━━━━━━━━━━━━━━━━━━━\u001b[0m\u001b[37m\u001b[0m \u001b[1m17s\u001b[0m 70ms/step - accuracy: 0.8741 - loss: 0.3486 - val_accuracy: 0.7000 - val_loss: 1.2389\n",
            "Epoch 13/50\n",
            "\u001b[1m244/244\u001b[0m \u001b[32m━━━━━━━━━━━━━━━━━━━━\u001b[0m\u001b[37m\u001b[0m \u001b[1m21s\u001b[0m 70ms/step - accuracy: 0.9110 - loss: 0.2462 - val_accuracy: 0.7158 - val_loss: 1.0641\n",
            "Epoch 14/50\n",
            "\u001b[1m244/244\u001b[0m \u001b[32m━━━━━━━━━━━━━━━━━━━━\u001b[0m\u001b[37m\u001b[0m \u001b[1m20s\u001b[0m 70ms/step - accuracy: 0.9153 - loss: 0.2363 - val_accuracy: 0.2632 - val_loss: 1.4156\n",
            "Epoch 15/50\n",
            "\u001b[1m244/244\u001b[0m \u001b[32m━━━━━━━━━━━━━━━━━━━━\u001b[0m\u001b[37m\u001b[0m \u001b[1m21s\u001b[0m 71ms/step - accuracy: 0.8340 - loss: 0.4488 - val_accuracy: 0.6579 - val_loss: 1.3609\n",
            "Epoch 16/50\n",
            "\u001b[1m244/244\u001b[0m \u001b[32m━━━━━━━━━━━━━━━━━━━━\u001b[0m\u001b[37m\u001b[0m \u001b[1m20s\u001b[0m 69ms/step - accuracy: 0.9019 - loss: 0.2682 - val_accuracy: 0.7184 - val_loss: 1.3194\n",
            "Epoch 17/50\n",
            "\u001b[1m244/244\u001b[0m \u001b[32m━━━━━━━━━━━━━━━━━━━━\u001b[0m\u001b[37m\u001b[0m \u001b[1m20s\u001b[0m 69ms/step - accuracy: 0.9343 - loss: 0.1960 - val_accuracy: 0.7079 - val_loss: 1.2760\n",
            "Epoch 18/50\n",
            "\u001b[1m244/244\u001b[0m \u001b[32m━━━━━━━━━━━━━━━━━━━━\u001b[0m\u001b[37m\u001b[0m \u001b[1m21s\u001b[0m 71ms/step - accuracy: 0.9225 - loss: 0.2111 - val_accuracy: 0.4526 - val_loss: 2.1628\n",
            "Epoch 19/50\n",
            "\u001b[1m244/244\u001b[0m \u001b[32m━━━━━━━━━━━━━━━━━━━━\u001b[0m\u001b[37m\u001b[0m \u001b[1m20s\u001b[0m 70ms/step - accuracy: 0.8969 - loss: 0.2811 - val_accuracy: 0.6947 - val_loss: 1.3902\n",
            "Epoch 20/50\n",
            "\u001b[1m244/244\u001b[0m \u001b[32m━━━━━━━━━━━━━━━━━━━━\u001b[0m\u001b[37m\u001b[0m \u001b[1m21s\u001b[0m 72ms/step - accuracy: 0.9459 - loss: 0.1422 - val_accuracy: 0.4711 - val_loss: 1.7692\n",
            "Epoch 21/50\n",
            "\u001b[1m244/244\u001b[0m \u001b[32m━━━━━━━━━━━━━━━━━━━━\u001b[0m\u001b[37m\u001b[0m \u001b[1m20s\u001b[0m 70ms/step - accuracy: 0.8795 - loss: 0.3266 - val_accuracy: 0.5737 - val_loss: 1.8478\n",
            "Epoch 22/50\n",
            "\u001b[1m244/244\u001b[0m \u001b[32m━━━━━━━━━━━━━━━━━━━━\u001b[0m\u001b[37m\u001b[0m \u001b[1m20s\u001b[0m 69ms/step - accuracy: 0.9467 - loss: 0.1430 - val_accuracy: 0.3158 - val_loss: 3.6801\n",
            "Epoch 23/50\n",
            "\u001b[1m244/244\u001b[0m \u001b[32m━━━━━━━━━━━━━━━━━━━━\u001b[0m\u001b[37m\u001b[0m \u001b[1m17s\u001b[0m 70ms/step - accuracy: 0.8243 - loss: 0.4750 - val_accuracy: 0.5421 - val_loss: 2.1901\n",
            "Epoch 24/50\n",
            "\u001b[1m244/244\u001b[0m \u001b[32m━━━━━━━━━━━━━━━━━━━━\u001b[0m\u001b[37m\u001b[0m \u001b[1m21s\u001b[0m 70ms/step - accuracy: 0.9081 - loss: 0.2711 - val_accuracy: 0.5763 - val_loss: 1.2777\n",
            "Epoch 25/50\n",
            "\u001b[1m244/244\u001b[0m \u001b[32m━━━━━━━━━━━━━━━━━━━━\u001b[0m\u001b[37m\u001b[0m \u001b[1m21s\u001b[0m 71ms/step - accuracy: 0.8946 - loss: 0.3083 - val_accuracy: 0.6474 - val_loss: 1.3692\n",
            "Epoch 26/50\n",
            "\u001b[1m244/244\u001b[0m \u001b[32m━━━━━━━━━━━━━━━━━━━━\u001b[0m\u001b[37m\u001b[0m \u001b[1m20s\u001b[0m 71ms/step - accuracy: 0.9018 - loss: 0.2749 - val_accuracy: 0.4974 - val_loss: 3.0523\n",
            "Epoch 27/50\n",
            "\u001b[1m244/244\u001b[0m \u001b[32m━━━━━━━━━━━━━━━━━━━━\u001b[0m\u001b[37m\u001b[0m \u001b[1m20s\u001b[0m 70ms/step - accuracy: 0.8904 - loss: 0.2942 - val_accuracy: 0.6789 - val_loss: 1.6003\n",
            "Epoch 28/50\n",
            "\u001b[1m244/244\u001b[0m \u001b[32m━━━━━━━━━━━━━━━━━━━━\u001b[0m\u001b[37m\u001b[0m \u001b[1m20s\u001b[0m 70ms/step - accuracy: 0.9563 - loss: 0.1201 - val_accuracy: 0.7000 - val_loss: 1.9177\n",
            "Epoch 29/50\n",
            "\u001b[1m244/244\u001b[0m \u001b[32m━━━━━━━━━━━━━━━━━━━━\u001b[0m\u001b[37m\u001b[0m \u001b[1m21s\u001b[0m 71ms/step - accuracy: 0.9213 - loss: 0.2401 - val_accuracy: 0.6553 - val_loss: 1.7593\n",
            "Epoch 30/50\n",
            "\u001b[1m244/244\u001b[0m \u001b[32m━━━━━━━━━━━━━━━━━━━━\u001b[0m\u001b[37m\u001b[0m \u001b[1m21s\u001b[0m 72ms/step - accuracy: 0.9353 - loss: 0.1672 - val_accuracy: 0.6500 - val_loss: 1.9291\n",
            "Epoch 31/50\n",
            "\u001b[1m244/244\u001b[0m \u001b[32m━━━━━━━━━━━━━━━━━━━━\u001b[0m\u001b[37m\u001b[0m \u001b[1m17s\u001b[0m 71ms/step - accuracy: 0.9569 - loss: 0.1210 - val_accuracy: 0.6868 - val_loss: 1.7798\n",
            "Epoch 32/50\n",
            "\u001b[1m244/244\u001b[0m \u001b[32m━━━━━━━━━━━━━━━━━━━━\u001b[0m\u001b[37m\u001b[0m \u001b[1m18s\u001b[0m 72ms/step - accuracy: 0.9677 - loss: 0.0983 - val_accuracy: 0.7053 - val_loss: 1.6241\n",
            "Epoch 33/50\n",
            "\u001b[1m244/244\u001b[0m \u001b[32m━━━━━━━━━━━━━━━━━━━━\u001b[0m\u001b[37m\u001b[0m \u001b[1m20s\u001b[0m 71ms/step - accuracy: 0.9281 - loss: 0.1926 - val_accuracy: 0.7237 - val_loss: 1.4951\n",
            "Epoch 34/50\n",
            "\u001b[1m244/244\u001b[0m \u001b[32m━━━━━━━━━━━━━━━━━━━━\u001b[0m\u001b[37m\u001b[0m \u001b[1m21s\u001b[0m 73ms/step - accuracy: 0.9405 - loss: 0.1702 - val_accuracy: 0.7395 - val_loss: 1.4494\n",
            "Epoch 35/50\n",
            "\u001b[1m244/244\u001b[0m \u001b[32m━━━━━━━━━━━━━━━━━━━━\u001b[0m\u001b[37m\u001b[0m \u001b[1m18s\u001b[0m 73ms/step - accuracy: 0.9594 - loss: 0.1127 - val_accuracy: 0.5158 - val_loss: 2.1568\n",
            "Epoch 36/50\n",
            "\u001b[1m244/244\u001b[0m \u001b[32m━━━━━━━━━━━━━━━━━━━━\u001b[0m\u001b[37m\u001b[0m \u001b[1m17s\u001b[0m 70ms/step - accuracy: 0.9137 - loss: 0.2683 - val_accuracy: 0.6553 - val_loss: 1.5180\n",
            "Epoch 37/50\n",
            "\u001b[1m244/244\u001b[0m \u001b[32m━━━━━━━━━━━━━━━━━━━━\u001b[0m\u001b[37m\u001b[0m \u001b[1m21s\u001b[0m 71ms/step - accuracy: 0.9202 - loss: 0.2286 - val_accuracy: 0.5632 - val_loss: 2.0554\n",
            "Epoch 38/50\n",
            "\u001b[1m244/244\u001b[0m \u001b[32m━━━━━━━━━━━━━━━━━━━━\u001b[0m\u001b[37m\u001b[0m \u001b[1m17s\u001b[0m 71ms/step - accuracy: 0.9486 - loss: 0.1415 - val_accuracy: 0.6368 - val_loss: 2.1403\n",
            "Epoch 39/50\n",
            "\u001b[1m244/244\u001b[0m \u001b[32m━━━━━━━━━━━━━━━━━━━━\u001b[0m\u001b[37m\u001b[0m \u001b[1m18s\u001b[0m 72ms/step - accuracy: 0.9580 - loss: 0.1169 - val_accuracy: 0.7237 - val_loss: 1.8679\n",
            "Epoch 40/50\n",
            "\u001b[1m244/244\u001b[0m \u001b[32m━━━━━━━━━━━━━━━━━━━━\u001b[0m\u001b[37m\u001b[0m \u001b[1m20s\u001b[0m 71ms/step - accuracy: 0.9739 - loss: 0.1266 - val_accuracy: 0.7079 - val_loss: 1.9456\n",
            "Epoch 41/50\n",
            "\u001b[1m244/244\u001b[0m \u001b[32m━━━━━━━━━━━━━━━━━━━━\u001b[0m\u001b[37m\u001b[0m \u001b[1m20s\u001b[0m 71ms/step - accuracy: 0.9633 - loss: 0.1027 - val_accuracy: 0.6658 - val_loss: 1.9484\n",
            "Epoch 42/50\n",
            "\u001b[1m244/244\u001b[0m \u001b[32m━━━━━━━━━━━━━━━━━━━━\u001b[0m\u001b[37m\u001b[0m \u001b[1m21s\u001b[0m 72ms/step - accuracy: 0.9161 - loss: 0.2424 - val_accuracy: 0.6921 - val_loss: 1.7055\n",
            "Epoch 43/50\n",
            "\u001b[1m244/244\u001b[0m \u001b[32m━━━━━━━━━━━━━━━━━━━━\u001b[0m\u001b[37m\u001b[0m \u001b[1m20s\u001b[0m 71ms/step - accuracy: 0.9662 - loss: 0.0869 - val_accuracy: 0.5921 - val_loss: 2.3363\n",
            "Epoch 44/50\n",
            "\u001b[1m244/244\u001b[0m \u001b[32m━━━━━━━━━━━━━━━━━━━━\u001b[0m\u001b[37m\u001b[0m \u001b[1m17s\u001b[0m 71ms/step - accuracy: 0.9433 - loss: 0.1607 - val_accuracy: 0.6895 - val_loss: 1.6397\n",
            "Epoch 45/50\n",
            "\u001b[1m244/244\u001b[0m \u001b[32m━━━━━━━━━━━━━━━━━━━━\u001b[0m\u001b[37m\u001b[0m \u001b[1m20s\u001b[0m 70ms/step - accuracy: 0.9708 - loss: 0.0741 - val_accuracy: 0.6684 - val_loss: 1.9830\n",
            "Epoch 46/50\n",
            "\u001b[1m244/244\u001b[0m \u001b[32m━━━━━━━━━━━━━━━━━━━━\u001b[0m\u001b[37m\u001b[0m \u001b[1m21s\u001b[0m 72ms/step - accuracy: 0.9524 - loss: 0.1326 - val_accuracy: 0.7211 - val_loss: 1.8704\n",
            "Epoch 47/50\n",
            "\u001b[1m244/244\u001b[0m \u001b[32m━━━━━━━━━━━━━━━━━━━━\u001b[0m\u001b[37m\u001b[0m \u001b[1m17s\u001b[0m 71ms/step - accuracy: 0.9508 - loss: 0.1525 - val_accuracy: 0.7263 - val_loss: 2.1920\n",
            "Epoch 48/50\n",
            "\u001b[1m244/244\u001b[0m \u001b[32m━━━━━━━━━━━━━━━━━━━━\u001b[0m\u001b[37m\u001b[0m \u001b[1m22s\u001b[0m 78ms/step - accuracy: 0.9749 - loss: 0.0755 - val_accuracy: 0.7079 - val_loss: 1.9569\n",
            "Epoch 49/50\n",
            "\u001b[1m244/244\u001b[0m \u001b[32m━━━━━━━━━━━━━━━━━━━━\u001b[0m\u001b[37m\u001b[0m \u001b[1m21s\u001b[0m 80ms/step - accuracy: 0.9336 - loss: 0.2000 - val_accuracy: 0.6684 - val_loss: 1.8434\n",
            "Epoch 50/50\n",
            "\u001b[1m244/244\u001b[0m \u001b[32m━━━━━━━━━━━━━━━━━━━━\u001b[0m\u001b[37m\u001b[0m \u001b[1m22s\u001b[0m 90ms/step - accuracy: 0.9544 - loss: 0.1240 - val_accuracy: 0.6211 - val_loss: 1.8836\n"
          ]
        }
      ]
    },
    {
      "cell_type": "code",
      "source": [
        "# 결과 시각화\n",
        "plt.figure(figsize=(12,4))\n",
        "\n",
        "# Loss 그래프\n",
        "plt.subplot(1, 2, 1)\n",
        "plt.plot(history.history['loss'], label='Training Loss')\n",
        "plt.plot(history.history['val_loss'], label='Validation Loss')\n",
        "plt.title('Model Loss')\n",
        "plt.xlabel('Epoch')\n",
        "plt.ylabel('Loss')\n",
        "plt.legend()\n",
        "\n",
        "# Accuracy 그래프\n",
        "plt.subplot(1, 2, 2)\n",
        "#plt.figure(figsize=(12,4))\n",
        "plt.plot(history.history['accuracy'], label='Training Accuracy')\n",
        "plt.plot(history.history['val_accuracy'], label='Validation Accuracy')\n",
        "plt.title('Model Accuracy')\n",
        "plt.xlabel('Epoch')\n",
        "plt.ylabel('Accuracy')\n",
        "plt.legend()\n",
        "plt.tight_layout()\n",
        "plt.show()"
      ],
      "metadata": {
        "colab": {
          "base_uri": "https://localhost:8080/",
          "height": 407
        },
        "id": "4pqgBsfrSRoF",
        "outputId": "0008ef33-f174-4d2f-a76c-77d4024b3ca1"
      },
      "execution_count": 139,
      "outputs": [
        {
          "output_type": "display_data",
          "data": {
            "text/plain": [
              "<Figure size 1200x400 with 2 Axes>"
            ],
            "image/png": "[encoded data removed]"
          },
          "metadata": {}
        }
      ]
    },
    {
      "cell_type": "code",
      "source": [
        "# 테스트 세트에서 성능 평가\n",
        "test_loss, test_accuracy = model.evaluate(X_test, y_test)\n",
        "y_pred = np.argmax(model.predict(X_test), axis=1)\n",
        "f1 = f1_score(y_test, y_pred, average='weighted')"
      ],
      "metadata": {
        "id": "WS3_X3NFVCft",
        "colab": {
          "base_uri": "https://localhost:8080/"
        },
        "outputId": "59eb5973-551f-4e11-cfe0-80d585cf160a"
      },
      "execution_count": 140,
      "outputs": [
        {
          "output_type": "stream",
          "name": "stdout",
          "text": [
            "\u001b[1m12/12\u001b[0m \u001b[32m━━━━━━━━━━━━━━━━━━━━\u001b[0m\u001b[37m\u001b[0m \u001b[1m3s\u001b[0m 167ms/step - accuracy: 0.6639 - loss: 1.6003\n",
            "\u001b[1m12/12\u001b[0m \u001b[32m━━━━━━━━━━━━━━━━━━━━\u001b[0m\u001b[37m\u001b[0m \u001b[1m6s\u001b[0m 302ms/step\n"
          ]
        }
      ]
    },
    {
      "cell_type": "code",
      "source": [
        "print(test_accuracy)\n",
        "print(test_loss)\n",
        "print(f1)"
      ],
      "metadata": {
        "colab": {
          "base_uri": "https://localhost:8080/"
        },
        "id": "LK8G7JVlrAsN",
        "outputId": "9f9709e4-85cc-4314-e8e6-27a7767d2e04"
      },
      "execution_count": 141,
      "outputs": [
        {
          "output_type": "stream",
          "name": "stdout",
          "text": [
            "0.6499999761581421\n",
            "1.7586936950683594\n",
            "0.6649613861050321\n"
          ]
        }
      ]
    },
    {
      "cell_type": "code",
      "source": [
        "y_pred"
      ],
      "metadata": {
        "colab": {
          "base_uri": "https://localhost:8080/"
        },
        "id": "ekou2vamrLOL",
        "outputId": "c4ee4757-2ac8-41c2-dc3d-5c9863cff7e2"
      },
      "execution_count": 142,
      "outputs": [
        {
          "output_type": "execute_result",
          "data": {
            "text/plain": [
              "array([0, 2, 0, 2, 3, 1, 1, 3, 2, 2, 2, 0, 0, 3, 2, 2, 0, 2, 1, 2, 1, 2,\n",
              "       2, 0, 2, 2, 0, 2, 3, 1, 2, 3, 1, 0, 2, 3, 1, 2, 2, 3, 3, 1, 2, 2,\n",
              "       2, 0, 1, 3, 0, 2, 3, 2, 2, 2, 3, 0, 2, 1, 2, 2, 3, 2, 2, 0, 1, 0,\n",
              "       2, 0, 2, 1, 0, 0, 2, 2, 2, 2, 2, 3, 2, 2, 2, 2, 2, 2, 0, 2, 2, 2,\n",
              "       3, 3, 2, 3, 0, 0, 1, 2, 0, 3, 1, 2, 2, 0, 2, 2, 0, 0, 2, 2, 1, 3,\n",
              "       1, 3, 2, 2, 2, 2, 0, 2, 3, 1, 1, 1, 3, 2, 0, 0, 2, 3, 2, 2, 0, 2,\n",
              "       1, 2, 2, 0, 0, 2, 2, 2, 2, 2, 2, 1, 2, 3, 2, 3, 1, 2, 2, 1, 0, 2,\n",
              "       2, 3, 3, 0, 2, 2, 3, 3, 1, 0, 2, 1, 3, 2, 3, 2, 2, 2, 1, 1, 0, 2,\n",
              "       2, 2, 2, 1, 3, 0, 2, 0, 0, 2, 0, 2, 0, 1, 3, 3, 3, 1, 1, 1, 1, 2,\n",
              "       2, 3, 0, 2, 1, 1, 3, 1, 2, 2, 2, 1, 2, 2, 0, 1, 2, 0, 2, 0, 3, 2,\n",
              "       1, 0, 0, 2, 3, 1, 3, 0, 2, 2, 2, 0, 3, 2, 3, 2, 1, 0, 2, 0, 3, 2,\n",
              "       2, 1, 3, 0, 3, 2, 3, 2, 2, 2, 3, 2, 3, 2, 2, 2, 2, 2, 3, 2, 0, 2,\n",
              "       2, 0, 0, 2, 1, 2, 2, 3, 3, 3, 0, 1, 0, 3, 1, 3, 3, 1, 2, 0, 2, 0,\n",
              "       0, 1, 1, 3, 2, 3, 2, 2, 2, 0, 3, 2, 0, 0, 2, 3, 3, 3, 1, 2, 2, 1,\n",
              "       0, 3, 0, 0, 2, 2, 0, 2, 2, 2, 2, 2, 3, 0, 0, 2, 3, 1, 2, 3, 0, 3,\n",
              "       1, 2, 2, 3, 1, 1, 1, 3, 1, 2, 1, 2, 1, 3, 2, 3, 0, 0, 0, 2, 1, 2,\n",
              "       2, 2, 1, 0, 1, 0, 3, 3, 2, 2, 2, 2, 2, 2, 1, 2, 3, 2, 2, 1, 2, 2,\n",
              "       2, 2, 2, 2, 3, 3])"
            ]
          },
          "metadata": {},
          "execution_count": 142
        }
      ]
    },
    {
      "cell_type": "code",
      "source": [
        "# prompt: 학습결과에 기반하여 혼동행렬 생성\n",
        "\n",
        "from sklearn.metrics import confusion_matrix\n",
        "import seaborn as sns\n",
        "\n",
        "# Assuming y_test and y_pred are already defined from the previous code\n",
        "\n",
        "# Create the confusion matrix\n",
        "cm = confusion_matrix(y_test, y_pred)\n",
        "\n",
        "# Plot the confusion matrix using seaborn\n",
        "plt.figure(figsize=(8, 6))\n",
        "\n",
        "sns.heatmap(cm, annot=True, fmt='d', cmap='Blues',\n",
        "            xticklabels=['Separated', 'Breakage', 'Scratched', 'Crushed'],\n",
        "            yticklabels=['Separated', 'Breakage', 'Scratched', 'Crushed'])\n",
        "plt.xlabel('Predicted')\n",
        "plt.ylabel('True')\n",
        "plt.title('Confusion Matrix')\n",
        "plt.show()"
      ],
      "metadata": {
        "colab": {
          "base_uri": "https://localhost:8080/",
          "height": 564
        },
        "id": "_DAbYGFBrNHj",
        "outputId": "0d7f4f3a-ad81-4bac-fa19-1a6d39e08230"
      },
      "execution_count": 145,
      "outputs": [
        {
          "output_type": "display_data",
          "data": {
            "text/plain": [
              "<Figure size 800x600 with 2 Axes>"
            ],
            "image/png": "[encoded data removed]"
          },
          "metadata": {}
        }
      ]
    },
    {
      "cell_type": "code",
      "source": [
        "# prompt: 학습결과를 바탕으로 혼동행렬을 %로 나타내기\n",
        "\n",
        "import numpy as np\n",
        "import matplotlib.pyplot as plt\n",
        "import seaborn as sns\n",
        "from sklearn.metrics import confusion_matrix\n",
        "\n",
        "# Assuming y_test and y_pred are already defined from the previous code\n",
        "\n",
        "# Create the confusion matrix\n",
        "cm = confusion_matrix(y_test, y_pred)\n",
        "\n",
        "# Calculate percentages\n",
        "cm_percentage = cm.astype('float') / cm.sum(axis=1)[:, np.newaxis]\n",
        "\n",
        "# Plot the confusion matrix using seaborn with percentages\n",
        "plt.figure(figsize=(8, 6))\n",
        "sns.heatmap(cm_percentage, annot=True, fmt='.2f', cmap='Blues',\n",
        "            xticklabels=['Separated', 'Breakage', 'Scratched', 'Crushed'],\n",
        "            yticklabels=['Separated', 'Breakage', 'Scratched', 'Crushed'])\n",
        "plt.xlabel('Predicted')\n",
        "plt.ylabel('True')\n",
        "plt.title('Confusion Matrix')\n",
        "plt.show()"
      ],
      "metadata": {
        "colab": {
          "base_uri": "https://localhost:8080/",
          "height": 564
        },
        "id": "r6reL9u75JHQ",
        "outputId": "d5204312-3bdc-4fdb-d7fc-074b6de7b224"
      },
      "execution_count": 146,
      "outputs": [
        {
          "output_type": "display_data",
          "data": {
            "text/plain": [
              "<Figure size 800x600 with 2 Axes>"
            ],
            "image/png": "[encoded data removed]"
          },
          "metadata": {}
        }
      ]
    },
    {
      "cell_type": "code",
      "source": [],
      "metadata": {
        "id": "xLnghZye5RvP"
      },
      "execution_count": null,
      "outputs": []
    }
  ]
}